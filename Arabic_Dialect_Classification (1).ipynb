{
  "nbformat": 4,
  "nbformat_minor": 0,
  "metadata": {
    "colab": {
      "provenance": [],
      "gpuType": "T4"
    },
    "kernelspec": {
      "name": "python3",
      "display_name": "Python 3"
    },
    "language_info": {
      "name": "python"
    },
    "accelerator": "GPU"
  },
  "cells": [
    {
      "cell_type": "markdown",
      "source": [
        "**<p align = 'center'>   😃  Arabic Dialects Classification**"
      ],
      "metadata": {
        "id": "Mk0MvqNpEw-Z"
      }
    },
    {
      "cell_type": "markdown",
      "source": [
        "# **Objective**:\n",
        "\n",
        "#### Many countries speak Arabic. However, Each country has its own dialect, the aim of this task is to build a model that predicts the dialect given the text."
      ],
      "metadata": {
        "id": "9UmFgdm4Gwch"
      }
    },
    {
      "cell_type": "markdown",
      "source": [
        "##Import Necessary Libraries"
      ],
      "metadata": {
        "id": "YZVom_CR8uqc"
      }
    },
    {
      "cell_type": "code",
      "source": [
        "!pip install contractions  pyarabic"
      ],
      "metadata": {
        "colab": {
          "base_uri": "https://localhost:8080/"
        },
        "collapsed": true,
        "id": "Nzf3uHBYnrFY",
        "outputId": "1f459b14-7a8b-4903-93c0-e942ef606477"
      },
      "execution_count": null,
      "outputs": [
        {
          "output_type": "stream",
          "name": "stdout",
          "text": [
            "Collecting contractions\n",
            "  Downloading contractions-0.1.73-py2.py3-none-any.whl (8.7 kB)\n",
            "Collecting pyarabic\n",
            "  Downloading PyArabic-0.6.15-py3-none-any.whl (126 kB)\n",
            "\u001b[2K     \u001b[90m━━━━━━━━━━━━━━━━━━━━━━━━━━━━━━━━━━━━━━━━\u001b[0m \u001b[32m126.4/126.4 kB\u001b[0m \u001b[31m3.9 MB/s\u001b[0m eta \u001b[36m0:00:00\u001b[0m\n",
            "\u001b[?25hCollecting textsearch>=0.0.21 (from contractions)\n",
            "  Downloading textsearch-0.0.24-py2.py3-none-any.whl (7.6 kB)\n",
            "Requirement already satisfied: six>=1.14.0 in /usr/local/lib/python3.10/dist-packages (from pyarabic) (1.16.0)\n",
            "Collecting anyascii (from textsearch>=0.0.21->contractions)\n",
            "  Downloading anyascii-0.3.2-py3-none-any.whl (289 kB)\n",
            "\u001b[2K     \u001b[90m━━━━━━━━━━━━━━━━━━━━━━━━━━━━━━━━━━━━━━━━\u001b[0m \u001b[32m289.9/289.9 kB\u001b[0m \u001b[31m6.4 MB/s\u001b[0m eta \u001b[36m0:00:00\u001b[0m\n",
            "\u001b[?25hCollecting pyahocorasick (from textsearch>=0.0.21->contractions)\n",
            "  Downloading pyahocorasick-2.1.0-cp310-cp310-manylinux_2_5_x86_64.manylinux1_x86_64.manylinux_2_12_x86_64.manylinux2010_x86_64.whl (110 kB)\n",
            "\u001b[2K     \u001b[90m━━━━━━━━━━━━━━━━━━━━━━━━━━━━━━━━━━━━━━━━\u001b[0m \u001b[32m110.7/110.7 kB\u001b[0m \u001b[31m6.3 MB/s\u001b[0m eta \u001b[36m0:00:00\u001b[0m\n",
            "\u001b[?25hInstalling collected packages: pyarabic, pyahocorasick, anyascii, textsearch, contractions\n",
            "Successfully installed anyascii-0.3.2 contractions-0.1.73 pyahocorasick-2.1.0 pyarabic-0.6.15 textsearch-0.0.24\n"
          ]
        }
      ]
    },
    {
      "cell_type": "code",
      "source": [
        "pip install livelossplot"
      ],
      "metadata": {
        "id": "jLs1IOcPpvFC",
        "colab": {
          "base_uri": "https://localhost:8080/"
        },
        "outputId": "14b613e0-249f-4b8f-e846-d9ecb69a8dbb"
      },
      "execution_count": null,
      "outputs": [
        {
          "output_type": "stream",
          "name": "stdout",
          "text": [
            "Collecting livelossplot\n",
            "  Downloading livelossplot-0.5.5-py3-none-any.whl (22 kB)\n",
            "Requirement already satisfied: matplotlib in /usr/local/lib/python3.10/dist-packages (from livelossplot) (3.7.1)\n",
            "Requirement already satisfied: bokeh in /usr/local/lib/python3.10/dist-packages (from livelossplot) (3.3.4)\n",
            "Requirement already satisfied: Jinja2>=2.9 in /usr/local/lib/python3.10/dist-packages (from bokeh->livelossplot) (3.1.4)\n",
            "Requirement already satisfied: contourpy>=1 in /usr/local/lib/python3.10/dist-packages (from bokeh->livelossplot) (1.2.1)\n",
            "Requirement already satisfied: numpy>=1.16 in /usr/local/lib/python3.10/dist-packages (from bokeh->livelossplot) (1.25.2)\n",
            "Requirement already satisfied: packaging>=16.8 in /usr/local/lib/python3.10/dist-packages (from bokeh->livelossplot) (24.0)\n",
            "Requirement already satisfied: pandas>=1.2 in /usr/local/lib/python3.10/dist-packages (from bokeh->livelossplot) (2.0.3)\n",
            "Requirement already satisfied: pillow>=7.1.0 in /usr/local/lib/python3.10/dist-packages (from bokeh->livelossplot) (9.4.0)\n",
            "Requirement already satisfied: PyYAML>=3.10 in /usr/local/lib/python3.10/dist-packages (from bokeh->livelossplot) (6.0.1)\n",
            "Requirement already satisfied: tornado>=5.1 in /usr/local/lib/python3.10/dist-packages (from bokeh->livelossplot) (6.3.3)\n",
            "Requirement already satisfied: xyzservices>=2021.09.1 in /usr/local/lib/python3.10/dist-packages (from bokeh->livelossplot) (2024.4.0)\n",
            "Requirement already satisfied: cycler>=0.10 in /usr/local/lib/python3.10/dist-packages (from matplotlib->livelossplot) (0.12.1)\n",
            "Requirement already satisfied: fonttools>=4.22.0 in /usr/local/lib/python3.10/dist-packages (from matplotlib->livelossplot) (4.51.0)\n",
            "Requirement already satisfied: kiwisolver>=1.0.1 in /usr/local/lib/python3.10/dist-packages (from matplotlib->livelossplot) (1.4.5)\n",
            "Requirement already satisfied: pyparsing>=2.3.1 in /usr/local/lib/python3.10/dist-packages (from matplotlib->livelossplot) (3.1.2)\n",
            "Requirement already satisfied: python-dateutil>=2.7 in /usr/local/lib/python3.10/dist-packages (from matplotlib->livelossplot) (2.8.2)\n",
            "Requirement already satisfied: MarkupSafe>=2.0 in /usr/local/lib/python3.10/dist-packages (from Jinja2>=2.9->bokeh->livelossplot) (2.1.5)\n",
            "Requirement already satisfied: pytz>=2020.1 in /usr/local/lib/python3.10/dist-packages (from pandas>=1.2->bokeh->livelossplot) (2023.4)\n",
            "Requirement already satisfied: tzdata>=2022.1 in /usr/local/lib/python3.10/dist-packages (from pandas>=1.2->bokeh->livelossplot) (2024.1)\n",
            "Requirement already satisfied: six>=1.5 in /usr/local/lib/python3.10/dist-packages (from python-dateutil>=2.7->matplotlib->livelossplot) (1.16.0)\n",
            "Installing collected packages: livelossplot\n",
            "Successfully installed livelossplot-0.5.5\n"
          ]
        }
      ]
    },
    {
      "cell_type": "code",
      "source": [
        "import pandas as pd\n",
        "import numpy as np\n",
        "import re\n",
        "import string\n",
        "import contractions\n",
        "import nltk\n",
        "import pyarabic.araby as araby\n",
        "from nltk.corpus import stopwords\n",
        "from nltk.stem import ISRIStemmer\n",
        "from string import punctuation\n",
        "from sklearn.model_selection import train_test_split\n",
        "from sklearn.preprocessing import LabelEncoder\n",
        "from sklearn.feature_extraction.text import TfidfVectorizer\n",
        "from sklearn.linear_model import LogisticRegression\n",
        "from sklearn.metrics import precision_score, accuracy_score, classification_report\n"
      ],
      "metadata": {
        "id": "YgsxbhBI8uHd"
      },
      "execution_count": null,
      "outputs": []
    },
    {
      "cell_type": "code",
      "source": [
        "import tensorflow as tf\n",
        "from tensorflow.keras.preprocessing.text import Tokenizer\n",
        "from tensorflow.keras.preprocessing.sequence import pad_sequences\n",
        "from tensorflow.keras.models import Sequential\n",
        "from tensorflow.keras.layers import Embedding, GRU, Dense\n",
        "from tensorflow.keras.callbacks import EarlyStopping\n",
        "from tensorflow.keras.utils import to_categorical\n",
        "from tensorflow.keras import Model, Input\n",
        "from tensorflow.keras.layers import LSTM, Embedding, Dense\n",
        "from tensorflow.keras.layers import TimeDistributed, SpatialDropout1D, Bidirectional\n",
        "from tensorflow.keras.callbacks import ModelCheckpoint, EarlyStopping\n",
        "from livelossplot.tf_keras import PlotLossesCallback"
      ],
      "metadata": {
        "id": "pXwjXg1LAwfb"
      },
      "execution_count": null,
      "outputs": []
    },
    {
      "cell_type": "code",
      "source": [
        "nltk.download('stopwords')"
      ],
      "metadata": {
        "colab": {
          "base_uri": "https://localhost:8080/"
        },
        "id": "ZDlx98Ln9jAz",
        "outputId": "a66f2d1b-c476-41b6-e789-ffb2ed3c66eb"
      },
      "execution_count": null,
      "outputs": [
        {
          "output_type": "stream",
          "name": "stderr",
          "text": [
            "[nltk_data] Downloading package stopwords to /root/nltk_data...\n",
            "[nltk_data]   Unzipping corpora/stopwords.zip.\n"
          ]
        },
        {
          "output_type": "execute_result",
          "data": {
            "text/plain": [
              "True"
            ]
          },
          "metadata": {},
          "execution_count": 5
        }
      ]
    },
    {
      "cell_type": "markdown",
      "source": [
        "##Load Data"
      ],
      "metadata": {
        "id": "oyTKEo4V8EX-"
      }
    },
    {
      "cell_type": "code",
      "source": [
        "from google.colab import drive\n",
        "drive.mount('/content/drive')"
      ],
      "metadata": {
        "colab": {
          "base_uri": "https://localhost:8080/"
        },
        "id": "TOFjRShEoLr5",
        "outputId": "9d810ed3-0479-4024-c052-3c7bd020e7b7",
        "collapsed": true
      },
      "execution_count": null,
      "outputs": [
        {
          "output_type": "stream",
          "name": "stdout",
          "text": [
            "Mounted at /content/drive\n"
          ]
        }
      ]
    },
    {
      "cell_type": "code",
      "execution_count": null,
      "metadata": {
        "id": "DGdDkAYV7_vZ"
      },
      "outputs": [],
      "source": [
        "df = pd.read_csv('/content/drive/MyDrive/dialects_database.csv')"
      ]
    },
    {
      "cell_type": "code",
      "source": [
        "pd.set_option('display.max_rows',500)\n",
        "pd.set_option('display.max_colwidth',500)"
      ],
      "metadata": {
        "id": "xZ1ld-CI_hBT"
      },
      "execution_count": null,
      "outputs": []
    },
    {
      "cell_type": "code",
      "source": [
        "df.head(50)"
      ],
      "metadata": {
        "colab": {
          "base_uri": "https://localhost:8080/",
          "height": 1000
        },
        "id": "8MbfEjC1_qGl",
        "outputId": "d898097b-c2e3-4968-cf5a-70f7f38dc867"
      },
      "execution_count": null,
      "outputs": [
        {
          "output_type": "execute_result",
          "data": {
            "text/plain": [
              "                     id  \\\n",
              "0   1009754958479151232   \n",
              "1   1009794751548313600   \n",
              "2   1019989115490787200   \n",
              "3   1035479791758135168   \n",
              "4   1035481122921164800   \n",
              "5    877881537122979840   \n",
              "6    882940840888471552   \n",
              "7    882941769444466688   \n",
              "8    882943694906818560   \n",
              "9    884736569118261248   \n",
              "10   885424032681787392   \n",
              "11   885489129500311552   \n",
              "12   887981437642780672   \n",
              "13   887983777661812736   \n",
              "14   889442240703213568   \n",
              "15   889523960915918848   \n",
              "16   889524145733734400   \n",
              "17   889787073032585216   \n",
              "18   895660190267187200   \n",
              "19   897493142202613760   \n",
              "20   897494670758088704   \n",
              "21   897495338990415872   \n",
              "22   897495659057754112   \n",
              "23   897496275196760064   \n",
              "24   898481556486053888   \n",
              "25   904739253833302016   \n",
              "26   904934740729503616   \n",
              "27   905099818346832000   \n",
              "28   907630925525131264   \n",
              "29   907989965950341248   \n",
              "30   934006712478072832   \n",
              "31   934073074571411584   \n",
              "32   949311937074139136   \n",
              "33   953620690778894336   \n",
              "34   956579358461833216   \n",
              "35   964450503437451264   \n",
              "36   974642506955706368   \n",
              "37   976436530867826816   \n",
              "38   977166121383194624   \n",
              "39   992003468993945600   \n",
              "40   994880703866265600   \n",
              "41  1070725944489447424   \n",
              "42  1070739263988424832   \n",
              "43  1071073563682193408   \n",
              "44  1071672216868282368   \n",
              "45  1071690722745700352   \n",
              "46  1071696539574243200   \n",
              "47  1071704703942176768   \n",
              "48  1071770187265916800   \n",
              "49  1074203134577250432   \n",
              "\n",
              "                                                                                                                                                                                                                                                                                                        text  \\\n",
              "0                                                                                                                                                                                         @toha_Altomy @gy_yah قليلين ادب ومنافقين. لو اختهم او قريبتهم تتعاكس تقولي عليهم من نشاط حقوق المرأة من ردة فعلهم.   \n",
              "1                                                                                                                                                                                                                                  @AlmFaisal 😂😂 الليبيين متقلبين!!!\\nبس بالنسبة ليا انا ميليشياوي زمان وتوة   \n",
              "2                                                               @smsm071990 @ALMOGRBE كل 20 تانيه شاب ليبي بيرتاح لبنت مختلفة ويلاحظ انها غير كل البنات وبيحس كأنه يعرفها من زمان. بعدين يتزوج وحدة منهن وممكن اثنين ولاثلاثة وتنقلب الرومانسية لعياط وشياط وتهزيب\\nand they live happily ever after\\nذي اند   \n",
              "3   @AboryPro @lyranoo85 رانيا عقليتك متخلفة. اولا الانسان يلي يحتاج اهل يخاف منهم علشان يكون محترم هو انسان قليل الادب اصلاً. ثانياً شن ذنب يلي معندهش اب ولا ام ولا خوت ولا خوات؟ يعني اليتيمة متستحقش تتزوج؟ وثالثاً ليش البنت هي بس لازم ادير الف حساب للراجل؟ هي متستحقش يندارلها الف حساب ولا هي عبدة؟   \n",
              "4                                                                                                                                                                                         @lyranoo85 شكلك متعقدة علشان الراجل لي تحبيه ازوج بنت يتيمة ولا بنت معندهش خوت. هدي اعصابك وفكينا من التخلف امتاعك   \n",
              "5                                                                                                                                                                                                                                   @alibobkr63 او حتى من اي دين او طائفة. اسف ممكن الغلط غلطتي بس مكنش قصدي   \n",
              "6                                                                                                                                                                                                                                                             @muhamed01111 باهي نستنوه. بلكي مشغول ولا حاجة   \n",
              "7                                                                                                                                                 @muhamed01111 مهما اختلفنا راه نحنا خوت. والله ما عندي عدا على واحد. انا فرحان نقدر انروح لحوشنا وفرحان للناس الاخرى الفرحانة. ربي يفرجها عليك وعلينا كلنا   \n",
              "8                                                                                                                                                                                                                        @muhamed01111 بالنسبة ليا انا والله شبعت هم ونكد وقتل ودم والحقد. الله يهدينا جميعا   \n",
              "9                                                                                                                                                                                                   @Ajo32asLibya @Jed_ly مو نحنا الحياة عندنا مية في مية ومعندش شي اندكوا راسنا فيه الا لبس الشورتات.\\nتخلف   \n",
              "10                                                                                                                                                                                                                               @Fabbenghazi تبي تقضي على متطرفين باهي بس متظلمش مجتمع كامل. هذا ايضاً تطرف   \n",
              "11                                                                                                                                                                                                               @aldocosta0701 @libyanelshiply ان شاءالله توة تحررت بنغازي يرجع السلاح في يد افراد الامن بس   \n",
              "12                                                                                                                                                                                                                                   @koshalata_ly هذي التغريدة تفضلي اقريها من جديد https://t.co/N2SNxRfgKF   \n",
              "13                                                                                                                                                                                                                                       @koshalata_ly توة تحرضي للعنف وتقولي ان فكرك مش داعشي. متربية والله   \n",
              "14                                                                                                                                                                          @b___82 اوكي يحجزوهم لعند منقدروا نحاكموهم. بس التصرفات هذه كيف تصرفات داعش بالزبط. يعني توة قاعدين نقلد الارهابيين؟ معقولة هكي.   \n",
              "15                                                                                                                                      @Aljweli @LNASpox @lnaspox_ar باهي لازم يحكموهم قدام محكمة عسكرية ولا جنائية ولو حكموهم بالاعدام ففي ستين داهية. بس لم نخلوا افراد يعدموا عى كيفهم والله الفوضى تعم.   \n",
              "16                                                                                                                                                                                       @Aljweli @LNASpox @lnaspox_ar انا مية في المية مع الجيش بس الحجات هذي هي لي حتخلي ناس واجد تتخلى عن الجيش هذي مصيبة   \n",
              "17                                                                                                                                                                                                                                   @libyanelshiply حسب الخبر هضا الموضوع اشاعات بس https://t.co/iUuQT2xc9M   \n",
              "18                                                                                                                                                                                                                   @_najatahmed_ فالحين بس في دك خشومهم في السياسة والتحريض وطبعاً شغلهم الشاغل وهو النساء   \n",
              "19                                                                                                                                                                     @saki_fallah بس انا مش حنعطي ولا واحد منهم اكثر من الثاني. هكي وصيتي. على ما اعتقد هضا مش حرام. لو هما يبوا التقسيم الشرعي فهما احرار   \n",
              "20                                                                                                                                                 @saki_fallah ياما شفت بنات مطلقات مرميات منغير مستقبل.المهر مايساوي شي وخوتها لاهيين في حواشينهم.انخليلها حاجة تقدر تتكي عليها احسن من الاعتماد على زوجها   \n",
              "21                                                                                                                                                                                @saki_fallah لو يذلها متقعدش معاه. تسيبه وتقدر تصبي على رجليها من غير ميجمل عليها حد. طبعاً هضا رأي الشخصي وكل واحد حر :-)   \n",
              "22                                                                                                                                                                   @saki_fallah انا بس نتكلم من تجربتي في الحياة. والله ياما شفت من ظلم للبنات. من اقاربي وغيرهن. والله العظيم مستحيل انخلي هكي يصير لبنتي   \n",
              "23                                                                                                                                                                                                                                                        @saki_fallah بس ان شاءالله ربي يرزقك بولد حلال :-)   \n",
              "24                                                                                                                                                          @654abds مستحيل بشر يعملوا هكي. هضوما مريضين نفسياً ولا واخدين مخدرات ولا حاجة هكي. والله تسميتهم حيوانات إهانة في مخلوقات الله. الله ينتقم منهم   \n",
              "25                                                                                                                                                                                                                                @hnanomar 😂 😂 😂 😂 شكراً توة فهمت من وين جت هذي بس بالله عليكم شنو قصده؟!!!   \n",
              "26                                                                                                                                                       @ayanoorkenzi بس ممكن تعطيني الرابط امتاع البرنامج لي فيه الكارتون علشان نتفرج عليه وانديرلا ريتويت وننشره على الفيسبوك. شكراً والبتوفيق إن شاءالله   \n",
              "27                                                                                                                                                      @magicofcoffee الله يستر. عمتي مرمية في مستشفى فاضي في غيبوبة و4 اقارب حتى هما في المستشفى منغير اي خدمات. والله خلاص معشنقدروا نتحملوا. الله يصبرنا   \n",
              "28                                                                                                                                                                                                      @IdreesAlgwie1 @3laa_Cyrenaica والله اشكال ادره الكبد. توة صارلي اكتاب بجد. لا حول ولا قوة الا بالله   \n",
              "29                                                                                                                                                                          @AlmFaisal مش مسألة اصابع يدي بس ظروف الناس مش زي بعضها ولا يحق لي ان احكم عليهم. انتا هضا رأيك وانتا حر فيه اكيد. والله اعلم 😊❤   \n",
              "30                                                                                                                                                                                                                                                  @iHallucinate_e تي شن قصده؟!!! بشرونا راه غامة علينا بكل   \n",
              "31                                                                                                                                                                                                                                                       @fish_aliwa @dirarshk بس واحد منهم عادتاً بدري شوية   \n",
              "32                                                                                                                                                                      @safymomen42 @Ben_Mussa الاسبانيين يحتفلوا بالطماطم والهنود بألالوان السمحة ونحنا بزيت سيارات اسود كيف بختنا https://t.co/zNd8Kzgt0S   \n",
              "33                                                                                                                                                                                              @WygiVlZ3ibkSBg6 عدد لا باس به. تقريباً ثلث سكان ليبيا. طبعاً الاطفال ميقدروش يصوتو فالعدد هضا يعني عدد كبير   \n",
              "34                                                                        @ranoo85ly بس كيف تعرفي ان هما داروا لقالولونا داروه بدون محاكمة؟ حتى اساميهم منعرفوهن. شن عرفنا شن قصتهم؟ الارهابيين في ستين داهية بس لازم المحاكمة ولا حتى الدولة تقعد همجية ولي يبي يقتل يقتل على كيفه. الكلام هضا ميجيش بصراحة   \n",
              "35                                                                                                                                                                                                                     @HamzaBelhadj10 ممكن يقصد ابادة مش تطهير عرقي! الراجل دايخ ولا معيرفش شن معنى \"العرق\"   \n",
              "36                   @dou1001 ابن وبنت عمتي عندهم نفس المرض. للاسف مفيش علاج في بنغازي ولا حتى ابسط المستلزمات زي القارزات الخاصة. القارزات العادية تمزق الجلد امتاعهم. كانوا يعدوا بيهم لبريطانيا بس توة مفيش فلوس ولا دولة تهتم. للاسف حالتهم من اسواء لأسواء كل يوم. ربي يشفيهم ويشفي البت هذي ان شاءالله   \n",
              "37                        تقرير:\"829 ألف دولار صادرات #ليبيا من الأسمنت المصري العام الماضي\"\\nليبيا تبيلها اسمينتو واجد علشان تنبنا من جديد والله يا ريت يشغلو مصانع الاسمينتو امتاعنا لأن العمالة والمصانع الليبية والاقتصاد الليبي اولى بالارباح هذي. نبو استقرار وسلام علشان نبنو بلادنا ونحركوا الاقتصاد   \n",
              "38                       علي شاهيها لي زمان على شاهيها.. علي شاهيها وتشكشيك حدايد ديها \\nعلي طاستها مليانة تجيني برغوتها.. تجيني برغوتها مع ضحكة ساعة مدتها\\nفي بالي ماني ناسيها علي شاهيها لي زمان علي شاهيها.\\n\\nالله يرحمك ويسامحك يا #جمال_عاشور. \\n#بنغازي  💔\\n#ليبيا #السلماني https://t.co/6cA55gEl5E   \n",
              "39                                                    @abdaljalil89 @gy_yah شنو بيستفيدو من الهجوم على جامعة ولا مدرسة ولا جامع ولا على سوق فيه مدنيين ولا على بوابة مليانة سيارات فيها عائلات ولا يدعسوا مدنيين عاديين في اوروبا ولا يفجرو مطار فيه اطفال ولا ولا ولا.....؟؟ وبعدين هما لي اعترفوا بالتفجير   \n",
              "40                                                                                                                                                    @beckonofhope مش عارف وين عايشين السياسيين هضوما. انا مش مستغرب منهم يطلعونا بعد كم يوم ويقولوا عندهم خطة لبناء مستعمرة ليبية على سطح القمر ولا المريخ   \n",
              "41                                                                                                                                                                                                                                                                 @36LScHd6e7DjREI شن القصة لو عندك معلومات   \n",
              "42                                                                                                                                                                                                                          على سيرة الشخصيات المؤثرة على السوشيال ميديا الليبية، هل تعتبر نفسك شخصية مؤثرة؟   \n",
              "43                                                                                                                                                                                                                                                                      @Fatima_Obidy السؤال مش شوره معناها😁   \n",
              "44                                                                                                                                                                                                                                                                    @AbsRadan يومك مبارك إن شاء الله عزيز.   \n",
              "45                                                                                                                                                                                                                                                                        @MoheBishte بارك الله فيك خوي محي.   \n",
              "46                                                                                                                                                                                                                                                                          @Candam1Sami صباح الفرح خوي سامي   \n",
              "47                                                                                                                                                                                                                                                                   @YOUNIS_ALSERTAW بارك الله فيك خوي يونس   \n",
              "48                                                                                                                                                                                                                                                               @wasimalkatawy تسلم يا باشا، وين ملقيت حد 😅   \n",
              "49                                                                                                                                                                                                                                                        @sooma_khlaf لكن الريح مفيش بصارة غادي، يومك مبارك   \n",
              "\n",
              "   dialect  \n",
              "0       LY  \n",
              "1       LY  \n",
              "2       LY  \n",
              "3       LY  \n",
              "4       LY  \n",
              "5       LY  \n",
              "6       LY  \n",
              "7       LY  \n",
              "8       LY  \n",
              "9       LY  \n",
              "10      LY  \n",
              "11      LY  \n",
              "12      LY  \n",
              "13      LY  \n",
              "14      LY  \n",
              "15      LY  \n",
              "16      LY  \n",
              "17      LY  \n",
              "18      LY  \n",
              "19      LY  \n",
              "20      LY  \n",
              "21      LY  \n",
              "22      LY  \n",
              "23      LY  \n",
              "24      LY  \n",
              "25      LY  \n",
              "26      LY  \n",
              "27      LY  \n",
              "28      LY  \n",
              "29      LY  \n",
              "30      LY  \n",
              "31      LY  \n",
              "32      LY  \n",
              "33      LY  \n",
              "34      LY  \n",
              "35      LY  \n",
              "36      LY  \n",
              "37      LY  \n",
              "38      LY  \n",
              "39      LY  \n",
              "40      LY  \n",
              "41      LY  \n",
              "42      LY  \n",
              "43      LY  \n",
              "44      LY  \n",
              "45      LY  \n",
              "46      LY  \n",
              "47      LY  \n",
              "48      LY  \n",
              "49      LY  "
            ],
            "text/html": [
              "\n",
              "  <div id=\"df-c37a2b8e-69f3-4a33-aa89-2c927a2198ef\" class=\"colab-df-container\">\n",
              "    <div>\n",
              "<style scoped>\n",
              "    .dataframe tbody tr th:only-of-type {\n",
              "        vertical-align: middle;\n",
              "    }\n",
              "\n",
              "    .dataframe tbody tr th {\n",
              "        vertical-align: top;\n",
              "    }\n",
              "\n",
              "    .dataframe thead th {\n",
              "        text-align: right;\n",
              "    }\n",
              "</style>\n",
              "<table border=\"1\" class=\"dataframe\">\n",
              "  <thead>\n",
              "    <tr style=\"text-align: right;\">\n",
              "      <th></th>\n",
              "      <th>id</th>\n",
              "      <th>text</th>\n",
              "      <th>dialect</th>\n",
              "    </tr>\n",
              "  </thead>\n",
              "  <tbody>\n",
              "    <tr>\n",
              "      <th>0</th>\n",
              "      <td>1009754958479151232</td>\n",
              "      <td>@toha_Altomy @gy_yah قليلين ادب ومنافقين. لو اختهم او قريبتهم تتعاكس تقولي عليهم من نشاط حقوق المرأة من ردة فعلهم.</td>\n",
              "      <td>LY</td>\n",
              "    </tr>\n",
              "    <tr>\n",
              "      <th>1</th>\n",
              "      <td>1009794751548313600</td>\n",
              "      <td>@AlmFaisal 😂😂 الليبيين متقلبين!!!\\nبس بالنسبة ليا انا ميليشياوي زمان وتوة</td>\n",
              "      <td>LY</td>\n",
              "    </tr>\n",
              "    <tr>\n",
              "      <th>2</th>\n",
              "      <td>1019989115490787200</td>\n",
              "      <td>@smsm071990 @ALMOGRBE كل 20 تانيه شاب ليبي بيرتاح لبنت مختلفة ويلاحظ انها غير كل البنات وبيحس كأنه يعرفها من زمان. بعدين يتزوج وحدة منهن وممكن اثنين ولاثلاثة وتنقلب الرومانسية لعياط وشياط وتهزيب\\nand they live happily ever after\\nذي اند</td>\n",
              "      <td>LY</td>\n",
              "    </tr>\n",
              "    <tr>\n",
              "      <th>3</th>\n",
              "      <td>1035479791758135168</td>\n",
              "      <td>@AboryPro @lyranoo85 رانيا عقليتك متخلفة. اولا الانسان يلي يحتاج اهل يخاف منهم علشان يكون محترم هو انسان قليل الادب اصلاً. ثانياً شن ذنب يلي معندهش اب ولا ام ولا خوت ولا خوات؟ يعني اليتيمة متستحقش تتزوج؟ وثالثاً ليش البنت هي بس لازم ادير الف حساب للراجل؟ هي متستحقش يندارلها الف حساب ولا هي عبدة؟</td>\n",
              "      <td>LY</td>\n",
              "    </tr>\n",
              "    <tr>\n",
              "      <th>4</th>\n",
              "      <td>1035481122921164800</td>\n",
              "      <td>@lyranoo85 شكلك متعقدة علشان الراجل لي تحبيه ازوج بنت يتيمة ولا بنت معندهش خوت. هدي اعصابك وفكينا من التخلف امتاعك</td>\n",
              "      <td>LY</td>\n",
              "    </tr>\n",
              "    <tr>\n",
              "      <th>5</th>\n",
              "      <td>877881537122979840</td>\n",
              "      <td>@alibobkr63 او حتى من اي دين او طائفة. اسف ممكن الغلط غلطتي بس مكنش قصدي</td>\n",
              "      <td>LY</td>\n",
              "    </tr>\n",
              "    <tr>\n",
              "      <th>6</th>\n",
              "      <td>882940840888471552</td>\n",
              "      <td>@muhamed01111 باهي نستنوه. بلكي مشغول ولا حاجة</td>\n",
              "      <td>LY</td>\n",
              "    </tr>\n",
              "    <tr>\n",
              "      <th>7</th>\n",
              "      <td>882941769444466688</td>\n",
              "      <td>@muhamed01111 مهما اختلفنا راه نحنا خوت. والله ما عندي عدا على واحد. انا فرحان نقدر انروح لحوشنا وفرحان للناس الاخرى الفرحانة. ربي يفرجها عليك وعلينا كلنا</td>\n",
              "      <td>LY</td>\n",
              "    </tr>\n",
              "    <tr>\n",
              "      <th>8</th>\n",
              "      <td>882943694906818560</td>\n",
              "      <td>@muhamed01111 بالنسبة ليا انا والله شبعت هم ونكد وقتل ودم والحقد. الله يهدينا جميعا</td>\n",
              "      <td>LY</td>\n",
              "    </tr>\n",
              "    <tr>\n",
              "      <th>9</th>\n",
              "      <td>884736569118261248</td>\n",
              "      <td>@Ajo32asLibya @Jed_ly مو نحنا الحياة عندنا مية في مية ومعندش شي اندكوا راسنا فيه الا لبس الشورتات.\\nتخلف</td>\n",
              "      <td>LY</td>\n",
              "    </tr>\n",
              "    <tr>\n",
              "      <th>10</th>\n",
              "      <td>885424032681787392</td>\n",
              "      <td>@Fabbenghazi تبي تقضي على متطرفين باهي بس متظلمش مجتمع كامل. هذا ايضاً تطرف</td>\n",
              "      <td>LY</td>\n",
              "    </tr>\n",
              "    <tr>\n",
              "      <th>11</th>\n",
              "      <td>885489129500311552</td>\n",
              "      <td>@aldocosta0701 @libyanelshiply ان شاءالله توة تحررت بنغازي يرجع السلاح في يد افراد الامن بس</td>\n",
              "      <td>LY</td>\n",
              "    </tr>\n",
              "    <tr>\n",
              "      <th>12</th>\n",
              "      <td>887981437642780672</td>\n",
              "      <td>@koshalata_ly هذي التغريدة تفضلي اقريها من جديد https://t.co/N2SNxRfgKF</td>\n",
              "      <td>LY</td>\n",
              "    </tr>\n",
              "    <tr>\n",
              "      <th>13</th>\n",
              "      <td>887983777661812736</td>\n",
              "      <td>@koshalata_ly توة تحرضي للعنف وتقولي ان فكرك مش داعشي. متربية والله</td>\n",
              "      <td>LY</td>\n",
              "    </tr>\n",
              "    <tr>\n",
              "      <th>14</th>\n",
              "      <td>889442240703213568</td>\n",
              "      <td>@b___82 اوكي يحجزوهم لعند منقدروا نحاكموهم. بس التصرفات هذه كيف تصرفات داعش بالزبط. يعني توة قاعدين نقلد الارهابيين؟ معقولة هكي.</td>\n",
              "      <td>LY</td>\n",
              "    </tr>\n",
              "    <tr>\n",
              "      <th>15</th>\n",
              "      <td>889523960915918848</td>\n",
              "      <td>@Aljweli @LNASpox @lnaspox_ar باهي لازم يحكموهم قدام محكمة عسكرية ولا جنائية ولو حكموهم بالاعدام ففي ستين داهية. بس لم نخلوا افراد يعدموا عى كيفهم والله الفوضى تعم.</td>\n",
              "      <td>LY</td>\n",
              "    </tr>\n",
              "    <tr>\n",
              "      <th>16</th>\n",
              "      <td>889524145733734400</td>\n",
              "      <td>@Aljweli @LNASpox @lnaspox_ar انا مية في المية مع الجيش بس الحجات هذي هي لي حتخلي ناس واجد تتخلى عن الجيش هذي مصيبة</td>\n",
              "      <td>LY</td>\n",
              "    </tr>\n",
              "    <tr>\n",
              "      <th>17</th>\n",
              "      <td>889787073032585216</td>\n",
              "      <td>@libyanelshiply حسب الخبر هضا الموضوع اشاعات بس https://t.co/iUuQT2xc9M</td>\n",
              "      <td>LY</td>\n",
              "    </tr>\n",
              "    <tr>\n",
              "      <th>18</th>\n",
              "      <td>895660190267187200</td>\n",
              "      <td>@_najatahmed_ فالحين بس في دك خشومهم في السياسة والتحريض وطبعاً شغلهم الشاغل وهو النساء</td>\n",
              "      <td>LY</td>\n",
              "    </tr>\n",
              "    <tr>\n",
              "      <th>19</th>\n",
              "      <td>897493142202613760</td>\n",
              "      <td>@saki_fallah بس انا مش حنعطي ولا واحد منهم اكثر من الثاني. هكي وصيتي. على ما اعتقد هضا مش حرام. لو هما يبوا التقسيم الشرعي فهما احرار</td>\n",
              "      <td>LY</td>\n",
              "    </tr>\n",
              "    <tr>\n",
              "      <th>20</th>\n",
              "      <td>897494670758088704</td>\n",
              "      <td>@saki_fallah ياما شفت بنات مطلقات مرميات منغير مستقبل.المهر مايساوي شي وخوتها لاهيين في حواشينهم.انخليلها حاجة تقدر تتكي عليها احسن من الاعتماد على زوجها</td>\n",
              "      <td>LY</td>\n",
              "    </tr>\n",
              "    <tr>\n",
              "      <th>21</th>\n",
              "      <td>897495338990415872</td>\n",
              "      <td>@saki_fallah لو يذلها متقعدش معاه. تسيبه وتقدر تصبي على رجليها من غير ميجمل عليها حد. طبعاً هضا رأي الشخصي وكل واحد حر :-)</td>\n",
              "      <td>LY</td>\n",
              "    </tr>\n",
              "    <tr>\n",
              "      <th>22</th>\n",
              "      <td>897495659057754112</td>\n",
              "      <td>@saki_fallah انا بس نتكلم من تجربتي في الحياة. والله ياما شفت من ظلم للبنات. من اقاربي وغيرهن. والله العظيم مستحيل انخلي هكي يصير لبنتي</td>\n",
              "      <td>LY</td>\n",
              "    </tr>\n",
              "    <tr>\n",
              "      <th>23</th>\n",
              "      <td>897496275196760064</td>\n",
              "      <td>@saki_fallah بس ان شاءالله ربي يرزقك بولد حلال :-)</td>\n",
              "      <td>LY</td>\n",
              "    </tr>\n",
              "    <tr>\n",
              "      <th>24</th>\n",
              "      <td>898481556486053888</td>\n",
              "      <td>@654abds مستحيل بشر يعملوا هكي. هضوما مريضين نفسياً ولا واخدين مخدرات ولا حاجة هكي. والله تسميتهم حيوانات إهانة في مخلوقات الله. الله ينتقم منهم</td>\n",
              "      <td>LY</td>\n",
              "    </tr>\n",
              "    <tr>\n",
              "      <th>25</th>\n",
              "      <td>904739253833302016</td>\n",
              "      <td>@hnanomar 😂 😂 😂 😂 شكراً توة فهمت من وين جت هذي بس بالله عليكم شنو قصده؟!!!</td>\n",
              "      <td>LY</td>\n",
              "    </tr>\n",
              "    <tr>\n",
              "      <th>26</th>\n",
              "      <td>904934740729503616</td>\n",
              "      <td>@ayanoorkenzi بس ممكن تعطيني الرابط امتاع البرنامج لي فيه الكارتون علشان نتفرج عليه وانديرلا ريتويت وننشره على الفيسبوك. شكراً والبتوفيق إن شاءالله</td>\n",
              "      <td>LY</td>\n",
              "    </tr>\n",
              "    <tr>\n",
              "      <th>27</th>\n",
              "      <td>905099818346832000</td>\n",
              "      <td>@magicofcoffee الله يستر. عمتي مرمية في مستشفى فاضي في غيبوبة و4 اقارب حتى هما في المستشفى منغير اي خدمات. والله خلاص معشنقدروا نتحملوا. الله يصبرنا</td>\n",
              "      <td>LY</td>\n",
              "    </tr>\n",
              "    <tr>\n",
              "      <th>28</th>\n",
              "      <td>907630925525131264</td>\n",
              "      <td>@IdreesAlgwie1 @3laa_Cyrenaica والله اشكال ادره الكبد. توة صارلي اكتاب بجد. لا حول ولا قوة الا بالله</td>\n",
              "      <td>LY</td>\n",
              "    </tr>\n",
              "    <tr>\n",
              "      <th>29</th>\n",
              "      <td>907989965950341248</td>\n",
              "      <td>@AlmFaisal مش مسألة اصابع يدي بس ظروف الناس مش زي بعضها ولا يحق لي ان احكم عليهم. انتا هضا رأيك وانتا حر فيه اكيد. والله اعلم 😊❤</td>\n",
              "      <td>LY</td>\n",
              "    </tr>\n",
              "    <tr>\n",
              "      <th>30</th>\n",
              "      <td>934006712478072832</td>\n",
              "      <td>@iHallucinate_e تي شن قصده؟!!! بشرونا راه غامة علينا بكل</td>\n",
              "      <td>LY</td>\n",
              "    </tr>\n",
              "    <tr>\n",
              "      <th>31</th>\n",
              "      <td>934073074571411584</td>\n",
              "      <td>@fish_aliwa @dirarshk بس واحد منهم عادتاً بدري شوية</td>\n",
              "      <td>LY</td>\n",
              "    </tr>\n",
              "    <tr>\n",
              "      <th>32</th>\n",
              "      <td>949311937074139136</td>\n",
              "      <td>@safymomen42 @Ben_Mussa الاسبانيين يحتفلوا بالطماطم والهنود بألالوان السمحة ونحنا بزيت سيارات اسود كيف بختنا https://t.co/zNd8Kzgt0S</td>\n",
              "      <td>LY</td>\n",
              "    </tr>\n",
              "    <tr>\n",
              "      <th>33</th>\n",
              "      <td>953620690778894336</td>\n",
              "      <td>@WygiVlZ3ibkSBg6 عدد لا باس به. تقريباً ثلث سكان ليبيا. طبعاً الاطفال ميقدروش يصوتو فالعدد هضا يعني عدد كبير</td>\n",
              "      <td>LY</td>\n",
              "    </tr>\n",
              "    <tr>\n",
              "      <th>34</th>\n",
              "      <td>956579358461833216</td>\n",
              "      <td>@ranoo85ly بس كيف تعرفي ان هما داروا لقالولونا داروه بدون محاكمة؟ حتى اساميهم منعرفوهن. شن عرفنا شن قصتهم؟ الارهابيين في ستين داهية بس لازم المحاكمة ولا حتى الدولة تقعد همجية ولي يبي يقتل يقتل على كيفه. الكلام هضا ميجيش بصراحة</td>\n",
              "      <td>LY</td>\n",
              "    </tr>\n",
              "    <tr>\n",
              "      <th>35</th>\n",
              "      <td>964450503437451264</td>\n",
              "      <td>@HamzaBelhadj10 ممكن يقصد ابادة مش تطهير عرقي! الراجل دايخ ولا معيرفش شن معنى \"العرق\"</td>\n",
              "      <td>LY</td>\n",
              "    </tr>\n",
              "    <tr>\n",
              "      <th>36</th>\n",
              "      <td>974642506955706368</td>\n",
              "      <td>@dou1001 ابن وبنت عمتي عندهم نفس المرض. للاسف مفيش علاج في بنغازي ولا حتى ابسط المستلزمات زي القارزات الخاصة. القارزات العادية تمزق الجلد امتاعهم. كانوا يعدوا بيهم لبريطانيا بس توة مفيش فلوس ولا دولة تهتم. للاسف حالتهم من اسواء لأسواء كل يوم. ربي يشفيهم ويشفي البت هذي ان شاءالله</td>\n",
              "      <td>LY</td>\n",
              "    </tr>\n",
              "    <tr>\n",
              "      <th>37</th>\n",
              "      <td>976436530867826816</td>\n",
              "      <td>تقرير:\"829 ألف دولار صادرات #ليبيا من الأسمنت المصري العام الماضي\"\\nليبيا تبيلها اسمينتو واجد علشان تنبنا من جديد والله يا ريت يشغلو مصانع الاسمينتو امتاعنا لأن العمالة والمصانع الليبية والاقتصاد الليبي اولى بالارباح هذي. نبو استقرار وسلام علشان نبنو بلادنا ونحركوا الاقتصاد</td>\n",
              "      <td>LY</td>\n",
              "    </tr>\n",
              "    <tr>\n",
              "      <th>38</th>\n",
              "      <td>977166121383194624</td>\n",
              "      <td>علي شاهيها لي زمان على شاهيها.. علي شاهيها وتشكشيك حدايد ديها \\nعلي طاستها مليانة تجيني برغوتها.. تجيني برغوتها مع ضحكة ساعة مدتها\\nفي بالي ماني ناسيها علي شاهيها لي زمان علي شاهيها.\\n\\nالله يرحمك ويسامحك يا #جمال_عاشور. \\n#بنغازي  💔\\n#ليبيا #السلماني https://t.co/6cA55gEl5E</td>\n",
              "      <td>LY</td>\n",
              "    </tr>\n",
              "    <tr>\n",
              "      <th>39</th>\n",
              "      <td>992003468993945600</td>\n",
              "      <td>@abdaljalil89 @gy_yah شنو بيستفيدو من الهجوم على جامعة ولا مدرسة ولا جامع ولا على سوق فيه مدنيين ولا على بوابة مليانة سيارات فيها عائلات ولا يدعسوا مدنيين عاديين في اوروبا ولا يفجرو مطار فيه اطفال ولا ولا ولا.....؟؟ وبعدين هما لي اعترفوا بالتفجير</td>\n",
              "      <td>LY</td>\n",
              "    </tr>\n",
              "    <tr>\n",
              "      <th>40</th>\n",
              "      <td>994880703866265600</td>\n",
              "      <td>@beckonofhope مش عارف وين عايشين السياسيين هضوما. انا مش مستغرب منهم يطلعونا بعد كم يوم ويقولوا عندهم خطة لبناء مستعمرة ليبية على سطح القمر ولا المريخ</td>\n",
              "      <td>LY</td>\n",
              "    </tr>\n",
              "    <tr>\n",
              "      <th>41</th>\n",
              "      <td>1070725944489447424</td>\n",
              "      <td>@36LScHd6e7DjREI شن القصة لو عندك معلومات</td>\n",
              "      <td>LY</td>\n",
              "    </tr>\n",
              "    <tr>\n",
              "      <th>42</th>\n",
              "      <td>1070739263988424832</td>\n",
              "      <td>على سيرة الشخصيات المؤثرة على السوشيال ميديا الليبية، هل تعتبر نفسك شخصية مؤثرة؟</td>\n",
              "      <td>LY</td>\n",
              "    </tr>\n",
              "    <tr>\n",
              "      <th>43</th>\n",
              "      <td>1071073563682193408</td>\n",
              "      <td>@Fatima_Obidy السؤال مش شوره معناها😁</td>\n",
              "      <td>LY</td>\n",
              "    </tr>\n",
              "    <tr>\n",
              "      <th>44</th>\n",
              "      <td>1071672216868282368</td>\n",
              "      <td>@AbsRadan يومك مبارك إن شاء الله عزيز.</td>\n",
              "      <td>LY</td>\n",
              "    </tr>\n",
              "    <tr>\n",
              "      <th>45</th>\n",
              "      <td>1071690722745700352</td>\n",
              "      <td>@MoheBishte بارك الله فيك خوي محي.</td>\n",
              "      <td>LY</td>\n",
              "    </tr>\n",
              "    <tr>\n",
              "      <th>46</th>\n",
              "      <td>1071696539574243200</td>\n",
              "      <td>@Candam1Sami صباح الفرح خوي سامي</td>\n",
              "      <td>LY</td>\n",
              "    </tr>\n",
              "    <tr>\n",
              "      <th>47</th>\n",
              "      <td>1071704703942176768</td>\n",
              "      <td>@YOUNIS_ALSERTAW بارك الله فيك خوي يونس</td>\n",
              "      <td>LY</td>\n",
              "    </tr>\n",
              "    <tr>\n",
              "      <th>48</th>\n",
              "      <td>1071770187265916800</td>\n",
              "      <td>@wasimalkatawy تسلم يا باشا، وين ملقيت حد 😅</td>\n",
              "      <td>LY</td>\n",
              "    </tr>\n",
              "    <tr>\n",
              "      <th>49</th>\n",
              "      <td>1074203134577250432</td>\n",
              "      <td>@sooma_khlaf لكن الريح مفيش بصارة غادي، يومك مبارك</td>\n",
              "      <td>LY</td>\n",
              "    </tr>\n",
              "  </tbody>\n",
              "</table>\n",
              "</div>\n",
              "    <div class=\"colab-df-buttons\">\n",
              "\n",
              "  <div class=\"colab-df-container\">\n",
              "    <button class=\"colab-df-convert\" onclick=\"convertToInteractive('df-c37a2b8e-69f3-4a33-aa89-2c927a2198ef')\"\n",
              "            title=\"Convert this dataframe to an interactive table.\"\n",
              "            style=\"display:none;\">\n",
              "\n",
              "  <svg xmlns=\"http://www.w3.org/2000/svg\" height=\"24px\" viewBox=\"0 -960 960 960\">\n",
              "    <path d=\"M120-120v-720h720v720H120Zm60-500h600v-160H180v160Zm220 220h160v-160H400v160Zm0 220h160v-160H400v160ZM180-400h160v-160H180v160Zm440 0h160v-160H620v160ZM180-180h160v-160H180v160Zm440 0h160v-160H620v160Z\"/>\n",
              "  </svg>\n",
              "    </button>\n",
              "\n",
              "  <style>\n",
              "    .colab-df-container {\n",
              "      display:flex;\n",
              "      gap: 12px;\n",
              "    }\n",
              "\n",
              "    .colab-df-convert {\n",
              "      background-color: #E8F0FE;\n",
              "      border: none;\n",
              "      border-radius: 50%;\n",
              "      cursor: pointer;\n",
              "      display: none;\n",
              "      fill: #1967D2;\n",
              "      height: 32px;\n",
              "      padding: 0 0 0 0;\n",
              "      width: 32px;\n",
              "    }\n",
              "\n",
              "    .colab-df-convert:hover {\n",
              "      background-color: #E2EBFA;\n",
              "      box-shadow: 0px 1px 2px rgba(60, 64, 67, 0.3), 0px 1px 3px 1px rgba(60, 64, 67, 0.15);\n",
              "      fill: #174EA6;\n",
              "    }\n",
              "\n",
              "    .colab-df-buttons div {\n",
              "      margin-bottom: 4px;\n",
              "    }\n",
              "\n",
              "    [theme=dark] .colab-df-convert {\n",
              "      background-color: #3B4455;\n",
              "      fill: #D2E3FC;\n",
              "    }\n",
              "\n",
              "    [theme=dark] .colab-df-convert:hover {\n",
              "      background-color: #434B5C;\n",
              "      box-shadow: 0px 1px 3px 1px rgba(0, 0, 0, 0.15);\n",
              "      filter: drop-shadow(0px 1px 2px rgba(0, 0, 0, 0.3));\n",
              "      fill: #FFFFFF;\n",
              "    }\n",
              "  </style>\n",
              "\n",
              "    <script>\n",
              "      const buttonEl =\n",
              "        document.querySelector('#df-c37a2b8e-69f3-4a33-aa89-2c927a2198ef button.colab-df-convert');\n",
              "      buttonEl.style.display =\n",
              "        google.colab.kernel.accessAllowed ? 'block' : 'none';\n",
              "\n",
              "      async function convertToInteractive(key) {\n",
              "        const element = document.querySelector('#df-c37a2b8e-69f3-4a33-aa89-2c927a2198ef');\n",
              "        const dataTable =\n",
              "          await google.colab.kernel.invokeFunction('convertToInteractive',\n",
              "                                                    [key], {});\n",
              "        if (!dataTable) return;\n",
              "\n",
              "        const docLinkHtml = 'Like what you see? Visit the ' +\n",
              "          '<a target=\"_blank\" href=https://colab.research.google.com/notebooks/data_table.ipynb>data table notebook</a>'\n",
              "          + ' to learn more about interactive tables.';\n",
              "        element.innerHTML = '';\n",
              "        dataTable['output_type'] = 'display_data';\n",
              "        await google.colab.output.renderOutput(dataTable, element);\n",
              "        const docLink = document.createElement('div');\n",
              "        docLink.innerHTML = docLinkHtml;\n",
              "        element.appendChild(docLink);\n",
              "      }\n",
              "    </script>\n",
              "  </div>\n",
              "\n",
              "\n",
              "<div id=\"df-221d770d-1bb8-4e3f-bdaa-a814afc7e2a8\">\n",
              "  <button class=\"colab-df-quickchart\" onclick=\"quickchart('df-221d770d-1bb8-4e3f-bdaa-a814afc7e2a8')\"\n",
              "            title=\"Suggest charts\"\n",
              "            style=\"display:none;\">\n",
              "\n",
              "<svg xmlns=\"http://www.w3.org/2000/svg\" height=\"24px\"viewBox=\"0 0 24 24\"\n",
              "     width=\"24px\">\n",
              "    <g>\n",
              "        <path d=\"M19 3H5c-1.1 0-2 .9-2 2v14c0 1.1.9 2 2 2h14c1.1 0 2-.9 2-2V5c0-1.1-.9-2-2-2zM9 17H7v-7h2v7zm4 0h-2V7h2v10zm4 0h-2v-4h2v4z\"/>\n",
              "    </g>\n",
              "</svg>\n",
              "  </button>\n",
              "\n",
              "<style>\n",
              "  .colab-df-quickchart {\n",
              "      --bg-color: #E8F0FE;\n",
              "      --fill-color: #1967D2;\n",
              "      --hover-bg-color: #E2EBFA;\n",
              "      --hover-fill-color: #174EA6;\n",
              "      --disabled-fill-color: #AAA;\n",
              "      --disabled-bg-color: #DDD;\n",
              "  }\n",
              "\n",
              "  [theme=dark] .colab-df-quickchart {\n",
              "      --bg-color: #3B4455;\n",
              "      --fill-color: #D2E3FC;\n",
              "      --hover-bg-color: #434B5C;\n",
              "      --hover-fill-color: #FFFFFF;\n",
              "      --disabled-bg-color: #3B4455;\n",
              "      --disabled-fill-color: #666;\n",
              "  }\n",
              "\n",
              "  .colab-df-quickchart {\n",
              "    background-color: var(--bg-color);\n",
              "    border: none;\n",
              "    border-radius: 50%;\n",
              "    cursor: pointer;\n",
              "    display: none;\n",
              "    fill: var(--fill-color);\n",
              "    height: 32px;\n",
              "    padding: 0;\n",
              "    width: 32px;\n",
              "  }\n",
              "\n",
              "  .colab-df-quickchart:hover {\n",
              "    background-color: var(--hover-bg-color);\n",
              "    box-shadow: 0 1px 2px rgba(60, 64, 67, 0.3), 0 1px 3px 1px rgba(60, 64, 67, 0.15);\n",
              "    fill: var(--button-hover-fill-color);\n",
              "  }\n",
              "\n",
              "  .colab-df-quickchart-complete:disabled,\n",
              "  .colab-df-quickchart-complete:disabled:hover {\n",
              "    background-color: var(--disabled-bg-color);\n",
              "    fill: var(--disabled-fill-color);\n",
              "    box-shadow: none;\n",
              "  }\n",
              "\n",
              "  .colab-df-spinner {\n",
              "    border: 2px solid var(--fill-color);\n",
              "    border-color: transparent;\n",
              "    border-bottom-color: var(--fill-color);\n",
              "    animation:\n",
              "      spin 1s steps(1) infinite;\n",
              "  }\n",
              "\n",
              "  @keyframes spin {\n",
              "    0% {\n",
              "      border-color: transparent;\n",
              "      border-bottom-color: var(--fill-color);\n",
              "      border-left-color: var(--fill-color);\n",
              "    }\n",
              "    20% {\n",
              "      border-color: transparent;\n",
              "      border-left-color: var(--fill-color);\n",
              "      border-top-color: var(--fill-color);\n",
              "    }\n",
              "    30% {\n",
              "      border-color: transparent;\n",
              "      border-left-color: var(--fill-color);\n",
              "      border-top-color: var(--fill-color);\n",
              "      border-right-color: var(--fill-color);\n",
              "    }\n",
              "    40% {\n",
              "      border-color: transparent;\n",
              "      border-right-color: var(--fill-color);\n",
              "      border-top-color: var(--fill-color);\n",
              "    }\n",
              "    60% {\n",
              "      border-color: transparent;\n",
              "      border-right-color: var(--fill-color);\n",
              "    }\n",
              "    80% {\n",
              "      border-color: transparent;\n",
              "      border-right-color: var(--fill-color);\n",
              "      border-bottom-color: var(--fill-color);\n",
              "    }\n",
              "    90% {\n",
              "      border-color: transparent;\n",
              "      border-bottom-color: var(--fill-color);\n",
              "    }\n",
              "  }\n",
              "</style>\n",
              "\n",
              "  <script>\n",
              "    async function quickchart(key) {\n",
              "      const quickchartButtonEl =\n",
              "        document.querySelector('#' + key + ' button');\n",
              "      quickchartButtonEl.disabled = true;  // To prevent multiple clicks.\n",
              "      quickchartButtonEl.classList.add('colab-df-spinner');\n",
              "      try {\n",
              "        const charts = await google.colab.kernel.invokeFunction(\n",
              "            'suggestCharts', [key], {});\n",
              "      } catch (error) {\n",
              "        console.error('Error during call to suggestCharts:', error);\n",
              "      }\n",
              "      quickchartButtonEl.classList.remove('colab-df-spinner');\n",
              "      quickchartButtonEl.classList.add('colab-df-quickchart-complete');\n",
              "    }\n",
              "    (() => {\n",
              "      let quickchartButtonEl =\n",
              "        document.querySelector('#df-221d770d-1bb8-4e3f-bdaa-a814afc7e2a8 button');\n",
              "      quickchartButtonEl.style.display =\n",
              "        google.colab.kernel.accessAllowed ? 'block' : 'none';\n",
              "    })();\n",
              "  </script>\n",
              "</div>\n",
              "\n",
              "    </div>\n",
              "  </div>\n"
            ],
            "application/vnd.google.colaboratory.intrinsic+json": {
              "type": "dataframe",
              "variable_name": "df"
            }
          },
          "metadata": {},
          "execution_count": 9
        }
      ]
    },
    {
      "cell_type": "markdown",
      "source": [
        "##Data Splitting"
      ],
      "metadata": {
        "id": "fqxK8OI3AE7X"
      }
    },
    {
      "cell_type": "code",
      "source": [
        "x=df.drop(['id','dialect'], axis=1)\n",
        "y=df['dialect']"
      ],
      "metadata": {
        "id": "qxdC_-5u__cs"
      },
      "execution_count": null,
      "outputs": []
    },
    {
      "cell_type": "code",
      "source": [
        "print(\"shape of x :\",x.shape)\n",
        "print(\"shape of y  :\" ,y.shape)"
      ],
      "metadata": {
        "colab": {
          "base_uri": "https://localhost:8080/"
        },
        "id": "CbjN-LPuAX9v",
        "outputId": "4fb8fa5a-1d56-4fd8-c639-6b3e439a4ad0"
      },
      "execution_count": null,
      "outputs": [
        {
          "output_type": "stream",
          "name": "stdout",
          "text": [
            "shape of x : (147725, 1)\n",
            "shape of y  : (147725,)\n"
          ]
        }
      ]
    },
    {
      "cell_type": "code",
      "source": [
        "x_train ,x_test ,y_train , y_test = train_test_split(x,y,test_size=0.15, random_state=24, shuffle=True)"
      ],
      "metadata": {
        "id": "KqICROZAAcgI"
      },
      "execution_count": null,
      "outputs": []
    },
    {
      "cell_type": "code",
      "source": [
        "x_train, x_val , y_train, y_val = train_test_split(x_train, y_train, test_size=0.10, random_state=42)"
      ],
      "metadata": {
        "id": "i3gZGP_UA9Cu"
      },
      "execution_count": null,
      "outputs": []
    },
    {
      "cell_type": "markdown",
      "source": [
        " ## 👀 EDA on training data"
      ],
      "metadata": {
        "id": "_3njI73xBKi5"
      }
    },
    {
      "cell_type": "markdown",
      "source": [
        "- check NaNs"
      ],
      "metadata": {
        "id": "956UUcb0BZlh"
      }
    },
    {
      "cell_type": "code",
      "source": [
        "x_train.isna().sum()"
      ],
      "metadata": {
        "colab": {
          "base_uri": "https://localhost:8080/"
        },
        "id": "z4n2NqMHBBWX",
        "outputId": "c7223cff-ceb0-479a-b4b5-91dbd12df495"
      },
      "execution_count": null,
      "outputs": [
        {
          "output_type": "execute_result",
          "data": {
            "text/plain": [
              "text    0\n",
              "dtype: int64"
            ]
          },
          "metadata": {},
          "execution_count": 13
        }
      ]
    },
    {
      "cell_type": "markdown",
      "source": [
        "- check duplicates"
      ],
      "metadata": {
        "id": "ZQb6dgdmBmuc"
      }
    },
    {
      "cell_type": "code",
      "source": [
        "x_train.duplicated().sum()"
      ],
      "metadata": {
        "colab": {
          "base_uri": "https://localhost:8080/"
        },
        "id": "oA7yuLfjBT7w",
        "outputId": "2e282479-0cce-4004-e187-94df24b71382"
      },
      "execution_count": null,
      "outputs": [
        {
          "output_type": "execute_result",
          "data": {
            "text/plain": [
              "0"
            ]
          },
          "metadata": {},
          "execution_count": 14
        }
      ]
    },
    {
      "cell_type": "markdown",
      "source": [
        "- check dataset balancing"
      ],
      "metadata": {
        "id": "mulvgsUrB3W5"
      }
    },
    {
      "cell_type": "code",
      "source": [
        "y_train.value_counts()"
      ],
      "metadata": {
        "colab": {
          "base_uri": "https://localhost:8080/"
        },
        "id": "BDWGF0hmCBqq",
        "outputId": "1fe8c100-d6f6-4cbb-9681-548b034d0afb"
      },
      "execution_count": null,
      "outputs": [
        {
          "output_type": "execute_result",
          "data": {
            "text/plain": [
              "dialect\n",
              "EG    44087\n",
              "LY    27916\n",
              "LB    21116\n",
              "SD    11048\n",
              "MA     8842\n",
              "Name: count, dtype: int64"
            ]
          },
          "metadata": {},
          "execution_count": 15
        }
      ]
    },
    {
      "cell_type": "markdown",
      "source": [
        "####**Imbalanced Classes!!!**"
      ],
      "metadata": {
        "id": "_CM0Nrc1Jbs5"
      }
    },
    {
      "cell_type": "markdown",
      "source": [
        "## 🌟Cleaning and Preprocessing"
      ],
      "metadata": {
        "id": "WjS-5T-pCWAa"
      }
    },
    {
      "cell_type": "markdown",
      "source": [
        "- Remove Numbers\n",
        "- Remove URLs, Mentions, and Hashtags\n",
        "- Remove Non-Arabic Characters and Special Symbols\n",
        "- Remove newline characters\n",
        "- Remove Punctuation\n",
        "- Remove Arabic Diacritics\n",
        "- Remove Repeated Characters\n",
        "- Remove Arabic Stopwords\n",
        "- Arabic stemmer"
      ],
      "metadata": {
        "id": "Reqz5GOxalro"
      }
    },
    {
      "cell_type": "code",
      "source": [
        "stemmer = ISRIStemmer()"
      ],
      "metadata": {
        "id": "e20c8nEKXr0T"
      },
      "execution_count": null,
      "outputs": []
    },
    {
      "cell_type": "code",
      "source": [
        "# Get the Arabic stop words\n",
        "arabic_stopwords = set(stopwords.words('arabic'))\n",
        "\n",
        "# Function to remove specific hamza characters and diacritics from a word\n",
        "def remove_hamza_and_diacritics(word):\n",
        "    word = re.sub(r'[أإآء]', '', word)\n",
        "    word = re.sub(r'[\\u064B-\\u065F]', '', word)  # Arabic diacritics range\n",
        "    return word\n",
        "\n",
        "# Modify the stop words to remove hamza and diacritics\n",
        "modified_stopwords = {remove_hamza_and_diacritics(word) for word in arabic_stopwords}"
      ],
      "metadata": {
        "id": "Hl2Mn5YzW5Ev"
      },
      "execution_count": null,
      "outputs": []
    },
    {
      "cell_type": "code",
      "source": [
        "def preprocess_arabic_text(text):\n",
        "    # Remove Numbers\n",
        "    text = re.sub('\\d+',\"\",text)\n",
        "\n",
        "    # Remove URLs, Mentions, and Hashtags\n",
        "    text = re.sub('http\\S+|www\\S+|@[^\\s]+|#\\S+',\"\",text)\n",
        "\n",
        "    # Remove Non-Arabic Characters and Special Symbols\n",
        "    text = re.sub(r'[^\\u0600-\\u06FF\\s]', '', text)\n",
        "\n",
        "    # Remove newline characters\n",
        "    text = text.replace('\\n', '')\n",
        "\n",
        "    # Remove Punctuation\n",
        "    text = re.sub(rf\"[{punctuation}؟،]\", \" \", text)\n",
        "\n",
        "    # Remove Arabic Diacritics\n",
        "    text = araby.strip_tashkeel(text)\n",
        "    text = araby.normalize_ligature(text)\n",
        "\n",
        "    # Remove Repeated Characters\n",
        "    text = re.sub(r\"(\\w)\\1{2,}\", r\"\\1\\1\", text)\n",
        "\n",
        "    # Remove Arabic Stopwords\n",
        "    text = ' '.join([word for word in text.split() if word not in modified_stopwords])\n",
        "\n",
        "    # Initialize Arabic stemmer\n",
        "    stemmer = ISRIStemmer()\n",
        "\n",
        "    # Stemming\n",
        "    text = ' '.join([stemmer.stem(word) for word in text.split()])\n",
        "\n",
        "    return text\n"
      ],
      "metadata": {
        "id": "wFpYMU57W47A"
      },
      "execution_count": null,
      "outputs": []
    },
    {
      "cell_type": "code",
      "source": [
        "x_train['text'] = x_train['text'].apply(preprocess_arabic_text)"
      ],
      "metadata": {
        "id": "Rge_41b9Y7wJ"
      },
      "execution_count": null,
      "outputs": []
    },
    {
      "cell_type": "code",
      "source": [
        "x_train.head(50)"
      ],
      "metadata": {
        "colab": {
          "base_uri": "https://localhost:8080/",
          "height": 1000
        },
        "id": "GE_CdzgLZAk6",
        "outputId": "c375bd06-db6f-438c-b6e2-c08909a81da4"
      },
      "execution_count": null,
      "outputs": [
        {
          "output_type": "execute_result",
          "data": {
            "text/plain": [
              "                                                                                                                                                                                                 text\n",
              "19555                                                                                                                                                                     ختر ناد نسب نجم ختر زيد برج\n",
              "67797                                                                                                                                                             نظر عمق ملء بحب رفق عدم تصر لحظ فرق\n",
              "40032                                                                                                                                                                       الك غتنعس دبا اجي عبو شوة\n",
              "65901                                                                                                                                                  حمد شيخ فين مبيلعبش تخد قيم نسع عنه اى حجه ليه\n",
              "132637                                                                                                                                                                       بإذ نقم جبر نهي قررب بشر\n",
              "115369                                                                                                                                                                                 طعم عذب ضب شنط\n",
              "98008                                                                                                                                                                     يلا شفا اهه قردوغ حيجيب درف\n",
              "44856                                                                                                         يي لزم طلب ليش دول اني اطلب صوت بعد حرض دول انه تصت ضدن عطا فلس مهم الآ طلب دعم كتر خير\n",
              "44086                                                           عمل شهر اهب صفي راه شفن بدل خمم علج اهب شوفو علج ريض رجل ماتعرفو مكن تجب لبن وهي راجعةللتذكير غرد امع سأل ربط كلم وحر نجم علم صرت قدم\n",
              "66486                                                                                                                                                                                 سقط مني ونا سجد\n",
              "104233                                                                                                                                                               فين ايم جمل كانت دنا هدي كلم حسب\n",
              "105576                                                                                                           ططس دي ازم اثر اثر ناس ولن اخو مابيعرفوش ضغط الا بزم ناس فلق ططس اده كوس يثر بيه ناس\n",
              "115271                                                                                                                         يلع هبلخلص عمل حسمو مش يمكن صور عفي لحد علم اذا شافتو رح طلبو صورو معو\n",
              "61805                                                                                                                 ريت اخة وطن الل يصر حدث رهب كده ركز ظبط كدر ستت بطل ولل شوة احترافية شعب مش كده\n",
              "101458                                                                                                                                                            صرح صور تخل ناس عطف معا صور خطف فعل\n",
              "97083                                                                                                                                                                                         وبع ارض\n",
              "79239                                                                                                                                                           فعل فى حجه غرب ومش فهم كله هيب هانعرف\n",
              "17580                                                                                                                                                                   هه صح انا قصد كتب عدلو مش عرف\n",
              "118746                                                                                                                                              اي بسط اذا هيك عمى حلك لبن سحة ضيع كله علم دواليب\n",
              "69027                                                                                                                                                                                      هه بقي لسه\n",
              "125158                                                                                                                                                                                 اي انت تهل كمن\n",
              "19641                                                                                                               ماعندى مانقولجريمة بشع قرف جدا ومادرهاش الا شخص ريض حشك انعودهالك ثنى حرب بلا خلق\n",
              "14866                                                                                                                                                                 لعب الل حزن خرج درد كثر رونالدو\n",
              "146581                                                                                                                                              متى لمع برق ورد حظوظى نجز وعودهامتى رجع ام در وعد\n",
              "57164                                                                                                                                                                 عيز اقل اني فشخ كتر سعد قسم بلل\n",
              "21057                                                                         ناس حيط بيك خاص لقى او وصل معا شكل يوم يهم أثر كبر نتج صحت زجك تصر فكر ان ناس تكون جمل يجب عاك لقئ حتحب يوم لأن جزء جزأ\n",
              "122156                                                                                                                                                                           عمل زعم طيلع شخط قلم\n",
              "10274                                                                                                                                                                 ستر الل خطفونى منوصيكمش حرة ورو\n",
              "141894  شفتو امر الز دي ثبط ناس تخل عظم ناس كسر حنك ثور دي قدم شي يحل توج اكن حكم سود دي عرف بعد باستفتاء كلم كتر كده افي دعي طرق ليهوسواء كنت يسر يمي ده وقت خلف وبالطريقة دي بشر بشك ده تني عمل سنة\n",
              "34981                                                                                                                                          وحد او اثن شكل ماشوفتش سقل ماد ولل عند شهد علا وسد عمل\n",
              "27828                                                                                                                                                                                          قفط هه\n",
              "124258                                                                                                                                                                     بعد عم خطر بلي عدو عذب هوا\n",
              "14152                                                                                                                                                                             اذا جزة شكل نقض ايه\n",
              "107168             خبر وقف شعر راسيقد انحس حال حمي وال ضهروقد انحس عنا عدء او ولا مكن تصر معنابس سمع هيك خبر مننرعب مش سلف خطفبس فكر انو دول عم صرف او خيف صرف او انا يحم اليوم الل ردو لـ عايلتو سلم\n",
              "15144                                                                                                                                                                         اسس شجع ميل ليش لعب يهم\n",
              "95458                                                                                                                                      انا لقي مش عيز عمليل ولو قول منش علطول ربن قدر علي فعل خير\n",
              "138974                                                                                                                     انم عجب وفه كوميد حمل سؤل يعن روق عند اشف انه حلق كثر كانت اقل لكن انم سطر\n",
              "70832                                                     زام خرج طب سنت عمل فى شفي حكم سفر سمح لاجازاتوبعد عمل عيز يعملوهيسافر او هجر عادىلو سنة عمل كدة مش هتلاقى عجز نهى عكس هتلاقى زيد فى عدد طبء\n",
              "32498               يما عسل اعند ليش نشو دخل نتو عند كلم فضي ونا ولل مانقربله سيف ولل صحب عرف بين صندوق قمر انا حر راي مش قلت انت عيل رقي تبو دول جدد دول سلم سلط ولا وضع عند خلص تبي انت وصل فكر امو\n",
              "2537                                                                                                                                               لشم فيي موت نصح عمر احز اخا توا يد الل اعند مانقول\n",
              "40190                                                                                                                                                                         شكن انت غدي ذخل عند نشف\n",
              "61115                                                                                                                                                                                     الل انت طيب\n",
              "114726                                                                                                                                                 ليه حسس انو عم حكو ارس او لند شقف نطق عمرو ينس\n",
              "53062                                                                                                                                                                           مكن دفع عشن مترجعينيش\n",
              "75080                                                                                                                                                         حلى حجه دعه جمل جمع كلن لحب صدق ديم يرب\n",
              "112638                                                                                                                                                           زيد اسد فين قلك وضى لبن نفخ طلعل بول\n",
              "40278                                                                                                                                                                             حمد لله سنو وجد داي\n",
              "44672                                                                                                                                                                             كنت خلك حلل ادر ولو\n",
              "128765                                                                                                                                    خلق محل نزل ستو هيك ترب ثقف نتو خلي ببل بعر جمل هاد مست فكر\n",
              "103522                                                                                                                                                                        طلب بلد كده يخل كوز نعز"
            ],
            "text/html": [
              "\n",
              "  <div id=\"df-7ffbb457-9e52-446c-ab3a-72f5260e7b54\" class=\"colab-df-container\">\n",
              "    <div>\n",
              "<style scoped>\n",
              "    .dataframe tbody tr th:only-of-type {\n",
              "        vertical-align: middle;\n",
              "    }\n",
              "\n",
              "    .dataframe tbody tr th {\n",
              "        vertical-align: top;\n",
              "    }\n",
              "\n",
              "    .dataframe thead th {\n",
              "        text-align: right;\n",
              "    }\n",
              "</style>\n",
              "<table border=\"1\" class=\"dataframe\">\n",
              "  <thead>\n",
              "    <tr style=\"text-align: right;\">\n",
              "      <th></th>\n",
              "      <th>text</th>\n",
              "    </tr>\n",
              "  </thead>\n",
              "  <tbody>\n",
              "    <tr>\n",
              "      <th>19555</th>\n",
              "      <td>ختر ناد نسب نجم ختر زيد برج</td>\n",
              "    </tr>\n",
              "    <tr>\n",
              "      <th>67797</th>\n",
              "      <td>نظر عمق ملء بحب رفق عدم تصر لحظ فرق</td>\n",
              "    </tr>\n",
              "    <tr>\n",
              "      <th>40032</th>\n",
              "      <td>الك غتنعس دبا اجي عبو شوة</td>\n",
              "    </tr>\n",
              "    <tr>\n",
              "      <th>65901</th>\n",
              "      <td>حمد شيخ فين مبيلعبش تخد قيم نسع عنه اى حجه ليه</td>\n",
              "    </tr>\n",
              "    <tr>\n",
              "      <th>132637</th>\n",
              "      <td>بإذ نقم جبر نهي قررب بشر</td>\n",
              "    </tr>\n",
              "    <tr>\n",
              "      <th>115369</th>\n",
              "      <td>طعم عذب ضب شنط</td>\n",
              "    </tr>\n",
              "    <tr>\n",
              "      <th>98008</th>\n",
              "      <td>يلا شفا اهه قردوغ حيجيب درف</td>\n",
              "    </tr>\n",
              "    <tr>\n",
              "      <th>44856</th>\n",
              "      <td>يي لزم طلب ليش دول اني اطلب صوت بعد حرض دول انه تصت ضدن عطا فلس مهم الآ طلب دعم كتر خير</td>\n",
              "    </tr>\n",
              "    <tr>\n",
              "      <th>44086</th>\n",
              "      <td>عمل شهر اهب صفي راه شفن بدل خمم علج اهب شوفو علج ريض رجل ماتعرفو مكن تجب لبن وهي راجعةللتذكير غرد امع سأل ربط كلم وحر نجم علم صرت قدم</td>\n",
              "    </tr>\n",
              "    <tr>\n",
              "      <th>66486</th>\n",
              "      <td>سقط مني ونا سجد</td>\n",
              "    </tr>\n",
              "    <tr>\n",
              "      <th>104233</th>\n",
              "      <td>فين ايم جمل كانت دنا هدي كلم حسب</td>\n",
              "    </tr>\n",
              "    <tr>\n",
              "      <th>105576</th>\n",
              "      <td>ططس دي ازم اثر اثر ناس ولن اخو مابيعرفوش ضغط الا بزم ناس فلق ططس اده كوس يثر بيه ناس</td>\n",
              "    </tr>\n",
              "    <tr>\n",
              "      <th>115271</th>\n",
              "      <td>يلع هبلخلص عمل حسمو مش يمكن صور عفي لحد علم اذا شافتو رح طلبو صورو معو</td>\n",
              "    </tr>\n",
              "    <tr>\n",
              "      <th>61805</th>\n",
              "      <td>ريت اخة وطن الل يصر حدث رهب كده ركز ظبط كدر ستت بطل ولل شوة احترافية شعب مش كده</td>\n",
              "    </tr>\n",
              "    <tr>\n",
              "      <th>101458</th>\n",
              "      <td>صرح صور تخل ناس عطف معا صور خطف فعل</td>\n",
              "    </tr>\n",
              "    <tr>\n",
              "      <th>97083</th>\n",
              "      <td>وبع ارض</td>\n",
              "    </tr>\n",
              "    <tr>\n",
              "      <th>79239</th>\n",
              "      <td>فعل فى حجه غرب ومش فهم كله هيب هانعرف</td>\n",
              "    </tr>\n",
              "    <tr>\n",
              "      <th>17580</th>\n",
              "      <td>هه صح انا قصد كتب عدلو مش عرف</td>\n",
              "    </tr>\n",
              "    <tr>\n",
              "      <th>118746</th>\n",
              "      <td>اي بسط اذا هيك عمى حلك لبن سحة ضيع كله علم دواليب</td>\n",
              "    </tr>\n",
              "    <tr>\n",
              "      <th>69027</th>\n",
              "      <td>هه بقي لسه</td>\n",
              "    </tr>\n",
              "    <tr>\n",
              "      <th>125158</th>\n",
              "      <td>اي انت تهل كمن</td>\n",
              "    </tr>\n",
              "    <tr>\n",
              "      <th>19641</th>\n",
              "      <td>ماعندى مانقولجريمة بشع قرف جدا ومادرهاش الا شخص ريض حشك انعودهالك ثنى حرب بلا خلق</td>\n",
              "    </tr>\n",
              "    <tr>\n",
              "      <th>14866</th>\n",
              "      <td>لعب الل حزن خرج درد كثر رونالدو</td>\n",
              "    </tr>\n",
              "    <tr>\n",
              "      <th>146581</th>\n",
              "      <td>متى لمع برق ورد حظوظى نجز وعودهامتى رجع ام در وعد</td>\n",
              "    </tr>\n",
              "    <tr>\n",
              "      <th>57164</th>\n",
              "      <td>عيز اقل اني فشخ كتر سعد قسم بلل</td>\n",
              "    </tr>\n",
              "    <tr>\n",
              "      <th>21057</th>\n",
              "      <td>ناس حيط بيك خاص لقى او وصل معا شكل يوم يهم أثر كبر نتج صحت زجك تصر فكر ان ناس تكون جمل يجب عاك لقئ حتحب يوم لأن جزء جزأ</td>\n",
              "    </tr>\n",
              "    <tr>\n",
              "      <th>122156</th>\n",
              "      <td>عمل زعم طيلع شخط قلم</td>\n",
              "    </tr>\n",
              "    <tr>\n",
              "      <th>10274</th>\n",
              "      <td>ستر الل خطفونى منوصيكمش حرة ورو</td>\n",
              "    </tr>\n",
              "    <tr>\n",
              "      <th>141894</th>\n",
              "      <td>شفتو امر الز دي ثبط ناس تخل عظم ناس كسر حنك ثور دي قدم شي يحل توج اكن حكم سود دي عرف بعد باستفتاء كلم كتر كده افي دعي طرق ليهوسواء كنت يسر يمي ده وقت خلف وبالطريقة دي بشر بشك ده تني عمل سنة</td>\n",
              "    </tr>\n",
              "    <tr>\n",
              "      <th>34981</th>\n",
              "      <td>وحد او اثن شكل ماشوفتش سقل ماد ولل عند شهد علا وسد عمل</td>\n",
              "    </tr>\n",
              "    <tr>\n",
              "      <th>27828</th>\n",
              "      <td>قفط هه</td>\n",
              "    </tr>\n",
              "    <tr>\n",
              "      <th>124258</th>\n",
              "      <td>بعد عم خطر بلي عدو عذب هوا</td>\n",
              "    </tr>\n",
              "    <tr>\n",
              "      <th>14152</th>\n",
              "      <td>اذا جزة شكل نقض ايه</td>\n",
              "    </tr>\n",
              "    <tr>\n",
              "      <th>107168</th>\n",
              "      <td>خبر وقف شعر راسيقد انحس حال حمي وال ضهروقد انحس عنا عدء او ولا مكن تصر معنابس سمع هيك خبر مننرعب مش سلف خطفبس فكر انو دول عم صرف او خيف صرف او انا يحم اليوم الل ردو لـ عايلتو سلم</td>\n",
              "    </tr>\n",
              "    <tr>\n",
              "      <th>15144</th>\n",
              "      <td>اسس شجع ميل ليش لعب يهم</td>\n",
              "    </tr>\n",
              "    <tr>\n",
              "      <th>95458</th>\n",
              "      <td>انا لقي مش عيز عمليل ولو قول منش علطول ربن قدر علي فعل خير</td>\n",
              "    </tr>\n",
              "    <tr>\n",
              "      <th>138974</th>\n",
              "      <td>انم عجب وفه كوميد حمل سؤل يعن روق عند اشف انه حلق كثر كانت اقل لكن انم سطر</td>\n",
              "    </tr>\n",
              "    <tr>\n",
              "      <th>70832</th>\n",
              "      <td>زام خرج طب سنت عمل فى شفي حكم سفر سمح لاجازاتوبعد عمل عيز يعملوهيسافر او هجر عادىلو سنة عمل كدة مش هتلاقى عجز نهى عكس هتلاقى زيد فى عدد طبء</td>\n",
              "    </tr>\n",
              "    <tr>\n",
              "      <th>32498</th>\n",
              "      <td>يما عسل اعند ليش نشو دخل نتو عند كلم فضي ونا ولل مانقربله سيف ولل صحب عرف بين صندوق قمر انا حر راي مش قلت انت عيل رقي تبو دول جدد دول سلم سلط ولا وضع عند خلص تبي انت وصل فكر امو</td>\n",
              "    </tr>\n",
              "    <tr>\n",
              "      <th>2537</th>\n",
              "      <td>لشم فيي موت نصح عمر احز اخا توا يد الل اعند مانقول</td>\n",
              "    </tr>\n",
              "    <tr>\n",
              "      <th>40190</th>\n",
              "      <td>شكن انت غدي ذخل عند نشف</td>\n",
              "    </tr>\n",
              "    <tr>\n",
              "      <th>61115</th>\n",
              "      <td>الل انت طيب</td>\n",
              "    </tr>\n",
              "    <tr>\n",
              "      <th>114726</th>\n",
              "      <td>ليه حسس انو عم حكو ارس او لند شقف نطق عمرو ينس</td>\n",
              "    </tr>\n",
              "    <tr>\n",
              "      <th>53062</th>\n",
              "      <td>مكن دفع عشن مترجعينيش</td>\n",
              "    </tr>\n",
              "    <tr>\n",
              "      <th>75080</th>\n",
              "      <td>حلى حجه دعه جمل جمع كلن لحب صدق ديم يرب</td>\n",
              "    </tr>\n",
              "    <tr>\n",
              "      <th>112638</th>\n",
              "      <td>زيد اسد فين قلك وضى لبن نفخ طلعل بول</td>\n",
              "    </tr>\n",
              "    <tr>\n",
              "      <th>40278</th>\n",
              "      <td>حمد لله سنو وجد داي</td>\n",
              "    </tr>\n",
              "    <tr>\n",
              "      <th>44672</th>\n",
              "      <td>كنت خلك حلل ادر ولو</td>\n",
              "    </tr>\n",
              "    <tr>\n",
              "      <th>128765</th>\n",
              "      <td>خلق محل نزل ستو هيك ترب ثقف نتو خلي ببل بعر جمل هاد مست فكر</td>\n",
              "    </tr>\n",
              "    <tr>\n",
              "      <th>103522</th>\n",
              "      <td>طلب بلد كده يخل كوز نعز</td>\n",
              "    </tr>\n",
              "  </tbody>\n",
              "</table>\n",
              "</div>\n",
              "    <div class=\"colab-df-buttons\">\n",
              "\n",
              "  <div class=\"colab-df-container\">\n",
              "    <button class=\"colab-df-convert\" onclick=\"convertToInteractive('df-7ffbb457-9e52-446c-ab3a-72f5260e7b54')\"\n",
              "            title=\"Convert this dataframe to an interactive table.\"\n",
              "            style=\"display:none;\">\n",
              "\n",
              "  <svg xmlns=\"http://www.w3.org/2000/svg\" height=\"24px\" viewBox=\"0 -960 960 960\">\n",
              "    <path d=\"M120-120v-720h720v720H120Zm60-500h600v-160H180v160Zm220 220h160v-160H400v160Zm0 220h160v-160H400v160ZM180-400h160v-160H180v160Zm440 0h160v-160H620v160ZM180-180h160v-160H180v160Zm440 0h160v-160H620v160Z\"/>\n",
              "  </svg>\n",
              "    </button>\n",
              "\n",
              "  <style>\n",
              "    .colab-df-container {\n",
              "      display:flex;\n",
              "      gap: 12px;\n",
              "    }\n",
              "\n",
              "    .colab-df-convert {\n",
              "      background-color: #E8F0FE;\n",
              "      border: none;\n",
              "      border-radius: 50%;\n",
              "      cursor: pointer;\n",
              "      display: none;\n",
              "      fill: #1967D2;\n",
              "      height: 32px;\n",
              "      padding: 0 0 0 0;\n",
              "      width: 32px;\n",
              "    }\n",
              "\n",
              "    .colab-df-convert:hover {\n",
              "      background-color: #E2EBFA;\n",
              "      box-shadow: 0px 1px 2px rgba(60, 64, 67, 0.3), 0px 1px 3px 1px rgba(60, 64, 67, 0.15);\n",
              "      fill: #174EA6;\n",
              "    }\n",
              "\n",
              "    .colab-df-buttons div {\n",
              "      margin-bottom: 4px;\n",
              "    }\n",
              "\n",
              "    [theme=dark] .colab-df-convert {\n",
              "      background-color: #3B4455;\n",
              "      fill: #D2E3FC;\n",
              "    }\n",
              "\n",
              "    [theme=dark] .colab-df-convert:hover {\n",
              "      background-color: #434B5C;\n",
              "      box-shadow: 0px 1px 3px 1px rgba(0, 0, 0, 0.15);\n",
              "      filter: drop-shadow(0px 1px 2px rgba(0, 0, 0, 0.3));\n",
              "      fill: #FFFFFF;\n",
              "    }\n",
              "  </style>\n",
              "\n",
              "    <script>\n",
              "      const buttonEl =\n",
              "        document.querySelector('#df-7ffbb457-9e52-446c-ab3a-72f5260e7b54 button.colab-df-convert');\n",
              "      buttonEl.style.display =\n",
              "        google.colab.kernel.accessAllowed ? 'block' : 'none';\n",
              "\n",
              "      async function convertToInteractive(key) {\n",
              "        const element = document.querySelector('#df-7ffbb457-9e52-446c-ab3a-72f5260e7b54');\n",
              "        const dataTable =\n",
              "          await google.colab.kernel.invokeFunction('convertToInteractive',\n",
              "                                                    [key], {});\n",
              "        if (!dataTable) return;\n",
              "\n",
              "        const docLinkHtml = 'Like what you see? Visit the ' +\n",
              "          '<a target=\"_blank\" href=https://colab.research.google.com/notebooks/data_table.ipynb>data table notebook</a>'\n",
              "          + ' to learn more about interactive tables.';\n",
              "        element.innerHTML = '';\n",
              "        dataTable['output_type'] = 'display_data';\n",
              "        await google.colab.output.renderOutput(dataTable, element);\n",
              "        const docLink = document.createElement('div');\n",
              "        docLink.innerHTML = docLinkHtml;\n",
              "        element.appendChild(docLink);\n",
              "      }\n",
              "    </script>\n",
              "  </div>\n",
              "\n",
              "\n",
              "<div id=\"df-aa43e9c1-f624-4cf3-b7fb-16e9beae006d\">\n",
              "  <button class=\"colab-df-quickchart\" onclick=\"quickchart('df-aa43e9c1-f624-4cf3-b7fb-16e9beae006d')\"\n",
              "            title=\"Suggest charts\"\n",
              "            style=\"display:none;\">\n",
              "\n",
              "<svg xmlns=\"http://www.w3.org/2000/svg\" height=\"24px\"viewBox=\"0 0 24 24\"\n",
              "     width=\"24px\">\n",
              "    <g>\n",
              "        <path d=\"M19 3H5c-1.1 0-2 .9-2 2v14c0 1.1.9 2 2 2h14c1.1 0 2-.9 2-2V5c0-1.1-.9-2-2-2zM9 17H7v-7h2v7zm4 0h-2V7h2v10zm4 0h-2v-4h2v4z\"/>\n",
              "    </g>\n",
              "</svg>\n",
              "  </button>\n",
              "\n",
              "<style>\n",
              "  .colab-df-quickchart {\n",
              "      --bg-color: #E8F0FE;\n",
              "      --fill-color: #1967D2;\n",
              "      --hover-bg-color: #E2EBFA;\n",
              "      --hover-fill-color: #174EA6;\n",
              "      --disabled-fill-color: #AAA;\n",
              "      --disabled-bg-color: #DDD;\n",
              "  }\n",
              "\n",
              "  [theme=dark] .colab-df-quickchart {\n",
              "      --bg-color: #3B4455;\n",
              "      --fill-color: #D2E3FC;\n",
              "      --hover-bg-color: #434B5C;\n",
              "      --hover-fill-color: #FFFFFF;\n",
              "      --disabled-bg-color: #3B4455;\n",
              "      --disabled-fill-color: #666;\n",
              "  }\n",
              "\n",
              "  .colab-df-quickchart {\n",
              "    background-color: var(--bg-color);\n",
              "    border: none;\n",
              "    border-radius: 50%;\n",
              "    cursor: pointer;\n",
              "    display: none;\n",
              "    fill: var(--fill-color);\n",
              "    height: 32px;\n",
              "    padding: 0;\n",
              "    width: 32px;\n",
              "  }\n",
              "\n",
              "  .colab-df-quickchart:hover {\n",
              "    background-color: var(--hover-bg-color);\n",
              "    box-shadow: 0 1px 2px rgba(60, 64, 67, 0.3), 0 1px 3px 1px rgba(60, 64, 67, 0.15);\n",
              "    fill: var(--button-hover-fill-color);\n",
              "  }\n",
              "\n",
              "  .colab-df-quickchart-complete:disabled,\n",
              "  .colab-df-quickchart-complete:disabled:hover {\n",
              "    background-color: var(--disabled-bg-color);\n",
              "    fill: var(--disabled-fill-color);\n",
              "    box-shadow: none;\n",
              "  }\n",
              "\n",
              "  .colab-df-spinner {\n",
              "    border: 2px solid var(--fill-color);\n",
              "    border-color: transparent;\n",
              "    border-bottom-color: var(--fill-color);\n",
              "    animation:\n",
              "      spin 1s steps(1) infinite;\n",
              "  }\n",
              "\n",
              "  @keyframes spin {\n",
              "    0% {\n",
              "      border-color: transparent;\n",
              "      border-bottom-color: var(--fill-color);\n",
              "      border-left-color: var(--fill-color);\n",
              "    }\n",
              "    20% {\n",
              "      border-color: transparent;\n",
              "      border-left-color: var(--fill-color);\n",
              "      border-top-color: var(--fill-color);\n",
              "    }\n",
              "    30% {\n",
              "      border-color: transparent;\n",
              "      border-left-color: var(--fill-color);\n",
              "      border-top-color: var(--fill-color);\n",
              "      border-right-color: var(--fill-color);\n",
              "    }\n",
              "    40% {\n",
              "      border-color: transparent;\n",
              "      border-right-color: var(--fill-color);\n",
              "      border-top-color: var(--fill-color);\n",
              "    }\n",
              "    60% {\n",
              "      border-color: transparent;\n",
              "      border-right-color: var(--fill-color);\n",
              "    }\n",
              "    80% {\n",
              "      border-color: transparent;\n",
              "      border-right-color: var(--fill-color);\n",
              "      border-bottom-color: var(--fill-color);\n",
              "    }\n",
              "    90% {\n",
              "      border-color: transparent;\n",
              "      border-bottom-color: var(--fill-color);\n",
              "    }\n",
              "  }\n",
              "</style>\n",
              "\n",
              "  <script>\n",
              "    async function quickchart(key) {\n",
              "      const quickchartButtonEl =\n",
              "        document.querySelector('#' + key + ' button');\n",
              "      quickchartButtonEl.disabled = true;  // To prevent multiple clicks.\n",
              "      quickchartButtonEl.classList.add('colab-df-spinner');\n",
              "      try {\n",
              "        const charts = await google.colab.kernel.invokeFunction(\n",
              "            'suggestCharts', [key], {});\n",
              "      } catch (error) {\n",
              "        console.error('Error during call to suggestCharts:', error);\n",
              "      }\n",
              "      quickchartButtonEl.classList.remove('colab-df-spinner');\n",
              "      quickchartButtonEl.classList.add('colab-df-quickchart-complete');\n",
              "    }\n",
              "    (() => {\n",
              "      let quickchartButtonEl =\n",
              "        document.querySelector('#df-aa43e9c1-f624-4cf3-b7fb-16e9beae006d button');\n",
              "      quickchartButtonEl.style.display =\n",
              "        google.colab.kernel.accessAllowed ? 'block' : 'none';\n",
              "    })();\n",
              "  </script>\n",
              "</div>\n",
              "\n",
              "    </div>\n",
              "  </div>\n"
            ],
            "application/vnd.google.colaboratory.intrinsic+json": {
              "type": "dataframe",
              "variable_name": "x_train"
            }
          },
          "metadata": {},
          "execution_count": 17
        }
      ]
    },
    {
      "cell_type": "code",
      "source": [
        "x_val['text'] = x_val['text'].apply(preprocess_arabic_text)"
      ],
      "metadata": {
        "id": "JMwX7uaGZ-VV"
      },
      "execution_count": null,
      "outputs": []
    },
    {
      "cell_type": "code",
      "source": [
        "x_val.head(50)"
      ],
      "metadata": {
        "colab": {
          "base_uri": "https://localhost:8080/",
          "height": 682
        },
        "id": "CuuP2hT6aFdd",
        "outputId": "43d92b97-2526-422c-aaaf-e088219817ca"
      },
      "execution_count": null,
      "outputs": [
        {
          "output_type": "execute_result",
          "data": {
            "text/plain": [
              "                                                                                                                                                                 text\n",
              "18757                                                                                                          لقت كيك حطط كتب حست ان عند عجب سرة طلع شيب معا درت رته\n",
              "136591                                                                                                                          هه علق لسه شغل طرق دي الا يخد قرض صين\n",
              "143468  ليه حرق ابد ولل ماتشخص وضع ساي بين انا صدر نفذ وقل ايا كلم بعث الم فانه دير جره معا ومم اجب سير عند صين كور دي مكن تبق زيد مالازم اور وين عرف عشن صدق عبر كذب\n",
              "6961                                                                                                                                                   كلم منك حق رجل\n",
              "132269                                                                                                                    اخي خلي غرب بحل بخر خرج بدن قرب نهم الل يخل\n",
              "68229                                                                                                                       وده امت ونا بقل شكل ده مش غرب علا برك نور\n",
              "36046                                                                                                         لحب حوء حول همم بكل فصل الل تحب همل هدم اي علق كانت قوة\n",
              "37637    كله جبي رتح نفس عند سؤل احد عيش حيت بحر زوج اكد جبي ومو كله سلب اهم شي خار شخص لصح شخص احس انك غصب اذا سوت عشن شيء عكس تحس سعد مو تزج فقط عشن لقب تزج او تزج\n",
              "146134                                                                                                                              غنة دي حبت زول دي لجد جبت زيت كتر\n",
              "58446                                                                                                                                         عشن سوو عجل بتع وين خسئ\n",
              "92684            لزم فضل نقل غلط غلطالسجاير حرم حجب فرض حكمش شخص حكم فعل نكر دعو ناس هدي علمو ولد حلل حراموخلي داي قرب الل قرب ربنارب عمل وطع وخر فيش قلب نضف عمل صلح\n",
              "5605                                                                                                                                      ديم ديم اغل وحق الل حجه اخر\n",
              "51335                                                                                   فكر اسب كتب علم كرش نجم جول روبرتس قلت انه يفد فى خفف وتر مصر كله طلب علم كرش\n",
              "134921                                                                           كسم عمل نضل عرفو اسد نضل تغر ودو ارض وقع لهو ميد فعل حرك توت ولي طلع دين كبر ناس تسى\n",
              "3219                                                                                                                                          مش عرف علش مايحبوشي لحق\n",
              "68272                                                                                                       حمد لله علي نعم صلاهرب يهد مش يصل كش قدر تخل عيشو ازى صله\n",
              "13674                                                                                                                                                ميد عنف أهل جهنم\n",
              "116033                                                                                                                                                 محل اسم محل او\n",
              "127041                                                                                                             حين انت كمن نطق زبل بشر حمد بن نيف دعس رقب داس قدم\n",
              "106927                                                                                                                                                صبح ابض متل تلج\n",
              "84759                                                                                                                            تشب حلة احن وفه اوق فيش ولااغنية تشب\n",
              "40309                                                                                                                                   وش جبك غرب مسك ورح رجع اكد هه\n",
              "104445                                                                              صلح مش عبط صلح صرف لصح امم كامير علم عمل اي صرف رفض صور او او كان سغل وقف احس غلل\n",
              "147626                                                                                                                        بشر فول دكه يخي حشت اجي تحش لين كيز ديل\n",
              "63110                                    امس ناس الل سأل علي صلح جبر خطر الل حلي كلم كويسةكلمة شكر سمح الخ دلل ربت هتم قريب لأن دول سند ضهرحتى خلف بلش وجف دنا مش هله\n",
              "60362                                                                                            رهب فضح تصر جمب ناس حبب عشن يبض صور فيش فايدةبوفتيكة رهب هرب قطر تصر\n",
              "138099                                                                                                      ندم عاك خلت ندم ال ثني ضيع شمر خلا اشف ال ثني ندم علي انت\n",
              "99587                                                                                                                                            وحد هيمو ميتبصلو كده\n",
              "76815                                                                                                                                              علش مش راجلفهمت لأ\n",
              "103667                                                                                                                       طاب انا شفت بجز عيل طلع بيت مش هاشهد معا\n",
              "103815                                                                                                                                      معنديش انع خد جثة سيب عدس\n",
              "127417                                                                                                                                            تلا متل رغل حرة شخص\n",
              "62958                                                                                                                       حدش شاف بلل دي حدش عبر عيد ميلاديشكرا مصر\n",
              "95875                                                                                                                                   ايه عمرو حبيبى احن هنتهطل ايه\n",
              "79799                                                      دول مش حسو وهم ايه علق وضع برا بيراميدز هلى قرع دخل ايه كانت شطر تفز هلى خسر بيراميدز فعل فعل تعمد سبق صرر\n",
              "1629                                                                                                                                                  زبط هدا الل نقل\n",
              "114878                                                                                                                                  بلش نهر بهك صور اكد ريل حيربح\n",
              "2295                                                                                                              دخل هالذق وهالشوارب احل حلى رجل بحب انا ووت ونو حبي\n",
              "102239                                                                                                                                             كاس علم ده عيز تعب\n",
              "95310                                                                                                                                      نفع مانقابلش غنا كامير نهي\n",
              "61620                                                                                                                 رور وقت عقب زمن أكد عند حسس الا ظهر صوت زعج كمن\n",
              "110965                                                                                                 اذا اخت خيم عال وجب امك طرق رضع رضع ماتخاف وخت حبل كيف خلف يقر\n",
              "128202                                                                                                    يعن وقت عرف انك نقل سي ان انك مرتاحينبس سيس بحب بخر اكد انت\n",
              "143506                                                                                                                                           دي مرق ليه شي دي ياخ\n",
              "41457     نقد بشء اخر عدي كونو ردد حرم دوزو راه خصك تشف باش ردة دخل غرد عند تشف ردد انا شخص ماعنديش شكل كنتاقد حكم قصر ماعنديش طبل باش طفل تجي دير علم قلبو عليها قفة\n",
              "86552                                                                                                                                         الل لوش كبر شري ليه كبر\n",
              "115953                                                                                                                                             تصر وزر اورثودوكسي\n",
              "74751                                                                                                         الل يحب سعد يقل بنب قعد بين صطلح قني صرة سوء حرف او تقن\n",
              "131590                                                                                                                                        تخل سعد يشف فخذ يغض بصر\n",
              "129042                                                                            اذا الب يشف نتو ستق عبد كجو كوم لحم شو بدن نطر منو جرم بحق نتو هيد زملو حبس تفه رجل"
            ],
            "text/html": [
              "\n",
              "  <div id=\"df-d1469b49-b049-4fca-a1d5-d594f73f0a1e\" class=\"colab-df-container\">\n",
              "    <div>\n",
              "<style scoped>\n",
              "    .dataframe tbody tr th:only-of-type {\n",
              "        vertical-align: middle;\n",
              "    }\n",
              "\n",
              "    .dataframe tbody tr th {\n",
              "        vertical-align: top;\n",
              "    }\n",
              "\n",
              "    .dataframe thead th {\n",
              "        text-align: right;\n",
              "    }\n",
              "</style>\n",
              "<table border=\"1\" class=\"dataframe\">\n",
              "  <thead>\n",
              "    <tr style=\"text-align: right;\">\n",
              "      <th></th>\n",
              "      <th>text</th>\n",
              "    </tr>\n",
              "  </thead>\n",
              "  <tbody>\n",
              "    <tr>\n",
              "      <th>18757</th>\n",
              "      <td>لقت كيك حطط كتب حست ان عند عجب سرة طلع شيب معا درت رته</td>\n",
              "    </tr>\n",
              "    <tr>\n",
              "      <th>136591</th>\n",
              "      <td>هه علق لسه شغل طرق دي الا يخد قرض صين</td>\n",
              "    </tr>\n",
              "    <tr>\n",
              "      <th>143468</th>\n",
              "      <td>ليه حرق ابد ولل ماتشخص وضع ساي بين انا صدر نفذ وقل ايا كلم بعث الم فانه دير جره معا ومم اجب سير عند صين كور دي مكن تبق زيد مالازم اور وين عرف عشن صدق عبر كذب</td>\n",
              "    </tr>\n",
              "    <tr>\n",
              "      <th>6961</th>\n",
              "      <td>كلم منك حق رجل</td>\n",
              "    </tr>\n",
              "    <tr>\n",
              "      <th>132269</th>\n",
              "      <td>اخي خلي غرب بحل بخر خرج بدن قرب نهم الل يخل</td>\n",
              "    </tr>\n",
              "    <tr>\n",
              "      <th>68229</th>\n",
              "      <td>وده امت ونا بقل شكل ده مش غرب علا برك نور</td>\n",
              "    </tr>\n",
              "    <tr>\n",
              "      <th>36046</th>\n",
              "      <td>لحب حوء حول همم بكل فصل الل تحب همل هدم اي علق كانت قوة</td>\n",
              "    </tr>\n",
              "    <tr>\n",
              "      <th>37637</th>\n",
              "      <td>كله جبي رتح نفس عند سؤل احد عيش حيت بحر زوج اكد جبي ومو كله سلب اهم شي خار شخص لصح شخص احس انك غصب اذا سوت عشن شيء عكس تحس سعد مو تزج فقط عشن لقب تزج او تزج</td>\n",
              "    </tr>\n",
              "    <tr>\n",
              "      <th>146134</th>\n",
              "      <td>غنة دي حبت زول دي لجد جبت زيت كتر</td>\n",
              "    </tr>\n",
              "    <tr>\n",
              "      <th>58446</th>\n",
              "      <td>عشن سوو عجل بتع وين خسئ</td>\n",
              "    </tr>\n",
              "    <tr>\n",
              "      <th>92684</th>\n",
              "      <td>لزم فضل نقل غلط غلطالسجاير حرم حجب فرض حكمش شخص حكم فعل نكر دعو ناس هدي علمو ولد حلل حراموخلي داي قرب الل قرب ربنارب عمل وطع وخر فيش قلب نضف عمل صلح</td>\n",
              "    </tr>\n",
              "    <tr>\n",
              "      <th>5605</th>\n",
              "      <td>ديم ديم اغل وحق الل حجه اخر</td>\n",
              "    </tr>\n",
              "    <tr>\n",
              "      <th>51335</th>\n",
              "      <td>فكر اسب كتب علم كرش نجم جول روبرتس قلت انه يفد فى خفف وتر مصر كله طلب علم كرش</td>\n",
              "    </tr>\n",
              "    <tr>\n",
              "      <th>134921</th>\n",
              "      <td>كسم عمل نضل عرفو اسد نضل تغر ودو ارض وقع لهو ميد فعل حرك توت ولي طلع دين كبر ناس تسى</td>\n",
              "    </tr>\n",
              "    <tr>\n",
              "      <th>3219</th>\n",
              "      <td>مش عرف علش مايحبوشي لحق</td>\n",
              "    </tr>\n",
              "    <tr>\n",
              "      <th>68272</th>\n",
              "      <td>حمد لله علي نعم صلاهرب يهد مش يصل كش قدر تخل عيشو ازى صله</td>\n",
              "    </tr>\n",
              "    <tr>\n",
              "      <th>13674</th>\n",
              "      <td>ميد عنف أهل جهنم</td>\n",
              "    </tr>\n",
              "    <tr>\n",
              "      <th>116033</th>\n",
              "      <td>محل اسم محل او</td>\n",
              "    </tr>\n",
              "    <tr>\n",
              "      <th>127041</th>\n",
              "      <td>حين انت كمن نطق زبل بشر حمد بن نيف دعس رقب داس قدم</td>\n",
              "    </tr>\n",
              "    <tr>\n",
              "      <th>106927</th>\n",
              "      <td>صبح ابض متل تلج</td>\n",
              "    </tr>\n",
              "    <tr>\n",
              "      <th>84759</th>\n",
              "      <td>تشب حلة احن وفه اوق فيش ولااغنية تشب</td>\n",
              "    </tr>\n",
              "    <tr>\n",
              "      <th>40309</th>\n",
              "      <td>وش جبك غرب مسك ورح رجع اكد هه</td>\n",
              "    </tr>\n",
              "    <tr>\n",
              "      <th>104445</th>\n",
              "      <td>صلح مش عبط صلح صرف لصح امم كامير علم عمل اي صرف رفض صور او او كان سغل وقف احس غلل</td>\n",
              "    </tr>\n",
              "    <tr>\n",
              "      <th>147626</th>\n",
              "      <td>بشر فول دكه يخي حشت اجي تحش لين كيز ديل</td>\n",
              "    </tr>\n",
              "    <tr>\n",
              "      <th>63110</th>\n",
              "      <td>امس ناس الل سأل علي صلح جبر خطر الل حلي كلم كويسةكلمة شكر سمح الخ دلل ربت هتم قريب لأن دول سند ضهرحتى خلف بلش وجف دنا مش هله</td>\n",
              "    </tr>\n",
              "    <tr>\n",
              "      <th>60362</th>\n",
              "      <td>رهب فضح تصر جمب ناس حبب عشن يبض صور فيش فايدةبوفتيكة رهب هرب قطر تصر</td>\n",
              "    </tr>\n",
              "    <tr>\n",
              "      <th>138099</th>\n",
              "      <td>ندم عاك خلت ندم ال ثني ضيع شمر خلا اشف ال ثني ندم علي انت</td>\n",
              "    </tr>\n",
              "    <tr>\n",
              "      <th>99587</th>\n",
              "      <td>وحد هيمو ميتبصلو كده</td>\n",
              "    </tr>\n",
              "    <tr>\n",
              "      <th>76815</th>\n",
              "      <td>علش مش راجلفهمت لأ</td>\n",
              "    </tr>\n",
              "    <tr>\n",
              "      <th>103667</th>\n",
              "      <td>طاب انا شفت بجز عيل طلع بيت مش هاشهد معا</td>\n",
              "    </tr>\n",
              "    <tr>\n",
              "      <th>103815</th>\n",
              "      <td>معنديش انع خد جثة سيب عدس</td>\n",
              "    </tr>\n",
              "    <tr>\n",
              "      <th>127417</th>\n",
              "      <td>تلا متل رغل حرة شخص</td>\n",
              "    </tr>\n",
              "    <tr>\n",
              "      <th>62958</th>\n",
              "      <td>حدش شاف بلل دي حدش عبر عيد ميلاديشكرا مصر</td>\n",
              "    </tr>\n",
              "    <tr>\n",
              "      <th>95875</th>\n",
              "      <td>ايه عمرو حبيبى احن هنتهطل ايه</td>\n",
              "    </tr>\n",
              "    <tr>\n",
              "      <th>79799</th>\n",
              "      <td>دول مش حسو وهم ايه علق وضع برا بيراميدز هلى قرع دخل ايه كانت شطر تفز هلى خسر بيراميدز فعل فعل تعمد سبق صرر</td>\n",
              "    </tr>\n",
              "    <tr>\n",
              "      <th>1629</th>\n",
              "      <td>زبط هدا الل نقل</td>\n",
              "    </tr>\n",
              "    <tr>\n",
              "      <th>114878</th>\n",
              "      <td>بلش نهر بهك صور اكد ريل حيربح</td>\n",
              "    </tr>\n",
              "    <tr>\n",
              "      <th>2295</th>\n",
              "      <td>دخل هالذق وهالشوارب احل حلى رجل بحب انا ووت ونو حبي</td>\n",
              "    </tr>\n",
              "    <tr>\n",
              "      <th>102239</th>\n",
              "      <td>كاس علم ده عيز تعب</td>\n",
              "    </tr>\n",
              "    <tr>\n",
              "      <th>95310</th>\n",
              "      <td>نفع مانقابلش غنا كامير نهي</td>\n",
              "    </tr>\n",
              "    <tr>\n",
              "      <th>61620</th>\n",
              "      <td>رور وقت عقب زمن أكد عند حسس الا ظهر صوت زعج كمن</td>\n",
              "    </tr>\n",
              "    <tr>\n",
              "      <th>110965</th>\n",
              "      <td>اذا اخت خيم عال وجب امك طرق رضع رضع ماتخاف وخت حبل كيف خلف يقر</td>\n",
              "    </tr>\n",
              "    <tr>\n",
              "      <th>128202</th>\n",
              "      <td>يعن وقت عرف انك نقل سي ان انك مرتاحينبس سيس بحب بخر اكد انت</td>\n",
              "    </tr>\n",
              "    <tr>\n",
              "      <th>143506</th>\n",
              "      <td>دي مرق ليه شي دي ياخ</td>\n",
              "    </tr>\n",
              "    <tr>\n",
              "      <th>41457</th>\n",
              "      <td>نقد بشء اخر عدي كونو ردد حرم دوزو راه خصك تشف باش ردة دخل غرد عند تشف ردد انا شخص ماعنديش شكل كنتاقد حكم قصر ماعنديش طبل باش طفل تجي دير علم قلبو عليها قفة</td>\n",
              "    </tr>\n",
              "    <tr>\n",
              "      <th>86552</th>\n",
              "      <td>الل لوش كبر شري ليه كبر</td>\n",
              "    </tr>\n",
              "    <tr>\n",
              "      <th>115953</th>\n",
              "      <td>تصر وزر اورثودوكسي</td>\n",
              "    </tr>\n",
              "    <tr>\n",
              "      <th>74751</th>\n",
              "      <td>الل يحب سعد يقل بنب قعد بين صطلح قني صرة سوء حرف او تقن</td>\n",
              "    </tr>\n",
              "    <tr>\n",
              "      <th>131590</th>\n",
              "      <td>تخل سعد يشف فخذ يغض بصر</td>\n",
              "    </tr>\n",
              "    <tr>\n",
              "      <th>129042</th>\n",
              "      <td>اذا الب يشف نتو ستق عبد كجو كوم لحم شو بدن نطر منو جرم بحق نتو هيد زملو حبس تفه رجل</td>\n",
              "    </tr>\n",
              "  </tbody>\n",
              "</table>\n",
              "</div>\n",
              "    <div class=\"colab-df-buttons\">\n",
              "\n",
              "  <div class=\"colab-df-container\">\n",
              "    <button class=\"colab-df-convert\" onclick=\"convertToInteractive('df-d1469b49-b049-4fca-a1d5-d594f73f0a1e')\"\n",
              "            title=\"Convert this dataframe to an interactive table.\"\n",
              "            style=\"display:none;\">\n",
              "\n",
              "  <svg xmlns=\"http://www.w3.org/2000/svg\" height=\"24px\" viewBox=\"0 -960 960 960\">\n",
              "    <path d=\"M120-120v-720h720v720H120Zm60-500h600v-160H180v160Zm220 220h160v-160H400v160Zm0 220h160v-160H400v160ZM180-400h160v-160H180v160Zm440 0h160v-160H620v160ZM180-180h160v-160H180v160Zm440 0h160v-160H620v160Z\"/>\n",
              "  </svg>\n",
              "    </button>\n",
              "\n",
              "  <style>\n",
              "    .colab-df-container {\n",
              "      display:flex;\n",
              "      gap: 12px;\n",
              "    }\n",
              "\n",
              "    .colab-df-convert {\n",
              "      background-color: #E8F0FE;\n",
              "      border: none;\n",
              "      border-radius: 50%;\n",
              "      cursor: pointer;\n",
              "      display: none;\n",
              "      fill: #1967D2;\n",
              "      height: 32px;\n",
              "      padding: 0 0 0 0;\n",
              "      width: 32px;\n",
              "    }\n",
              "\n",
              "    .colab-df-convert:hover {\n",
              "      background-color: #E2EBFA;\n",
              "      box-shadow: 0px 1px 2px rgba(60, 64, 67, 0.3), 0px 1px 3px 1px rgba(60, 64, 67, 0.15);\n",
              "      fill: #174EA6;\n",
              "    }\n",
              "\n",
              "    .colab-df-buttons div {\n",
              "      margin-bottom: 4px;\n",
              "    }\n",
              "\n",
              "    [theme=dark] .colab-df-convert {\n",
              "      background-color: #3B4455;\n",
              "      fill: #D2E3FC;\n",
              "    }\n",
              "\n",
              "    [theme=dark] .colab-df-convert:hover {\n",
              "      background-color: #434B5C;\n",
              "      box-shadow: 0px 1px 3px 1px rgba(0, 0, 0, 0.15);\n",
              "      filter: drop-shadow(0px 1px 2px rgba(0, 0, 0, 0.3));\n",
              "      fill: #FFFFFF;\n",
              "    }\n",
              "  </style>\n",
              "\n",
              "    <script>\n",
              "      const buttonEl =\n",
              "        document.querySelector('#df-d1469b49-b049-4fca-a1d5-d594f73f0a1e button.colab-df-convert');\n",
              "      buttonEl.style.display =\n",
              "        google.colab.kernel.accessAllowed ? 'block' : 'none';\n",
              "\n",
              "      async function convertToInteractive(key) {\n",
              "        const element = document.querySelector('#df-d1469b49-b049-4fca-a1d5-d594f73f0a1e');\n",
              "        const dataTable =\n",
              "          await google.colab.kernel.invokeFunction('convertToInteractive',\n",
              "                                                    [key], {});\n",
              "        if (!dataTable) return;\n",
              "\n",
              "        const docLinkHtml = 'Like what you see? Visit the ' +\n",
              "          '<a target=\"_blank\" href=https://colab.research.google.com/notebooks/data_table.ipynb>data table notebook</a>'\n",
              "          + ' to learn more about interactive tables.';\n",
              "        element.innerHTML = '';\n",
              "        dataTable['output_type'] = 'display_data';\n",
              "        await google.colab.output.renderOutput(dataTable, element);\n",
              "        const docLink = document.createElement('div');\n",
              "        docLink.innerHTML = docLinkHtml;\n",
              "        element.appendChild(docLink);\n",
              "      }\n",
              "    </script>\n",
              "  </div>\n",
              "\n",
              "\n",
              "<div id=\"df-c7a85eb1-ec8f-4ad1-979b-277cc7b51b2f\">\n",
              "  <button class=\"colab-df-quickchart\" onclick=\"quickchart('df-c7a85eb1-ec8f-4ad1-979b-277cc7b51b2f')\"\n",
              "            title=\"Suggest charts\"\n",
              "            style=\"display:none;\">\n",
              "\n",
              "<svg xmlns=\"http://www.w3.org/2000/svg\" height=\"24px\"viewBox=\"0 0 24 24\"\n",
              "     width=\"24px\">\n",
              "    <g>\n",
              "        <path d=\"M19 3H5c-1.1 0-2 .9-2 2v14c0 1.1.9 2 2 2h14c1.1 0 2-.9 2-2V5c0-1.1-.9-2-2-2zM9 17H7v-7h2v7zm4 0h-2V7h2v10zm4 0h-2v-4h2v4z\"/>\n",
              "    </g>\n",
              "</svg>\n",
              "  </button>\n",
              "\n",
              "<style>\n",
              "  .colab-df-quickchart {\n",
              "      --bg-color: #E8F0FE;\n",
              "      --fill-color: #1967D2;\n",
              "      --hover-bg-color: #E2EBFA;\n",
              "      --hover-fill-color: #174EA6;\n",
              "      --disabled-fill-color: #AAA;\n",
              "      --disabled-bg-color: #DDD;\n",
              "  }\n",
              "\n",
              "  [theme=dark] .colab-df-quickchart {\n",
              "      --bg-color: #3B4455;\n",
              "      --fill-color: #D2E3FC;\n",
              "      --hover-bg-color: #434B5C;\n",
              "      --hover-fill-color: #FFFFFF;\n",
              "      --disabled-bg-color: #3B4455;\n",
              "      --disabled-fill-color: #666;\n",
              "  }\n",
              "\n",
              "  .colab-df-quickchart {\n",
              "    background-color: var(--bg-color);\n",
              "    border: none;\n",
              "    border-radius: 50%;\n",
              "    cursor: pointer;\n",
              "    display: none;\n",
              "    fill: var(--fill-color);\n",
              "    height: 32px;\n",
              "    padding: 0;\n",
              "    width: 32px;\n",
              "  }\n",
              "\n",
              "  .colab-df-quickchart:hover {\n",
              "    background-color: var(--hover-bg-color);\n",
              "    box-shadow: 0 1px 2px rgba(60, 64, 67, 0.3), 0 1px 3px 1px rgba(60, 64, 67, 0.15);\n",
              "    fill: var(--button-hover-fill-color);\n",
              "  }\n",
              "\n",
              "  .colab-df-quickchart-complete:disabled,\n",
              "  .colab-df-quickchart-complete:disabled:hover {\n",
              "    background-color: var(--disabled-bg-color);\n",
              "    fill: var(--disabled-fill-color);\n",
              "    box-shadow: none;\n",
              "  }\n",
              "\n",
              "  .colab-df-spinner {\n",
              "    border: 2px solid var(--fill-color);\n",
              "    border-color: transparent;\n",
              "    border-bottom-color: var(--fill-color);\n",
              "    animation:\n",
              "      spin 1s steps(1) infinite;\n",
              "  }\n",
              "\n",
              "  @keyframes spin {\n",
              "    0% {\n",
              "      border-color: transparent;\n",
              "      border-bottom-color: var(--fill-color);\n",
              "      border-left-color: var(--fill-color);\n",
              "    }\n",
              "    20% {\n",
              "      border-color: transparent;\n",
              "      border-left-color: var(--fill-color);\n",
              "      border-top-color: var(--fill-color);\n",
              "    }\n",
              "    30% {\n",
              "      border-color: transparent;\n",
              "      border-left-color: var(--fill-color);\n",
              "      border-top-color: var(--fill-color);\n",
              "      border-right-color: var(--fill-color);\n",
              "    }\n",
              "    40% {\n",
              "      border-color: transparent;\n",
              "      border-right-color: var(--fill-color);\n",
              "      border-top-color: var(--fill-color);\n",
              "    }\n",
              "    60% {\n",
              "      border-color: transparent;\n",
              "      border-right-color: var(--fill-color);\n",
              "    }\n",
              "    80% {\n",
              "      border-color: transparent;\n",
              "      border-right-color: var(--fill-color);\n",
              "      border-bottom-color: var(--fill-color);\n",
              "    }\n",
              "    90% {\n",
              "      border-color: transparent;\n",
              "      border-bottom-color: var(--fill-color);\n",
              "    }\n",
              "  }\n",
              "</style>\n",
              "\n",
              "  <script>\n",
              "    async function quickchart(key) {\n",
              "      const quickchartButtonEl =\n",
              "        document.querySelector('#' + key + ' button');\n",
              "      quickchartButtonEl.disabled = true;  // To prevent multiple clicks.\n",
              "      quickchartButtonEl.classList.add('colab-df-spinner');\n",
              "      try {\n",
              "        const charts = await google.colab.kernel.invokeFunction(\n",
              "            'suggestCharts', [key], {});\n",
              "      } catch (error) {\n",
              "        console.error('Error during call to suggestCharts:', error);\n",
              "      }\n",
              "      quickchartButtonEl.classList.remove('colab-df-spinner');\n",
              "      quickchartButtonEl.classList.add('colab-df-quickchart-complete');\n",
              "    }\n",
              "    (() => {\n",
              "      let quickchartButtonEl =\n",
              "        document.querySelector('#df-c7a85eb1-ec8f-4ad1-979b-277cc7b51b2f button');\n",
              "      quickchartButtonEl.style.display =\n",
              "        google.colab.kernel.accessAllowed ? 'block' : 'none';\n",
              "    })();\n",
              "  </script>\n",
              "</div>\n",
              "\n",
              "    </div>\n",
              "  </div>\n"
            ],
            "application/vnd.google.colaboratory.intrinsic+json": {
              "type": "dataframe",
              "variable_name": "x_val",
              "summary": "{\n  \"name\": \"x_val\",\n  \"rows\": 12557,\n  \"fields\": [\n    {\n      \"column\": \"text\",\n      \"properties\": {\n        \"dtype\": \"string\",\n        \"num_unique_values\": 12531,\n        \"samples\": [\n          \"\\u0642\\u0627\\u0645 \\u0633\\u064a\\u062f \\u0645\\u062a\\u0644 \\u0628\\u064a\\u0643 \\u0643\\u0645\\u0634 \\u062f\\u0627\\u064a \\u0641\\u064a\\u0647 \\u0644\\u0628\\u0648 \\u0645\\u0634 \\u062f\\u0627\\u064a \\u0639\\u0645\\u0644\\u0648 \\u0644\\u0628\\u062f \\u0647\\u061b\\u0628\\u0633 \\u062d\\u062f\\u0627 \\u0628\\u062d\\u0628 \\u062a\\u0644\\u0646 \\u062d\\u062f\\u0627 \\u0628\\u062e\\u0641 \\u0643\\u062a\\u0631 \\u0645\\u0646\\u0646\",\n          \"\\u0634\\u062e\\u0635 \\u0646\\u0627\\u0633 \\u0631\\u0627\\u062d \\u0641\\u0649 \\u0643\\u0644\\u0645 \\u0639\\u0627\\u0647 \\u0645\\u0634 \\u0633\\u0647\\u0644 \\u0631\\u0627\\u062d \\u0641\\u0649 \\u0643\\u0644\\u0645\",\n          \"\\u064a\\u0639\\u0646 \\u0639\\u0646\\u062f \\u064a\\u0642\\u0644 \\u0641\\u064a\\u0643 \\u0648\\u0644\\u0633 \\u0645\\u0633\\u062a \\u0646\\u0647\\u0645 \\u062d\\u0627\\u062c\\u0647\\u0633\\u0645\\u064a\\u0639 \\u0639\\u0644\\u0645 \\u0644\\u0633\\u0627 \\u0628\\u062a\\u0634 \\u0644\\u064a\\u0647\\u0645\\u0642\\u062f\\u064a\\u0631 \\u0644\\u0633\\u0627 \\u062a\\u062e\\u0641 \\u0641\\u0642\\u062f \\u0645\\u0644\\u0645\\u062c\\u064a\\u0628 \\u0644\\u062c\\u0623 \\u0644\\u063a\\u0631\"\n        ],\n        \"semantic_type\": \"\",\n        \"description\": \"\"\n      }\n    }\n  ]\n}"
            }
          },
          "metadata": {},
          "execution_count": 22
        }
      ]
    },
    {
      "cell_type": "code",
      "source": [
        "x_test['text'] = x_test['text'].apply(preprocess_arabic_text)"
      ],
      "metadata": {
        "id": "cdhvWEuMZ1v4"
      },
      "execution_count": null,
      "outputs": []
    },
    {
      "cell_type": "code",
      "source": [
        "x_test.head(50)"
      ],
      "metadata": {
        "colab": {
          "base_uri": "https://localhost:8080/",
          "height": 682
        },
        "id": "fyVkb3b0aMg5",
        "outputId": "d5a29603-f76f-442b-e5b2-487412c682db"
      },
      "execution_count": null,
      "outputs": [
        {
          "output_type": "execute_result",
          "data": {
            "text/plain": [
              "                                                                                                                                                                                              text\n",
              "118097                                                                                                                             كتر بيح فسد يسم سمء رفو بهنيهمبس عم فهم ليه عطل وقف سمي نبه بري\n",
              "33831                                                                                                                                                                                      طلع عدة\n",
              "31787                                                                                                                                                                  روق بال رتح نفس طمئ وجد عبد\n",
              "147559                                                                                                                                                                      خلص جبر علي شنو خرج هه\n",
              "122145                                                                                                                                   نيح بخش نافوخامره انا حضر شهد وكن وجد اكل قتل عصي دبغ دبغ\n",
              "83694                                                                                                                                                                              يرب نصر هلى غلى\n",
              "94698                                                                                        انا شيف انن نشر كبر حرس ارخ كأس علم مش جاز حجه دعو فخر خلص يعن ده خلف يعن نكن ريح كأس علم حرس عند سنه\n",
              "78596                                                                                                                                                                          ربي حقق امن بأذ الل\n",
              "106127                                                                                                                                                                 ومم يكون قعد معك مش سمع كلم\n",
              "44400                                                                                                                                                           فعل مارتيل جمل مدن لون زرق زاد جمل\n",
              "46152                                                                                                                                                     جمل سلم صقر قرش افهم ولو بغت ندر ايد معا\n",
              "16544                                                                                                                                        هه علش انا صبح نقر اسم ايم توا ركز لقت عمد عشت سمي سي\n",
              "56203                                                                                                                                                            طب فكر بقى كلم دى وشف خبط علا تنى\n",
              "71506                                                                                                                                                                            انت لسه هاشتاج ده\n",
              "26540                                                                                                                                                                          توا قعد وقف تعر طول\n",
              "95820                                                                                                                                                                       مش عرف شقط درى دخل جوه\n",
              "78698                                                                                                                                                                وضح ان حضر هرجى او فى بلد انه\n",
              "97579   طبع مفيهاش كلم ربن بعت لين فى اشد لحظ كنا نوج ومش حننسى بدل نزل سيس رسى مش رئياح استدعيناه لبى طلب حمل كثر كثر اجل اجل مصر عشن كده حبن ليه يستحقهرب يحم اهل لشر جعل دعا خير للى فى ميز حسن\n",
              "125367                                                                                                                                                                                    قنعو بهم\n",
              "108511                                                                                                                                                                      الل شو رح بسط بوق جورج\n",
              "105206                                                                                                                 ناس كانت تقل ايه جنز فكر مش صح قليالوداع جمل حبب لاي ده الي فكر بقي جبت تيب\n",
              "78481                                                                                                                                                         يصح يقل انن صعد نهي ارض نتج كانت لين\n",
              "107170                                                                                                                            دام عزك سعوديةودام سلم علي انكل سنة ونت قدم لـ تقدمواثبت حسد انت\n",
              "79404                                                                                                                                       كوس اهو غلب برح ربن عدكو قابلو عشن مايفضلش نكو خطن حمر\n",
              "50078                                                                                                                                                               قدر بلغ علي حسب اتش او حسب ولد\n",
              "2494                                                                                                                             الف برو بتستاهلو حلى سور قدم ولل وفق داي بكل شي ولايضعيلك تعب قلب\n",
              "124792                                                                                                                                حلى هيك شعذ عند يول سيس عين حطة يلي بتستضيفه نور وسن خير علك\n",
              "83429                                    انت زبال كذب وظيفتكممن دقيق كنت علي قنة جزيرةبتحرض علي قيم ثور يامعرضثورة ولد ديخ انت محل شعب ان طلع كلم أسم بلد دي سيب شكل دي ليه ازي دا طلع كلم أسم ملي\n",
              "131533                                                                                                                                       رحل يأس الي صلنال كمة قرف وجد تخل مدد غرب كمن سنة زيد\n",
              "9483                                                                                                                                                            حسدو حاج مافهنش اي وجد خرط لجو سمح\n",
              "46319                                                                                                                            نعم عندو مايقول شعر بدأ عروستو زون حرم ومقبولينهه قتل ديل ربط ضحك\n",
              "61446                                                                                                                                                                              قدر دنا دحت صلح\n",
              "131779                                                                                                                                لرد رائيل بنء رفأ ناقورهوشو بصر اذا ردي رائيل أنشاء عمل كهرب\n",
              "117217                                                                                                                                                                                 خلص حكي فرق\n",
              "124609                                                                                                                                                                  نفق حال نصر شعب حر بطل غنم\n",
              "1779                                                                                                               ؤبر رر قلب حلى پبا الل سعد ويه عمر يخل خلل عيل حلة خلل عمد يرب بوس لعو حبيب روح\n",
              "65733                                                                                                             دول شهداء مصر برر ورد الل فتح جنا مصرعلش نعش بأم وأمانرحمة الل علي شهداء شرط بسل\n",
              "90373                                                                                                                                                               مش عرف ليه قرت بصت يسر وهى بتغ\n",
              "21258                                                                                                                              وعد معا عزب وعد الب كلم حمد حمز الح بلغ حمد سمع الى عبد حلم حفظ\n",
              "16453                                                                                                                                                           ابخ ناس وقف الل حاولو صطدو مية عكر\n",
              "83055                            تمم وعش كدا لزم عدم قدة اخو الل قعد علف لسج عري لتج لتج ده حدد لسه عدمش ليهوبديع جرم صفو حجز وخر شطر ابا جهل لزم نشف مول اخو وصل لحد فين وضع صيدل درس منك لله مبر\n",
              "63478                                                                                                                                                                 نور ام دنيااحمدالله سلم قمرر\n",
              "25397                                                                                                                                                                       كـف عينـ عـن غيـر ـرزق\n",
              "33487                                                                                                                                                                                   هه اكد نهم\n",
              "63538                                                                                                                                             لشر مرارتكإن شاء الل هماانتحمل يوم علش خلك كرريم\n",
              "74266                                                                                                                                                                   انا بحبش يفو اسف ياابوصلاح\n",
              "25162                                                                                                                                                                 تبي تمش تو عنا كمل شرمول دلع\n",
              "130371                                                                                                                                                                     ساذ كلم نبه نطق ملك نكت\n",
              "101377                                                                                                                                             ده شبع عين مش بطن غني نفس مش جيب حلو روح مش شكل\n",
              "74433                                                                                                                                                                                  جمد يتس برح"
            ],
            "text/html": [
              "\n",
              "  <div id=\"df-49f4f9b5-df64-4115-978e-f91850953bfb\" class=\"colab-df-container\">\n",
              "    <div>\n",
              "<style scoped>\n",
              "    .dataframe tbody tr th:only-of-type {\n",
              "        vertical-align: middle;\n",
              "    }\n",
              "\n",
              "    .dataframe tbody tr th {\n",
              "        vertical-align: top;\n",
              "    }\n",
              "\n",
              "    .dataframe thead th {\n",
              "        text-align: right;\n",
              "    }\n",
              "</style>\n",
              "<table border=\"1\" class=\"dataframe\">\n",
              "  <thead>\n",
              "    <tr style=\"text-align: right;\">\n",
              "      <th></th>\n",
              "      <th>text</th>\n",
              "    </tr>\n",
              "  </thead>\n",
              "  <tbody>\n",
              "    <tr>\n",
              "      <th>118097</th>\n",
              "      <td>كتر بيح فسد يسم سمء رفو بهنيهمبس عم فهم ليه عطل وقف سمي نبه بري</td>\n",
              "    </tr>\n",
              "    <tr>\n",
              "      <th>33831</th>\n",
              "      <td>طلع عدة</td>\n",
              "    </tr>\n",
              "    <tr>\n",
              "      <th>31787</th>\n",
              "      <td>روق بال رتح نفس طمئ وجد عبد</td>\n",
              "    </tr>\n",
              "    <tr>\n",
              "      <th>147559</th>\n",
              "      <td>خلص جبر علي شنو خرج هه</td>\n",
              "    </tr>\n",
              "    <tr>\n",
              "      <th>122145</th>\n",
              "      <td>نيح بخش نافوخامره انا حضر شهد وكن وجد اكل قتل عصي دبغ دبغ</td>\n",
              "    </tr>\n",
              "    <tr>\n",
              "      <th>83694</th>\n",
              "      <td>يرب نصر هلى غلى</td>\n",
              "    </tr>\n",
              "    <tr>\n",
              "      <th>94698</th>\n",
              "      <td>انا شيف انن نشر كبر حرس ارخ كأس علم مش جاز حجه دعو فخر خلص يعن ده خلف يعن نكن ريح كأس علم حرس عند سنه</td>\n",
              "    </tr>\n",
              "    <tr>\n",
              "      <th>78596</th>\n",
              "      <td>ربي حقق امن بأذ الل</td>\n",
              "    </tr>\n",
              "    <tr>\n",
              "      <th>106127</th>\n",
              "      <td>ومم يكون قعد معك مش سمع كلم</td>\n",
              "    </tr>\n",
              "    <tr>\n",
              "      <th>44400</th>\n",
              "      <td>فعل مارتيل جمل مدن لون زرق زاد جمل</td>\n",
              "    </tr>\n",
              "    <tr>\n",
              "      <th>46152</th>\n",
              "      <td>جمل سلم صقر قرش افهم ولو بغت ندر ايد معا</td>\n",
              "    </tr>\n",
              "    <tr>\n",
              "      <th>16544</th>\n",
              "      <td>هه علش انا صبح نقر اسم ايم توا ركز لقت عمد عشت سمي سي</td>\n",
              "    </tr>\n",
              "    <tr>\n",
              "      <th>56203</th>\n",
              "      <td>طب فكر بقى كلم دى وشف خبط علا تنى</td>\n",
              "    </tr>\n",
              "    <tr>\n",
              "      <th>71506</th>\n",
              "      <td>انت لسه هاشتاج ده</td>\n",
              "    </tr>\n",
              "    <tr>\n",
              "      <th>26540</th>\n",
              "      <td>توا قعد وقف تعر طول</td>\n",
              "    </tr>\n",
              "    <tr>\n",
              "      <th>95820</th>\n",
              "      <td>مش عرف شقط درى دخل جوه</td>\n",
              "    </tr>\n",
              "    <tr>\n",
              "      <th>78698</th>\n",
              "      <td>وضح ان حضر هرجى او فى بلد انه</td>\n",
              "    </tr>\n",
              "    <tr>\n",
              "      <th>97579</th>\n",
              "      <td>طبع مفيهاش كلم ربن بعت لين فى اشد لحظ كنا نوج ومش حننسى بدل نزل سيس رسى مش رئياح استدعيناه لبى طلب حمل كثر كثر اجل اجل مصر عشن كده حبن ليه يستحقهرب يحم اهل لشر جعل دعا خير للى فى ميز حسن</td>\n",
              "    </tr>\n",
              "    <tr>\n",
              "      <th>125367</th>\n",
              "      <td>قنعو بهم</td>\n",
              "    </tr>\n",
              "    <tr>\n",
              "      <th>108511</th>\n",
              "      <td>الل شو رح بسط بوق جورج</td>\n",
              "    </tr>\n",
              "    <tr>\n",
              "      <th>105206</th>\n",
              "      <td>ناس كانت تقل ايه جنز فكر مش صح قليالوداع جمل حبب لاي ده الي فكر بقي جبت تيب</td>\n",
              "    </tr>\n",
              "    <tr>\n",
              "      <th>78481</th>\n",
              "      <td>يصح يقل انن صعد نهي ارض نتج كانت لين</td>\n",
              "    </tr>\n",
              "    <tr>\n",
              "      <th>107170</th>\n",
              "      <td>دام عزك سعوديةودام سلم علي انكل سنة ونت قدم لـ تقدمواثبت حسد انت</td>\n",
              "    </tr>\n",
              "    <tr>\n",
              "      <th>79404</th>\n",
              "      <td>كوس اهو غلب برح ربن عدكو قابلو عشن مايفضلش نكو خطن حمر</td>\n",
              "    </tr>\n",
              "    <tr>\n",
              "      <th>50078</th>\n",
              "      <td>قدر بلغ علي حسب اتش او حسب ولد</td>\n",
              "    </tr>\n",
              "    <tr>\n",
              "      <th>2494</th>\n",
              "      <td>الف برو بتستاهلو حلى سور قدم ولل وفق داي بكل شي ولايضعيلك تعب قلب</td>\n",
              "    </tr>\n",
              "    <tr>\n",
              "      <th>124792</th>\n",
              "      <td>حلى هيك شعذ عند يول سيس عين حطة يلي بتستضيفه نور وسن خير علك</td>\n",
              "    </tr>\n",
              "    <tr>\n",
              "      <th>83429</th>\n",
              "      <td>انت زبال كذب وظيفتكممن دقيق كنت علي قنة جزيرةبتحرض علي قيم ثور يامعرضثورة ولد ديخ انت محل شعب ان طلع كلم أسم بلد دي سيب شكل دي ليه ازي دا طلع كلم أسم ملي</td>\n",
              "    </tr>\n",
              "    <tr>\n",
              "      <th>131533</th>\n",
              "      <td>رحل يأس الي صلنال كمة قرف وجد تخل مدد غرب كمن سنة زيد</td>\n",
              "    </tr>\n",
              "    <tr>\n",
              "      <th>9483</th>\n",
              "      <td>حسدو حاج مافهنش اي وجد خرط لجو سمح</td>\n",
              "    </tr>\n",
              "    <tr>\n",
              "      <th>46319</th>\n",
              "      <td>نعم عندو مايقول شعر بدأ عروستو زون حرم ومقبولينهه قتل ديل ربط ضحك</td>\n",
              "    </tr>\n",
              "    <tr>\n",
              "      <th>61446</th>\n",
              "      <td>قدر دنا دحت صلح</td>\n",
              "    </tr>\n",
              "    <tr>\n",
              "      <th>131779</th>\n",
              "      <td>لرد رائيل بنء رفأ ناقورهوشو بصر اذا ردي رائيل أنشاء عمل كهرب</td>\n",
              "    </tr>\n",
              "    <tr>\n",
              "      <th>117217</th>\n",
              "      <td>خلص حكي فرق</td>\n",
              "    </tr>\n",
              "    <tr>\n",
              "      <th>124609</th>\n",
              "      <td>نفق حال نصر شعب حر بطل غنم</td>\n",
              "    </tr>\n",
              "    <tr>\n",
              "      <th>1779</th>\n",
              "      <td>ؤبر رر قلب حلى پبا الل سعد ويه عمر يخل خلل عيل حلة خلل عمد يرب بوس لعو حبيب روح</td>\n",
              "    </tr>\n",
              "    <tr>\n",
              "      <th>65733</th>\n",
              "      <td>دول شهداء مصر برر ورد الل فتح جنا مصرعلش نعش بأم وأمانرحمة الل علي شهداء شرط بسل</td>\n",
              "    </tr>\n",
              "    <tr>\n",
              "      <th>90373</th>\n",
              "      <td>مش عرف ليه قرت بصت يسر وهى بتغ</td>\n",
              "    </tr>\n",
              "    <tr>\n",
              "      <th>21258</th>\n",
              "      <td>وعد معا عزب وعد الب كلم حمد حمز الح بلغ حمد سمع الى عبد حلم حفظ</td>\n",
              "    </tr>\n",
              "    <tr>\n",
              "      <th>16453</th>\n",
              "      <td>ابخ ناس وقف الل حاولو صطدو مية عكر</td>\n",
              "    </tr>\n",
              "    <tr>\n",
              "      <th>83055</th>\n",
              "      <td>تمم وعش كدا لزم عدم قدة اخو الل قعد علف لسج عري لتج لتج ده حدد لسه عدمش ليهوبديع جرم صفو حجز وخر شطر ابا جهل لزم نشف مول اخو وصل لحد فين وضع صيدل درس منك لله مبر</td>\n",
              "    </tr>\n",
              "    <tr>\n",
              "      <th>63478</th>\n",
              "      <td>نور ام دنيااحمدالله سلم قمرر</td>\n",
              "    </tr>\n",
              "    <tr>\n",
              "      <th>25397</th>\n",
              "      <td>كـف عينـ عـن غيـر ـرزق</td>\n",
              "    </tr>\n",
              "    <tr>\n",
              "      <th>33487</th>\n",
              "      <td>هه اكد نهم</td>\n",
              "    </tr>\n",
              "    <tr>\n",
              "      <th>63538</th>\n",
              "      <td>لشر مرارتكإن شاء الل هماانتحمل يوم علش خلك كرريم</td>\n",
              "    </tr>\n",
              "    <tr>\n",
              "      <th>74266</th>\n",
              "      <td>انا بحبش يفو اسف ياابوصلاح</td>\n",
              "    </tr>\n",
              "    <tr>\n",
              "      <th>25162</th>\n",
              "      <td>تبي تمش تو عنا كمل شرمول دلع</td>\n",
              "    </tr>\n",
              "    <tr>\n",
              "      <th>130371</th>\n",
              "      <td>ساذ كلم نبه نطق ملك نكت</td>\n",
              "    </tr>\n",
              "    <tr>\n",
              "      <th>101377</th>\n",
              "      <td>ده شبع عين مش بطن غني نفس مش جيب حلو روح مش شكل</td>\n",
              "    </tr>\n",
              "    <tr>\n",
              "      <th>74433</th>\n",
              "      <td>جمد يتس برح</td>\n",
              "    </tr>\n",
              "  </tbody>\n",
              "</table>\n",
              "</div>\n",
              "    <div class=\"colab-df-buttons\">\n",
              "\n",
              "  <div class=\"colab-df-container\">\n",
              "    <button class=\"colab-df-convert\" onclick=\"convertToInteractive('df-49f4f9b5-df64-4115-978e-f91850953bfb')\"\n",
              "            title=\"Convert this dataframe to an interactive table.\"\n",
              "            style=\"display:none;\">\n",
              "\n",
              "  <svg xmlns=\"http://www.w3.org/2000/svg\" height=\"24px\" viewBox=\"0 -960 960 960\">\n",
              "    <path d=\"M120-120v-720h720v720H120Zm60-500h600v-160H180v160Zm220 220h160v-160H400v160Zm0 220h160v-160H400v160ZM180-400h160v-160H180v160Zm440 0h160v-160H620v160ZM180-180h160v-160H180v160Zm440 0h160v-160H620v160Z\"/>\n",
              "  </svg>\n",
              "    </button>\n",
              "\n",
              "  <style>\n",
              "    .colab-df-container {\n",
              "      display:flex;\n",
              "      gap: 12px;\n",
              "    }\n",
              "\n",
              "    .colab-df-convert {\n",
              "      background-color: #E8F0FE;\n",
              "      border: none;\n",
              "      border-radius: 50%;\n",
              "      cursor: pointer;\n",
              "      display: none;\n",
              "      fill: #1967D2;\n",
              "      height: 32px;\n",
              "      padding: 0 0 0 0;\n",
              "      width: 32px;\n",
              "    }\n",
              "\n",
              "    .colab-df-convert:hover {\n",
              "      background-color: #E2EBFA;\n",
              "      box-shadow: 0px 1px 2px rgba(60, 64, 67, 0.3), 0px 1px 3px 1px rgba(60, 64, 67, 0.15);\n",
              "      fill: #174EA6;\n",
              "    }\n",
              "\n",
              "    .colab-df-buttons div {\n",
              "      margin-bottom: 4px;\n",
              "    }\n",
              "\n",
              "    [theme=dark] .colab-df-convert {\n",
              "      background-color: #3B4455;\n",
              "      fill: #D2E3FC;\n",
              "    }\n",
              "\n",
              "    [theme=dark] .colab-df-convert:hover {\n",
              "      background-color: #434B5C;\n",
              "      box-shadow: 0px 1px 3px 1px rgba(0, 0, 0, 0.15);\n",
              "      filter: drop-shadow(0px 1px 2px rgba(0, 0, 0, 0.3));\n",
              "      fill: #FFFFFF;\n",
              "    }\n",
              "  </style>\n",
              "\n",
              "    <script>\n",
              "      const buttonEl =\n",
              "        document.querySelector('#df-49f4f9b5-df64-4115-978e-f91850953bfb button.colab-df-convert');\n",
              "      buttonEl.style.display =\n",
              "        google.colab.kernel.accessAllowed ? 'block' : 'none';\n",
              "\n",
              "      async function convertToInteractive(key) {\n",
              "        const element = document.querySelector('#df-49f4f9b5-df64-4115-978e-f91850953bfb');\n",
              "        const dataTable =\n",
              "          await google.colab.kernel.invokeFunction('convertToInteractive',\n",
              "                                                    [key], {});\n",
              "        if (!dataTable) return;\n",
              "\n",
              "        const docLinkHtml = 'Like what you see? Visit the ' +\n",
              "          '<a target=\"_blank\" href=https://colab.research.google.com/notebooks/data_table.ipynb>data table notebook</a>'\n",
              "          + ' to learn more about interactive tables.';\n",
              "        element.innerHTML = '';\n",
              "        dataTable['output_type'] = 'display_data';\n",
              "        await google.colab.output.renderOutput(dataTable, element);\n",
              "        const docLink = document.createElement('div');\n",
              "        docLink.innerHTML = docLinkHtml;\n",
              "        element.appendChild(docLink);\n",
              "      }\n",
              "    </script>\n",
              "  </div>\n",
              "\n",
              "\n",
              "<div id=\"df-4abd01bd-67be-4920-80f4-ea0c88502f9a\">\n",
              "  <button class=\"colab-df-quickchart\" onclick=\"quickchart('df-4abd01bd-67be-4920-80f4-ea0c88502f9a')\"\n",
              "            title=\"Suggest charts\"\n",
              "            style=\"display:none;\">\n",
              "\n",
              "<svg xmlns=\"http://www.w3.org/2000/svg\" height=\"24px\"viewBox=\"0 0 24 24\"\n",
              "     width=\"24px\">\n",
              "    <g>\n",
              "        <path d=\"M19 3H5c-1.1 0-2 .9-2 2v14c0 1.1.9 2 2 2h14c1.1 0 2-.9 2-2V5c0-1.1-.9-2-2-2zM9 17H7v-7h2v7zm4 0h-2V7h2v10zm4 0h-2v-4h2v4z\"/>\n",
              "    </g>\n",
              "</svg>\n",
              "  </button>\n",
              "\n",
              "<style>\n",
              "  .colab-df-quickchart {\n",
              "      --bg-color: #E8F0FE;\n",
              "      --fill-color: #1967D2;\n",
              "      --hover-bg-color: #E2EBFA;\n",
              "      --hover-fill-color: #174EA6;\n",
              "      --disabled-fill-color: #AAA;\n",
              "      --disabled-bg-color: #DDD;\n",
              "  }\n",
              "\n",
              "  [theme=dark] .colab-df-quickchart {\n",
              "      --bg-color: #3B4455;\n",
              "      --fill-color: #D2E3FC;\n",
              "      --hover-bg-color: #434B5C;\n",
              "      --hover-fill-color: #FFFFFF;\n",
              "      --disabled-bg-color: #3B4455;\n",
              "      --disabled-fill-color: #666;\n",
              "  }\n",
              "\n",
              "  .colab-df-quickchart {\n",
              "    background-color: var(--bg-color);\n",
              "    border: none;\n",
              "    border-radius: 50%;\n",
              "    cursor: pointer;\n",
              "    display: none;\n",
              "    fill: var(--fill-color);\n",
              "    height: 32px;\n",
              "    padding: 0;\n",
              "    width: 32px;\n",
              "  }\n",
              "\n",
              "  .colab-df-quickchart:hover {\n",
              "    background-color: var(--hover-bg-color);\n",
              "    box-shadow: 0 1px 2px rgba(60, 64, 67, 0.3), 0 1px 3px 1px rgba(60, 64, 67, 0.15);\n",
              "    fill: var(--button-hover-fill-color);\n",
              "  }\n",
              "\n",
              "  .colab-df-quickchart-complete:disabled,\n",
              "  .colab-df-quickchart-complete:disabled:hover {\n",
              "    background-color: var(--disabled-bg-color);\n",
              "    fill: var(--disabled-fill-color);\n",
              "    box-shadow: none;\n",
              "  }\n",
              "\n",
              "  .colab-df-spinner {\n",
              "    border: 2px solid var(--fill-color);\n",
              "    border-color: transparent;\n",
              "    border-bottom-color: var(--fill-color);\n",
              "    animation:\n",
              "      spin 1s steps(1) infinite;\n",
              "  }\n",
              "\n",
              "  @keyframes spin {\n",
              "    0% {\n",
              "      border-color: transparent;\n",
              "      border-bottom-color: var(--fill-color);\n",
              "      border-left-color: var(--fill-color);\n",
              "    }\n",
              "    20% {\n",
              "      border-color: transparent;\n",
              "      border-left-color: var(--fill-color);\n",
              "      border-top-color: var(--fill-color);\n",
              "    }\n",
              "    30% {\n",
              "      border-color: transparent;\n",
              "      border-left-color: var(--fill-color);\n",
              "      border-top-color: var(--fill-color);\n",
              "      border-right-color: var(--fill-color);\n",
              "    }\n",
              "    40% {\n",
              "      border-color: transparent;\n",
              "      border-right-color: var(--fill-color);\n",
              "      border-top-color: var(--fill-color);\n",
              "    }\n",
              "    60% {\n",
              "      border-color: transparent;\n",
              "      border-right-color: var(--fill-color);\n",
              "    }\n",
              "    80% {\n",
              "      border-color: transparent;\n",
              "      border-right-color: var(--fill-color);\n",
              "      border-bottom-color: var(--fill-color);\n",
              "    }\n",
              "    90% {\n",
              "      border-color: transparent;\n",
              "      border-bottom-color: var(--fill-color);\n",
              "    }\n",
              "  }\n",
              "</style>\n",
              "\n",
              "  <script>\n",
              "    async function quickchart(key) {\n",
              "      const quickchartButtonEl =\n",
              "        document.querySelector('#' + key + ' button');\n",
              "      quickchartButtonEl.disabled = true;  // To prevent multiple clicks.\n",
              "      quickchartButtonEl.classList.add('colab-df-spinner');\n",
              "      try {\n",
              "        const charts = await google.colab.kernel.invokeFunction(\n",
              "            'suggestCharts', [key], {});\n",
              "      } catch (error) {\n",
              "        console.error('Error during call to suggestCharts:', error);\n",
              "      }\n",
              "      quickchartButtonEl.classList.remove('colab-df-spinner');\n",
              "      quickchartButtonEl.classList.add('colab-df-quickchart-complete');\n",
              "    }\n",
              "    (() => {\n",
              "      let quickchartButtonEl =\n",
              "        document.querySelector('#df-4abd01bd-67be-4920-80f4-ea0c88502f9a button');\n",
              "      quickchartButtonEl.style.display =\n",
              "        google.colab.kernel.accessAllowed ? 'block' : 'none';\n",
              "    })();\n",
              "  </script>\n",
              "</div>\n",
              "\n",
              "    </div>\n",
              "  </div>\n"
            ],
            "application/vnd.google.colaboratory.intrinsic+json": {
              "type": "dataframe",
              "variable_name": "x_test",
              "summary": "{\n  \"name\": \"x_test\",\n  \"rows\": 22159,\n  \"fields\": [\n    {\n      \"column\": \"text\",\n      \"properties\": {\n        \"dtype\": \"string\",\n        \"num_unique_values\": 22108,\n        \"samples\": [\n          \"\\u064a\\u0648\\u0645 \\u0639\\u0645\\u0644 \\u0632\\u064a\\u0631 \\u0639\\u0627\\u0644\\u0645\\u0648\\u0644 \\u0645\\u062d\\u0646 \\u0645\\u0634 \\u0634\\u0648\\u0628\\u064a\\u0646\\u063a\",\n          \"\\u0637\\u0628 \\u0645\\u0627\\u062a\\u062c\\u0631\\u0628 \\u0642\\u0646\\u0639 \\u0639\\u0644\\u0634 \\u0631\\u0643\\u0644 \\u0642\\u0631\\u0628\",\n          \"\\u064a\\u0631\\u0628 \\u064a\\u062c\\u064a \\u0627\\u0644\\u0636 \\u064a\\u0631\\u0628 \\u064a\\u062c\\u064a \\u0627\\u0644\\u0636 \\u064a\\u0631\\u0628 \\u064a\\u062c\\u064a \\u0627\\u0644\\u0636 \\u064a\\u0631\\u0628 \\u064a\\u062c\\u064a \\u0627\\u0644\\u0636 \\u064a\\u0631\\u0628 \\u064a\\u062c\\u064a \\u0627\\u0644\\u0636 \\u064a\\u0631\\u0628 \\u064a\\u062c\\u064a \\u0627\\u0644\\u0636 \\u064a\\u0631\\u0628 \\u064a\\u062c\\u064a \\u0627\\u0644\\u0636 \\u0627\\u062c\\u0627 \\u0648\\u0644\\u0644\"\n        ],\n        \"semantic_type\": \"\",\n        \"description\": \"\"\n      }\n    }\n  ]\n}"
            }
          },
          "metadata": {},
          "execution_count": 24
        }
      ]
    },
    {
      "cell_type": "markdown",
      "source": [
        "# Tokenizer and Model"
      ],
      "metadata": {
        "id": "DahFfk5gpv6u"
      }
    },
    {
      "cell_type": "code",
      "source": [
        "# Use a Set to Store Unique Words\n",
        "unique_words = set()\n",
        "\n",
        "for text in x_train['text']:\n",
        "    words = text.split()  # Tokenize\n",
        "    unique_words.update(words)\n",
        "\n",
        "# Number of Unique Words\n",
        "num_unique_words = len(unique_words)\n",
        "print(f'Number of unique words: {num_unique_words}')"
      ],
      "metadata": {
        "colab": {
          "base_uri": "https://localhost:8080/"
        },
        "id": "1fCHEjaqpvd_",
        "outputId": "d2ac24fe-4e0c-49ed-a31b-4c104397b57b"
      },
      "execution_count": null,
      "outputs": [
        {
          "output_type": "stream",
          "name": "stdout",
          "text": [
            "Number of unique words: 62855\n"
          ]
        }
      ]
    },
    {
      "cell_type": "markdown",
      "source": [
        "**Term Frequency-Inverse Document Frequency (TF-IDF):**\n",
        "-  TF-IDF assigns weights to terms based on their frequency in individual documents and their inverse frequency across all documents. This technique helps capture the importance of terms in distinguishing between documents."
      ],
      "metadata": {
        "id": "LD2scPpi-nvb"
      }
    },
    {
      "cell_type": "code",
      "source": [
        "# TF-IDF Vectorization\n",
        "vectorizer = TfidfVectorizer(max_features=5000)\n",
        "x_train_tfidf = vectorizer.fit_transform(x_train['text'])\n",
        "x_val_tfidf = vectorizer.transform(x_val['text'])\n",
        "x_test_tfidf = vectorizer.transform(x_test['text'])"
      ],
      "metadata": {
        "id": "HOOMTmiu8jIa"
      },
      "execution_count": null,
      "outputs": []
    },
    {
      "cell_type": "code",
      "source": [
        "# Initialize LabelEncoder\n",
        "label_encoder = LabelEncoder()\n",
        "y_train_encoded = label_encoder.fit_transform(y_train)\n",
        "y_val_encoded = label_encoder.transform(y_val)\n",
        "y_test_encoded = label_encoder.transform(y_test)"
      ],
      "metadata": {
        "id": "f004DMvQ8oh9"
      },
      "execution_count": null,
      "outputs": []
    },
    {
      "cell_type": "code",
      "source": [
        "# Train a Logistic Regression model\n",
        "model = LogisticRegression(max_iter=1000, random_state=42)\n",
        "model.fit(x_train_tfidf, y_train_encoded)\n"
      ],
      "metadata": {
        "colab": {
          "base_uri": "https://localhost:8080/",
          "height": 74
        },
        "id": "hXmnQqMZ8q6p",
        "outputId": "c363cf63-40c2-4925-9c37-b948b4766364"
      },
      "execution_count": null,
      "outputs": [
        {
          "output_type": "execute_result",
          "data": {
            "text/plain": [
              "LogisticRegression(max_iter=1000, random_state=42)"
            ],
            "text/html": [
              "<style>#sk-container-id-1 {color: black;background-color: white;}#sk-container-id-1 pre{padding: 0;}#sk-container-id-1 div.sk-toggleable {background-color: white;}#sk-container-id-1 label.sk-toggleable__label {cursor: pointer;display: block;width: 100%;margin-bottom: 0;padding: 0.3em;box-sizing: border-box;text-align: center;}#sk-container-id-1 label.sk-toggleable__label-arrow:before {content: \"▸\";float: left;margin-right: 0.25em;color: #696969;}#sk-container-id-1 label.sk-toggleable__label-arrow:hover:before {color: black;}#sk-container-id-1 div.sk-estimator:hover label.sk-toggleable__label-arrow:before {color: black;}#sk-container-id-1 div.sk-toggleable__content {max-height: 0;max-width: 0;overflow: hidden;text-align: left;background-color: #f0f8ff;}#sk-container-id-1 div.sk-toggleable__content pre {margin: 0.2em;color: black;border-radius: 0.25em;background-color: #f0f8ff;}#sk-container-id-1 input.sk-toggleable__control:checked~div.sk-toggleable__content {max-height: 200px;max-width: 100%;overflow: auto;}#sk-container-id-1 input.sk-toggleable__control:checked~label.sk-toggleable__label-arrow:before {content: \"▾\";}#sk-container-id-1 div.sk-estimator input.sk-toggleable__control:checked~label.sk-toggleable__label {background-color: #d4ebff;}#sk-container-id-1 div.sk-label input.sk-toggleable__control:checked~label.sk-toggleable__label {background-color: #d4ebff;}#sk-container-id-1 input.sk-hidden--visually {border: 0;clip: rect(1px 1px 1px 1px);clip: rect(1px, 1px, 1px, 1px);height: 1px;margin: -1px;overflow: hidden;padding: 0;position: absolute;width: 1px;}#sk-container-id-1 div.sk-estimator {font-family: monospace;background-color: #f0f8ff;border: 1px dotted black;border-radius: 0.25em;box-sizing: border-box;margin-bottom: 0.5em;}#sk-container-id-1 div.sk-estimator:hover {background-color: #d4ebff;}#sk-container-id-1 div.sk-parallel-item::after {content: \"\";width: 100%;border-bottom: 1px solid gray;flex-grow: 1;}#sk-container-id-1 div.sk-label:hover label.sk-toggleable__label {background-color: #d4ebff;}#sk-container-id-1 div.sk-serial::before {content: \"\";position: absolute;border-left: 1px solid gray;box-sizing: border-box;top: 0;bottom: 0;left: 50%;z-index: 0;}#sk-container-id-1 div.sk-serial {display: flex;flex-direction: column;align-items: center;background-color: white;padding-right: 0.2em;padding-left: 0.2em;position: relative;}#sk-container-id-1 div.sk-item {position: relative;z-index: 1;}#sk-container-id-1 div.sk-parallel {display: flex;align-items: stretch;justify-content: center;background-color: white;position: relative;}#sk-container-id-1 div.sk-item::before, #sk-container-id-1 div.sk-parallel-item::before {content: \"\";position: absolute;border-left: 1px solid gray;box-sizing: border-box;top: 0;bottom: 0;left: 50%;z-index: -1;}#sk-container-id-1 div.sk-parallel-item {display: flex;flex-direction: column;z-index: 1;position: relative;background-color: white;}#sk-container-id-1 div.sk-parallel-item:first-child::after {align-self: flex-end;width: 50%;}#sk-container-id-1 div.sk-parallel-item:last-child::after {align-self: flex-start;width: 50%;}#sk-container-id-1 div.sk-parallel-item:only-child::after {width: 0;}#sk-container-id-1 div.sk-dashed-wrapped {border: 1px dashed gray;margin: 0 0.4em 0.5em 0.4em;box-sizing: border-box;padding-bottom: 0.4em;background-color: white;}#sk-container-id-1 div.sk-label label {font-family: monospace;font-weight: bold;display: inline-block;line-height: 1.2em;}#sk-container-id-1 div.sk-label-container {text-align: center;}#sk-container-id-1 div.sk-container {/* jupyter's `normalize.less` sets `[hidden] { display: none; }` but bootstrap.min.css set `[hidden] { display: none !important; }` so we also need the `!important` here to be able to override the default hidden behavior on the sphinx rendered scikit-learn.org. See: https://github.com/scikit-learn/scikit-learn/issues/21755 */display: inline-block !important;position: relative;}#sk-container-id-1 div.sk-text-repr-fallback {display: none;}</style><div id=\"sk-container-id-1\" class=\"sk-top-container\"><div class=\"sk-text-repr-fallback\"><pre>LogisticRegression(max_iter=1000, random_state=42)</pre><b>In a Jupyter environment, please rerun this cell to show the HTML representation or trust the notebook. <br />On GitHub, the HTML representation is unable to render, please try loading this page with nbviewer.org.</b></div><div class=\"sk-container\" hidden><div class=\"sk-item\"><div class=\"sk-estimator sk-toggleable\"><input class=\"sk-toggleable__control sk-hidden--visually\" id=\"sk-estimator-id-1\" type=\"checkbox\" checked><label for=\"sk-estimator-id-1\" class=\"sk-toggleable__label sk-toggleable__label-arrow\">LogisticRegression</label><div class=\"sk-toggleable__content\"><pre>LogisticRegression(max_iter=1000, random_state=42)</pre></div></div></div></div></div>"
            ]
          },
          "metadata": {},
          "execution_count": 39
        }
      ]
    },
    {
      "cell_type": "code",
      "source": [
        "# Evaluate on validation set\n",
        "y_val_pred = model.predict(x_val_tfidf)\n",
        "val_accuracy = accuracy_score(y_val_encoded, y_val_pred)\n",
        "print(f'Validation Accuracy: {val_accuracy:.4f}')"
      ],
      "metadata": {
        "colab": {
          "base_uri": "https://localhost:8080/"
        },
        "id": "fH_mrfN98sS3",
        "outputId": "167548bc-429f-4388-84d1-e862f8eef0bd"
      },
      "execution_count": null,
      "outputs": [
        {
          "output_type": "stream",
          "name": "stdout",
          "text": [
            "Validation Accuracy: 0.7700\n"
          ]
        }
      ]
    },
    {
      "cell_type": "code",
      "source": [
        "# Evaluate on test set\n",
        "y_test_pred = model.predict(x_test_tfidf)\n",
        "test_accuracy = accuracy_score(y_test_encoded, y_test_pred)\n",
        "print(f'Test Accuracy: {test_accuracy:.4f}')"
      ],
      "metadata": {
        "colab": {
          "base_uri": "https://localhost:8080/"
        },
        "id": "gvpFcCYI83mO",
        "outputId": "08174a19-6413-4dd4-c628-ce45f714bbaa"
      },
      "execution_count": null,
      "outputs": [
        {
          "output_type": "stream",
          "name": "stdout",
          "text": [
            "Test Accuracy: 0.7643\n"
          ]
        }
      ]
    },
    {
      "cell_type": "code",
      "source": [
        "precision = precision_score(y_test_encoded, y_test_pred, average='weighted')\n",
        "print(f'Precision: {precision:.4f}')"
      ],
      "metadata": {
        "colab": {
          "base_uri": "https://localhost:8080/"
        },
        "id": "flrjv-IX87uj",
        "outputId": "051b0dbc-8ace-46d2-e850-653cf411f069"
      },
      "execution_count": null,
      "outputs": [
        {
          "output_type": "stream",
          "name": "stdout",
          "text": [
            "Precision: 0.7657\n"
          ]
        }
      ]
    },
    {
      "cell_type": "code",
      "source": [
        "print(classification_report(y_test_encoded, y_test_pred, target_names=label_encoder.classes_))"
      ],
      "metadata": {
        "colab": {
          "base_uri": "https://localhost:8080/"
        },
        "id": "37U5QlhvpvYX",
        "outputId": "3759051e-f726-4fc2-b906-28fc85252b7d"
      },
      "execution_count": null,
      "outputs": [
        {
          "output_type": "stream",
          "name": "stdout",
          "text": [
            "              precision    recall  f1-score   support\n",
            "\n",
            "          EG       0.78      0.88      0.83      8592\n",
            "          LB       0.80      0.77      0.78      4198\n",
            "          LY       0.71      0.76      0.74      5507\n",
            "          MA       0.82      0.56      0.67      1746\n",
            "          SD       0.75      0.46      0.57      2116\n",
            "\n",
            "    accuracy                           0.76     22159\n",
            "   macro avg       0.77      0.69      0.72     22159\n",
            "weighted avg       0.77      0.76      0.76     22159\n",
            "\n"
          ]
        }
      ]
    },
    {
      "cell_type": "markdown",
      "source": [
        "### use 10000  Unique Words\n"
      ],
      "metadata": {
        "id": "fawtZjbRAXD9"
      }
    },
    {
      "cell_type": "code",
      "source": [
        "# TF-IDF Vectorization\n",
        "vectorizer_ = TfidfVectorizer(max_features=10000)\n",
        "x_train_tfidf = vectorizer_.fit_transform(x_train['text'])\n",
        "x_val_tfidf = vectorizer_.transform(x_val['text'])\n",
        "x_test_tfidf = vectorizer_.transform(x_test['text'])"
      ],
      "metadata": {
        "id": "nXvDbYeXAcBe"
      },
      "execution_count": null,
      "outputs": []
    },
    {
      "cell_type": "code",
      "source": [
        "# Train a Logistic Regression model\n",
        "model = LogisticRegression(max_iter=1000, random_state=42)\n",
        "model.fit(x_train_tfidf, y_train_encoded)\n"
      ],
      "metadata": {
        "colab": {
          "base_uri": "https://localhost:8080/",
          "height": 74
        },
        "outputId": "92f6e799-16fc-4e80-865f-3ef53dea7620",
        "id": "03kWTHPQAcBn"
      },
      "execution_count": null,
      "outputs": [
        {
          "output_type": "execute_result",
          "data": {
            "text/plain": [
              "LogisticRegression(max_iter=1000, random_state=42)"
            ],
            "text/html": [
              "<style>#sk-container-id-4 {color: black;background-color: white;}#sk-container-id-4 pre{padding: 0;}#sk-container-id-4 div.sk-toggleable {background-color: white;}#sk-container-id-4 label.sk-toggleable__label {cursor: pointer;display: block;width: 100%;margin-bottom: 0;padding: 0.3em;box-sizing: border-box;text-align: center;}#sk-container-id-4 label.sk-toggleable__label-arrow:before {content: \"▸\";float: left;margin-right: 0.25em;color: #696969;}#sk-container-id-4 label.sk-toggleable__label-arrow:hover:before {color: black;}#sk-container-id-4 div.sk-estimator:hover label.sk-toggleable__label-arrow:before {color: black;}#sk-container-id-4 div.sk-toggleable__content {max-height: 0;max-width: 0;overflow: hidden;text-align: left;background-color: #f0f8ff;}#sk-container-id-4 div.sk-toggleable__content pre {margin: 0.2em;color: black;border-radius: 0.25em;background-color: #f0f8ff;}#sk-container-id-4 input.sk-toggleable__control:checked~div.sk-toggleable__content {max-height: 200px;max-width: 100%;overflow: auto;}#sk-container-id-4 input.sk-toggleable__control:checked~label.sk-toggleable__label-arrow:before {content: \"▾\";}#sk-container-id-4 div.sk-estimator input.sk-toggleable__control:checked~label.sk-toggleable__label {background-color: #d4ebff;}#sk-container-id-4 div.sk-label input.sk-toggleable__control:checked~label.sk-toggleable__label {background-color: #d4ebff;}#sk-container-id-4 input.sk-hidden--visually {border: 0;clip: rect(1px 1px 1px 1px);clip: rect(1px, 1px, 1px, 1px);height: 1px;margin: -1px;overflow: hidden;padding: 0;position: absolute;width: 1px;}#sk-container-id-4 div.sk-estimator {font-family: monospace;background-color: #f0f8ff;border: 1px dotted black;border-radius: 0.25em;box-sizing: border-box;margin-bottom: 0.5em;}#sk-container-id-4 div.sk-estimator:hover {background-color: #d4ebff;}#sk-container-id-4 div.sk-parallel-item::after {content: \"\";width: 100%;border-bottom: 1px solid gray;flex-grow: 1;}#sk-container-id-4 div.sk-label:hover label.sk-toggleable__label {background-color: #d4ebff;}#sk-container-id-4 div.sk-serial::before {content: \"\";position: absolute;border-left: 1px solid gray;box-sizing: border-box;top: 0;bottom: 0;left: 50%;z-index: 0;}#sk-container-id-4 div.sk-serial {display: flex;flex-direction: column;align-items: center;background-color: white;padding-right: 0.2em;padding-left: 0.2em;position: relative;}#sk-container-id-4 div.sk-item {position: relative;z-index: 1;}#sk-container-id-4 div.sk-parallel {display: flex;align-items: stretch;justify-content: center;background-color: white;position: relative;}#sk-container-id-4 div.sk-item::before, #sk-container-id-4 div.sk-parallel-item::before {content: \"\";position: absolute;border-left: 1px solid gray;box-sizing: border-box;top: 0;bottom: 0;left: 50%;z-index: -1;}#sk-container-id-4 div.sk-parallel-item {display: flex;flex-direction: column;z-index: 1;position: relative;background-color: white;}#sk-container-id-4 div.sk-parallel-item:first-child::after {align-self: flex-end;width: 50%;}#sk-container-id-4 div.sk-parallel-item:last-child::after {align-self: flex-start;width: 50%;}#sk-container-id-4 div.sk-parallel-item:only-child::after {width: 0;}#sk-container-id-4 div.sk-dashed-wrapped {border: 1px dashed gray;margin: 0 0.4em 0.5em 0.4em;box-sizing: border-box;padding-bottom: 0.4em;background-color: white;}#sk-container-id-4 div.sk-label label {font-family: monospace;font-weight: bold;display: inline-block;line-height: 1.2em;}#sk-container-id-4 div.sk-label-container {text-align: center;}#sk-container-id-4 div.sk-container {/* jupyter's `normalize.less` sets `[hidden] { display: none; }` but bootstrap.min.css set `[hidden] { display: none !important; }` so we also need the `!important` here to be able to override the default hidden behavior on the sphinx rendered scikit-learn.org. See: https://github.com/scikit-learn/scikit-learn/issues/21755 */display: inline-block !important;position: relative;}#sk-container-id-4 div.sk-text-repr-fallback {display: none;}</style><div id=\"sk-container-id-4\" class=\"sk-top-container\"><div class=\"sk-text-repr-fallback\"><pre>LogisticRegression(max_iter=1000, random_state=42)</pre><b>In a Jupyter environment, please rerun this cell to show the HTML representation or trust the notebook. <br />On GitHub, the HTML representation is unable to render, please try loading this page with nbviewer.org.</b></div><div class=\"sk-container\" hidden><div class=\"sk-item\"><div class=\"sk-estimator sk-toggleable\"><input class=\"sk-toggleable__control sk-hidden--visually\" id=\"sk-estimator-id-4\" type=\"checkbox\" checked><label for=\"sk-estimator-id-4\" class=\"sk-toggleable__label sk-toggleable__label-arrow\">LogisticRegression</label><div class=\"sk-toggleable__content\"><pre>LogisticRegression(max_iter=1000, random_state=42)</pre></div></div></div></div></div>"
            ]
          },
          "metadata": {},
          "execution_count": 62
        }
      ]
    },
    {
      "cell_type": "code",
      "source": [
        "# Evaluate on validation set\n",
        "y_val_pred = model.predict(x_val_tfidf)\n",
        "val_accuracy = accuracy_score(y_val_encoded, y_val_pred)\n",
        "print(f'Validation Accuracy: {val_accuracy:.4f}')"
      ],
      "metadata": {
        "colab": {
          "base_uri": "https://localhost:8080/"
        },
        "outputId": "57553a65-d9d2-46be-95d9-4625f073dd8a",
        "id": "nZPO8Mp7AcBn"
      },
      "execution_count": null,
      "outputs": [
        {
          "output_type": "stream",
          "name": "stdout",
          "text": [
            "Validation Accuracy: 0.7797\n"
          ]
        }
      ]
    },
    {
      "cell_type": "code",
      "source": [
        "# Evaluate on test set\n",
        "y_test_pred = model.predict(x_test_tfidf)\n",
        "test_accuracy = accuracy_score(y_test_encoded, y_test_pred)\n",
        "print(f'Test Accuracy: {test_accuracy:.4f}')"
      ],
      "metadata": {
        "colab": {
          "base_uri": "https://localhost:8080/"
        },
        "outputId": "d38ca3c6-7fe1-491e-90c5-9c571f8b35b4",
        "id": "QUhQmZGeAcBn"
      },
      "execution_count": null,
      "outputs": [
        {
          "output_type": "stream",
          "name": "stdout",
          "text": [
            "Test Accuracy: 0.7735\n"
          ]
        }
      ]
    },
    {
      "cell_type": "code",
      "source": [
        "precision = precision_score(y_test_encoded, y_test_pred, average='weighted')\n",
        "print(f'Precision: {precision:.4f}')"
      ],
      "metadata": {
        "colab": {
          "base_uri": "https://localhost:8080/"
        },
        "outputId": "6aa0579f-2117-49c9-8e9c-1f18a78baf4f",
        "id": "uxx1tfYAAcBn"
      },
      "execution_count": null,
      "outputs": [
        {
          "output_type": "stream",
          "name": "stdout",
          "text": [
            "Precision: 0.7756\n"
          ]
        }
      ]
    },
    {
      "cell_type": "code",
      "source": [
        "print(classification_report(y_test_encoded, y_test_pred, target_names=label_encoder.classes_))"
      ],
      "metadata": {
        "colab": {
          "base_uri": "https://localhost:8080/"
        },
        "outputId": "0aa602b5-e79b-463e-e01a-e02955e88c71",
        "id": "k7xaScwGAcBn"
      },
      "execution_count": null,
      "outputs": [
        {
          "output_type": "stream",
          "name": "stdout",
          "text": [
            "              precision    recall  f1-score   support\n",
            "\n",
            "          EG       0.78      0.89      0.83      8592\n",
            "          LB       0.81      0.78      0.79      4198\n",
            "          LY       0.72      0.78      0.75      5507\n",
            "          MA       0.84      0.56      0.67      1746\n",
            "          SD       0.77      0.46      0.58      2116\n",
            "\n",
            "    accuracy                           0.77     22159\n",
            "   macro avg       0.78      0.69      0.73     22159\n",
            "weighted avg       0.78      0.77      0.77     22159\n",
            "\n"
          ]
        }
      ]
    },
    {
      "cell_type": "markdown",
      "source": [
        "#### TF-IDF Vectorization with `max_features=5000`\n",
        "\n",
        "```\n",
        "| Class | Precision | Recall | F1-score |\n",
        "|-------|-----------|--------|----------|\n",
        "| EG    | 0.78      | 0.88   | 0.83     |\n",
        "| LB    | 0.80      | 0.77   | 0.78     |\n",
        "| LY    | 0.71      | 0.76   | 0.74     |\n",
        "| MA    | 0.82      | 0.56   | 0.67     |\n",
        "| SD    | 0.75      | 0.46   | 0.57     |\n",
        "\n",
        "```\n",
        "\n",
        "#### TF-IDF Vectorization with `max_features=10000`\n",
        "\n",
        "```\n",
        "| Class | Precision | Recall | F1-score |\n",
        "|-------|-----------|--------|----------|\n",
        "| EG    | 0.78      | 0.89   | 0.83     |\n",
        "| LB    | 0.81      | 0.78   | 0.79     |\n",
        "| LY    | 0.72      | 0.78   | 0.75     |\n",
        "| MA    | 0.84      | 0.56   | 0.67     |\n",
        "| SD    | 0.77      | 0.46   | 0.58     |\n",
        "\n",
        "\n",
        "```\n",
        "### Interpretation:\n",
        "\n",
        "- When using TF-IDF vectorization with `max_features=10000`, the model achieved a slightly higher accuracy (0.77) compared to `max_features=5000` (0.76).\n",
        "- The precision, recall, and F1-score for each class also show minor improvements with the increased number of features.\n",
        "- However, the difference in performance between the two settings is relatively small."
      ],
      "metadata": {
        "id": "5tJyhziLDCIe"
      }
    },
    {
      "cell_type": "markdown",
      "metadata": {
        "id": "Gbm_Uiyxws4G"
      },
      "source": [
        "\n",
        "## Gated Recurrent Unit (GRU)\n",
        "\n",
        "The GRU cell replaces the Simple rnn cell, and adds a **gate** to the network, this gates allows the network to choose what to keep from the previous state, and thus can keep track of some memories, and also solves the vanishing gradient problem.\n",
        "\n",
        "The gates allows to forget certain points of the hidden states.\n",
        "\n",
        "The simplified version of the equations are as follows\n",
        "\n",
        "<center><img src='images/gru.png'></center>\n",
        "\n",
        "Here we say that $C^t = a^t = h^t$ meaning that that output state/hidden state are the same\n",
        "\n",
        "The parameter $\\tilde{C}$ is the candidate to replace vector, which will include the candidate hidden state\n",
        "\n",
        "$$\\tilde{C} = tanh(W_c [C^{t-1}, X^t] + b_c)$$\n",
        "\n",
        "The gate $\\Gamma_u$ is the gate that will tell which to forget of the last state and which to remember.\n",
        "\n",
        "$$\\Gamma_u = \\sigma(W_u [C^{t-1}, X^t] + b_u)$$\n",
        "\n",
        "The parameter $C^t$ includes the final output of the cell\n",
        "\n",
        "$$C^t = \\Gamma_u*\\tilde{C} + (1-\\Gamma_u)* C^{t-1}$$\n",
        "\n",
        "So:\n",
        "\n",
        "- if $\\Gamma_u=0$ then $C^t = C^{t-1}$\n",
        "- if $\\Gamma_u=1$ then $C^t = \\tilde{C}$"
      ]
    },
    {
      "cell_type": "markdown",
      "source": [
        "## ♻ Text Vectorization\n",
        "  * **Token Indexing**: Convert tokens to numerical indices.\n",
        "  * **Padding**: Ensure all sequences have the same length by padding shorter sequences."
      ],
      "metadata": {
        "id": "a_oAlaVV_teV"
      }
    },
    {
      "cell_type": "code",
      "source": [
        "# Parameters\n",
        "max_seq_length = 100\n",
        "embedding_dim = 100"
      ],
      "metadata": {
        "id": "vaHKLesu_6tN"
      },
      "execution_count": null,
      "outputs": []
    },
    {
      "cell_type": "code",
      "source": [
        "# Tokenization and Padding\n",
        "# Tokenizer to convert text to sequences\n",
        "tokenizer = Tokenizer()\n",
        "tokenizer.fit_on_texts(x_train[\"text\"])\n",
        "\n",
        "#  word index\n",
        "word_index = tokenizer.word_index\n",
        "total_words = len(word_index) + 1\n",
        "print(f\"Total words in the dataset: {total_words}\")\n",
        "\n"
      ],
      "metadata": {
        "id": "YpCkbCcoG4ME",
        "colab": {
          "base_uri": "https://localhost:8080/"
        },
        "outputId": "8e25a7d1-7ebd-42b1-85b7-2d2ff9c590e2"
      },
      "execution_count": null,
      "outputs": [
        {
          "output_type": "stream",
          "name": "stdout",
          "text": [
            "Total words in the dataset: 62856\n"
          ]
        }
      ]
    },
    {
      "cell_type": "code",
      "source": [
        "# Get word frequencies\n",
        "word_counts = tokenizer.word_counts\n",
        "sorted_word_counts = sorted(word_counts.items(), key=lambda x: x[1], reverse=True)\n",
        "\n",
        "# Determine a suitable max_vocab_size based on a desired percentile or cutoff\n",
        "cutoff_percentile = 95  # Keep top 95% of the words\n",
        "cutoff_index = int(total_words * (cutoff_percentile / 100))\n",
        "max_vocab_size = len([word for word, count in sorted_word_counts[:cutoff_index]])\n",
        "\n",
        "# Refit tokenizer with limited vocab size\n",
        "tokenizer = Tokenizer(num_words=max_vocab_size)\n",
        "tokenizer.fit_on_texts(x_train[\"text\"])\n"
      ],
      "metadata": {
        "id": "GGjhpzfjIDJZ"
      },
      "execution_count": null,
      "outputs": []
    },
    {
      "cell_type": "code",
      "source": [
        "# Convert texts to sequences\n",
        "X_train_seq = tokenizer.texts_to_sequences(x_train['text'])\n",
        "X_val_seq = tokenizer.texts_to_sequences(x_val['text'])\n",
        "X_test_seq = tokenizer.texts_to_sequences(x_test['text'])"
      ],
      "metadata": {
        "id": "BvV-4bPV_6mZ"
      },
      "execution_count": null,
      "outputs": []
    },
    {
      "cell_type": "code",
      "source": [
        "# Pad sequences\n",
        "X_train_pad = pad_sequences(X_train_seq, maxlen=max_seq_length, padding='post')\n",
        "X_val_pad = pad_sequences(X_val_seq, maxlen=max_seq_length, padding='post')\n",
        "X_test_pad = pad_sequences(X_test_seq, maxlen=max_seq_length, padding='post')"
      ],
      "metadata": {
        "id": "5w0IjV8O_6jj"
      },
      "execution_count": null,
      "outputs": []
    },
    {
      "cell_type": "code",
      "source": [
        " #Check the shape of the padded sequences to confirm they match with the labels\n",
        "print(f\"X_train_pad shape: {X_train_pad.shape}\")\n",
        "print(f\"X_val_pad shape: {X_val_pad.shape}\")\n",
        "print(f\"X_test_pad shape: {X_test_pad.shape}\")"
      ],
      "metadata": {
        "colab": {
          "base_uri": "https://localhost:8080/"
        },
        "id": "QCNx8UCwc0Bg",
        "outputId": "242c7e21-0d51-49f3-94a6-9c8872bcc7ce"
      },
      "execution_count": null,
      "outputs": [
        {
          "output_type": "stream",
          "name": "stdout",
          "text": [
            "X_train_pad shape: (113009, 100)\n",
            "X_val_pad shape: (12557, 100)\n",
            "X_test_pad shape: (22159, 100)\n"
          ]
        }
      ]
    },
    {
      "cell_type": "code",
      "source": [
        "np.unique (y_train)"
      ],
      "metadata": {
        "colab": {
          "base_uri": "https://localhost:8080/"
        },
        "id": "m1dXwTNbXUjh",
        "outputId": "939059ff-f135-4a8d-fe42-016df813414c"
      },
      "execution_count": null,
      "outputs": [
        {
          "output_type": "execute_result",
          "data": {
            "text/plain": [
              "array(['EG', 'LB', 'LY', 'MA', 'SD'], dtype=object)"
            ]
          },
          "metadata": {},
          "execution_count": 26
        }
      ]
    },
    {
      "cell_type": "code",
      "source": [
        "\n",
        "# Get the number of unique classes\n",
        "num_classes = len(np.unique(y_train))\n",
        "\n",
        "# Convert labels to categorical one-hot encoding\n",
        "y_train_cat = to_categorical (y_train_encoded, num_classes)\n",
        "y_val_cat = to_categorical(y_val_encoded, num_classes)\n",
        "y_test_cat = to_categorical(y_test_encoded, num_classes)"
      ],
      "metadata": {
        "id": "Ubhq6v4DSzQb"
      },
      "execution_count": null,
      "outputs": []
    },
    {
      "cell_type": "code",
      "source": [
        "print (y_train_cat.shape)"
      ],
      "metadata": {
        "colab": {
          "base_uri": "https://localhost:8080/"
        },
        "id": "6p6HesASdGHB",
        "outputId": "78a91f2b-0bf5-4684-e29a-5053dce49814"
      },
      "execution_count": null,
      "outputs": [
        {
          "output_type": "stream",
          "name": "stdout",
          "text": [
            "(113009, 5)\n"
          ]
        }
      ]
    },
    {
      "cell_type": "markdown",
      "metadata": {
        "id": "EgumQXpZws4H"
      },
      "source": [
        "### Implementing GRU in Tensorflow"
      ]
    },
    {
      "cell_type": "code",
      "execution_count": null,
      "metadata": {
        "ExecuteTime": {
          "end_time": "2021-11-10T23:13:48.911899Z",
          "start_time": "2021-11-10T23:13:48.157263Z"
        },
        "id": "q014ENjzws4H"
      },
      "outputs": [],
      "source": [
        "gru_bi = tf.keras.models.Sequential([\n",
        "    tf.keras.layers.Embedding(input_dim= max_vocab_size, output_dim=embedding_dim ,input_length=max_seq_length),\n",
        "    tf.keras.layers.Bidirectional(tf.keras.layers.GRU(128, return_sequences=True)),\n",
        "    tf.keras.layers. Dropout(0.3),\n",
        "    tf.keras.layers.Bidirectional(tf.keras.layers.GRU(64, return_sequences=True)),\n",
        "    tf.keras.layers. Dropout(0.3),\n",
        "    tf.keras.layers.Bidirectional(tf.keras.layers.GRU(64)),\n",
        "    tf.keras.layers.Dense(64, activation='relu'),\n",
        "    tf.keras.layers.Dense(num_classes, activation='softmax')\n",
        "])"
      ]
    },
    {
      "cell_type": "code",
      "source": [
        "gru_bi.summary()"
      ],
      "metadata": {
        "id": "FYcY-ulzYonq",
        "colab": {
          "base_uri": "https://localhost:8080/"
        },
        "outputId": "a3c2a735-71aa-4c05-85ca-4b8e5838219e"
      },
      "execution_count": null,
      "outputs": [
        {
          "output_type": "stream",
          "name": "stdout",
          "text": [
            "Model: \"sequential_2\"\n",
            "_________________________________________________________________\n",
            " Layer (type)                Output Shape              Param #   \n",
            "=================================================================\n",
            " embedding_2 (Embedding)     (None, 100, 100)          5971300   \n",
            "                                                                 \n",
            " bidirectional_6 (Bidirecti  (None, 100, 256)          176640    \n",
            " onal)                                                           \n",
            "                                                                 \n",
            " dropout_4 (Dropout)         (None, 100, 256)          0         \n",
            "                                                                 \n",
            " bidirectional_7 (Bidirecti  (None, 100, 128)          123648    \n",
            " onal)                                                           \n",
            "                                                                 \n",
            " dropout_5 (Dropout)         (None, 100, 128)          0         \n",
            "                                                                 \n",
            " bidirectional_8 (Bidirecti  (None, 128)               74496     \n",
            " onal)                                                           \n",
            "                                                                 \n",
            " dense_4 (Dense)             (None, 64)                8256      \n",
            "                                                                 \n",
            " dense_5 (Dense)             (None, 5)                 325       \n",
            "                                                                 \n",
            "=================================================================\n",
            "Total params: 6354665 (24.24 MB)\n",
            "Trainable params: 6354665 (24.24 MB)\n",
            "Non-trainable params: 0 (0.00 Byte)\n",
            "_________________________________________________________________\n"
          ]
        }
      ]
    },
    {
      "cell_type": "code",
      "execution_count": null,
      "metadata": {
        "ExecuteTime": {
          "end_time": "2021-11-10T23:13:48.920442Z",
          "start_time": "2021-11-10T23:13:48.913216Z"
        },
        "id": "95XEvG_Qws4H"
      },
      "outputs": [],
      "source": [
        "gru_bi.compile(optimizer='adam', loss='categorical_crossentropy', metrics=['accuracy','Precision'])\n"
      ]
    },
    {
      "cell_type": "markdown",
      "source": [
        "Handling Imbalnced Classes"
      ],
      "metadata": {
        "id": "hXsLxImtZcc4"
      }
    },
    {
      "cell_type": "code",
      "source": [
        "from sklearn.utils import class_weight\n",
        "\n",
        "# Compute class weights\n",
        "class_weights = class_weight.compute_class_weight(\n",
        "    class_weight='balanced',\n",
        "    classes=np.unique(y_train_encoded),\n",
        "    y= y_train_encoded\n",
        ")\n",
        "\n",
        "# Convert the class weights to a dictionary format required by Keras\n",
        "class_weights = {i: weight for i, weight in enumerate(class_weights)}\n",
        "class_weights"
      ],
      "metadata": {
        "colab": {
          "base_uri": "https://localhost:8080/"
        },
        "id": "8VexFKfIZFH7",
        "outputId": "0c38808d-f372-411f-e378-87fbd609c15d"
      },
      "execution_count": null,
      "outputs": [
        {
          "output_type": "execute_result",
          "data": {
            "text/plain": [
              "{0: 0.5126635969787012,\n",
              " 1: 1.070363705247206,\n",
              " 2: 0.8096360510101733,\n",
              " 3: 2.5561863831712284,\n",
              " 4: 2.0457820419985517}"
            ]
          },
          "metadata": {},
          "execution_count": 32
        }
      ]
    },
    {
      "cell_type": "markdown",
      "source": [
        "**Model Training 🏃**"
      ],
      "metadata": {
        "id": "0SAVZqprIufV"
      }
    },
    {
      "cell_type": "code",
      "execution_count": null,
      "metadata": {
        "ExecuteTime": {
          "end_time": "2021-11-10T23:14:35.024289Z",
          "start_time": "2021-11-10T23:13:48.921801Z"
        },
        "id": "buRmgs7Aws4H",
        "collapsed": true,
        "colab": {
          "base_uri": "https://localhost:8080/",
          "height": 1000
        },
        "outputId": "efa0910c-8dda-4afc-fe19-5db3be8a127e"
      },
      "outputs": [
        {
          "output_type": "display_data",
          "data": {
            "text/plain": [
              "<Figure size 1200x1200 with 4 Axes>"
            ],
            "image/png": "[encoded data removed]"
          },
          "metadata": {}
        },
        {
          "output_type": "stream",
          "name": "stdout",
          "text": [
            "accuracy\n",
            "\ttraining         \t (min:    0.681, max:    0.921, cur:    0.921)\n",
            "\tvalidation       \t (min:    0.731, max:    0.766, cur:    0.750)\n",
            "Loss\n",
            "\ttraining         \t (min:    0.189, max:    0.850, cur:    0.189)\n",
            "\tvalidation       \t (min:    0.663, max:    1.058, cur:    1.058)\n",
            "precision\n",
            "\ttraining         \t (min:    0.818, max:    0.948, cur:    0.948)\n",
            "\tvalidation       \t (min:    0.753, max:    0.849, cur:    0.776)\n",
            "\n",
            "Epoch 10: val_loss did not improve from 0.66281\n",
            "1766/1766 [==============================] - 52s 30ms/step - loss: 0.1892 - accuracy: 0.9208 - precision: 0.9485 - val_loss: 1.0583 - val_accuracy: 0.7500 - val_precision: 0.7759\n",
            "CPU times: user 10min 28s, sys: 29.5 s, total: 10min 57s\n",
            "Wall time: 10min 30s\n"
          ]
        }
      ],
      "source": [
        "%%time\n",
        "chkpt = ModelCheckpoint(\"model_weights.h5\", monitor='val_loss',verbose=1, save_best_only=True, save_weights_only=True, mode='min')\n",
        "\n",
        "early_stopping = EarlyStopping(monitor='val_accuracy', min_delta=0, patience=10, verbose=0, mode='max', baseline=None, restore_best_weights=False)\n",
        "\n",
        "callbacks = [PlotLossesCallback(), chkpt, early_stopping]\n",
        "\n",
        "history_GRU = gru_bi.fit(X_train_pad, y_train_cat, epochs= 10, batch_size= 64,\n",
        "                    validation_data=(X_val_pad, y_val_cat),\n",
        "                    validation_steps=10,\n",
        "                    class_weight=class_weights,\n",
        "                    callbacks=callbacks)"
      ]
    },
    {
      "cell_type": "markdown",
      "source": [
        "🔭 **Model Evaluation**"
      ],
      "metadata": {
        "id": "cVdIxpJWwsHs"
      }
    },
    {
      "cell_type": "code",
      "source": [
        "# Evaluate the Model\n",
        "test_loss, test_accuracy, test_precision  = gru_bi.evaluate(X_test_pad, y_test_cat)\n",
        "print(f'Test Loss: {test_loss}')\n",
        "print(f'Test Accuracy: {test_accuracy}')\n",
        "\n",
        "# Predict on the test set\n",
        "y_test_pred = gru_bi.predict(X_test_pad)\n",
        "y_test_pred_classes = np.argmax(y_test_pred, axis=1)\n"
      ],
      "metadata": {
        "colab": {
          "base_uri": "https://localhost:8080/"
        },
        "outputId": "5f18a5fe-b7c7-4d79-d3c4-c18b49ea86db",
        "id": "TieoNxcrWtwf"
      },
      "execution_count": null,
      "outputs": [
        {
          "output_type": "stream",
          "name": "stdout",
          "text": [
            "693/693 [==============================] - 9s 13ms/step - loss: 1.1893 - accuracy: 0.7120 - precision: 0.7410\n",
            "Test Loss: 1.1892610788345337\n",
            "Test Accuracy: 0.7120357155799866\n",
            "693/693 [==============================] - 8s 10ms/step\n"
          ]
        }
      ]
    },
    {
      "cell_type": "code",
      "source": [
        "print(classification_report(y_test_encoded, y_test_pred_classes, target_names=label_encoder.classes_))\n"
      ],
      "metadata": {
        "colab": {
          "base_uri": "https://localhost:8080/"
        },
        "outputId": "32c8cd02-7ffa-4d24-c0c6-c4e18a530ac6",
        "id": "cq95HNY_Wtwh"
      },
      "execution_count": null,
      "outputs": [
        {
          "output_type": "stream",
          "name": "stdout",
          "text": [
            "              precision    recall  f1-score   support\n",
            "\n",
            "          EG       0.87      0.72      0.79      8592\n",
            "          LB       0.74      0.76      0.75      4198\n",
            "          LY       0.72      0.70      0.71      5507\n",
            "          MA       0.51      0.68      0.58      1746\n",
            "          SD       0.43      0.62      0.51      2116\n",
            "\n",
            "    accuracy                           0.71     22159\n",
            "   macro avg       0.66      0.70      0.67     22159\n",
            "weighted avg       0.74      0.71      0.72     22159\n",
            "\n"
          ]
        }
      ]
    },
    {
      "cell_type": "code",
      "source": [
        "gru_bi.save('gru_arabic_dialect_model.h5')"
      ],
      "metadata": {
        "id": "Wm3Bmnpgpu-w"
      },
      "execution_count": null,
      "outputs": []
    },
    {
      "cell_type": "markdown",
      "source": [
        "\n",
        "## Long Short Term Memory (LSTM)\n",
        "\n",
        "The lstm offers a long term memory component beside the short term one, and thus enables your model to remember things that he have seen way far in the past, let's go through the idea of the LSTM.\n",
        "\n",
        "\n",
        "First the candidate new memory is calculated via the following equation\n",
        "\n",
        "$$\\tilde{C} = tanh(W_c [a^{t-1}, x^t] + b_c) $$\n",
        "\n",
        "Here we simply take the last activation output (or the short term memory) and calculate what is the candidate of it to be remembered.\n",
        "\n",
        "Then we have three gates here, update, forget and output, let's examine their equations.\n",
        "\n",
        "> update gate\n",
        "$$ \\Gamma_u = \\sigma(W_u [a^{t-1}, x^t] + b_u)$$\n",
        "\n",
        "---\n",
        "\n",
        "> forget gate\n",
        "$$\\Gamma_f = \\sigma(W_f [a^{t-1}, x^t] + b_f)$$\n",
        "\n",
        "---\n",
        "\n",
        "> output gate\n",
        "$$\\Gamma_o = \\sigma(W_o [a^{t-1}, x^t] + b_o)$$\n",
        "\n",
        "---\n",
        "\n",
        "So the three gates learn to remember, forget and update which parts of the hidden state, thus enable our model to work with relatively long sequences.\n",
        "\n",
        "Now to the outputs of our cell\n",
        "\n",
        "> the long term memory\n",
        "$$C^t = \\Gamma_u*\\tilde{C} + \\Gamma_f*C^{t-1}$$\n",
        "\n",
        "So basically update these new values that i have just learned $\\Gamma_u*\\tilde{C}$ ,and keep from the last memory what the forget gate tells you $\\Gamma_f*C^{t-1}$\n",
        "\n",
        "> the short term memory\n",
        "$$a^t = \\Gamma_o*tanh(C^t)$$\n",
        "\n",
        "just an activation function applied to the short memory learned in this step, and of course based only on the output of the $\\Gamma_o$ gate.\n",
        "\n",
        "> the output for this cell (aka prediction)\n",
        "$$y^t = softmax(w_y.a^t + b_y)$$\n",
        "\n",
        "And these together allows the LSTM to work with the large sequences without forgetting what was in the very first of the sentence, thus it can work with long sequences."
      ],
      "metadata": {
        "id": "OM2ZPh1TraDJ"
      }
    },
    {
      "cell_type": "markdown",
      "source": [
        "### Implementing LSTM in Tensorflow"
      ],
      "metadata": {
        "id": "wDjNt2tdwZBW"
      }
    },
    {
      "cell_type": "code",
      "source": [
        "lstm_bi = tf.keras.models.Sequential([\n",
        "    tf.keras.layers.Embedding(input_dim= max_vocab_size, output_dim=embedding_dim ,input_length=max_seq_length),\n",
        "    tf.keras.layers.Bidirectional(tf.keras.layers.LSTM (128, return_sequences=True)),\n",
        "    tf.keras.layers. Dropout(0.3),\n",
        "    tf.keras.layers.Bidirectional(tf.keras.layers.LSTM (64, return_sequences=True)),\n",
        "    tf.keras.layers. Dropout(0.3),\n",
        "    tf.keras.layers.Bidirectional(tf.keras.layers.LSTM (64)),\n",
        "    tf.keras.layers.Dense(64, activation='relu'),\n",
        "    tf.keras.layers.Dense(num_classes, activation='softmax')\n",
        "])"
      ],
      "metadata": {
        "id": "HZHjerLkrY2l"
      },
      "execution_count": null,
      "outputs": []
    },
    {
      "cell_type": "code",
      "source": [
        "lstm_bi.compile(optimizer='adam', loss='categorical_crossentropy', metrics=['accuracy'])"
      ],
      "metadata": {
        "id": "4tW36Ufopu8G"
      },
      "execution_count": null,
      "outputs": []
    },
    {
      "cell_type": "markdown",
      "source": [
        "**Model Training 🏃**"
      ],
      "metadata": {
        "id": "i1LdeJLiwDTx"
      }
    },
    {
      "cell_type": "code",
      "execution_count": null,
      "metadata": {
        "ExecuteTime": {
          "end_time": "2021-11-10T23:14:35.024289Z",
          "start_time": "2021-11-10T23:13:48.921801Z"
        },
        "collapsed": true,
        "id": "Xh4v6X8wwDTz",
        "colab": {
          "base_uri": "https://localhost:8080/",
          "height": 998
        },
        "outputId": "5c7e7108-87cf-4b69-901a-c9aee3fc5a03"
      },
      "outputs": [
        {
          "output_type": "display_data",
          "data": {
            "text/plain": [
              "<Figure size 1200x800 with 2 Axes>"
            ],
            "image/png": "[encoded data removed]"
          },
          "metadata": {}
        },
        {
          "output_type": "stream",
          "name": "stdout",
          "text": [
            "accuracy\n",
            "\ttraining         \t (min:    0.678, max:    0.919, cur:    0.919)\n",
            "\tvalidation       \t (min:    0.733, max:    0.769, cur:    0.733)\n",
            "Loss\n",
            "\ttraining         \t (min:    0.191, max:    0.857, cur:    0.191)\n",
            "\tvalidation       \t (min:    0.669, max:    1.022, cur:    1.022)\n",
            "\n",
            "Epoch 10: val_loss did not improve from 0.66892\n",
            "1766/1766 [==============================] - 58s 33ms/step - loss: 0.1907 - accuracy: 0.9190 - val_loss: 1.0219 - val_accuracy: 0.7328\n",
            "CPU times: user 11min 13s, sys: 33.8 s, total: 11min 47s\n",
            "Wall time: 10min 40s\n"
          ]
        }
      ],
      "source": [
        "%%time\n",
        "chkpt = ModelCheckpoint(\"model_weights.h5\", monitor='val_loss',verbose=1, save_best_only=True, save_weights_only=True, mode='min')\n",
        "\n",
        "early_stopping = EarlyStopping(monitor='val_accuracy', min_delta=0, patience=10, verbose=0, mode='max', baseline=None, restore_best_weights=False)\n",
        "\n",
        "callbacks = [PlotLossesCallback(), chkpt, early_stopping]\n",
        "\n",
        "history_lstm = lstm_bi.fit(X_train_pad, y_train_cat, epochs= 10, batch_size= 64,\n",
        "                    validation_data=(X_val_pad, y_val_cat),\n",
        "                    validation_steps=10,\n",
        "                    class_weight=class_weights,\n",
        "                    callbacks=callbacks)"
      ]
    },
    {
      "cell_type": "markdown",
      "source": [
        "🔭 **Model Evaluation**"
      ],
      "metadata": {
        "id": "JTxyNMdExqGg"
      }
    },
    {
      "cell_type": "code",
      "source": [
        "# Evaluate the Model\n",
        "test_loss, test_accuracy = lstm_bi .evaluate(X_test_pad, y_test_cat)\n",
        "print(f'Test Loss: {test_loss}')\n",
        "print(f'Test Accuracy: {test_accuracy}')\n",
        "\n",
        "# Predict on the test set\n",
        "y_test_pred = lstm_bi.predict(X_test_pad)\n",
        "y_test_pred_classes = np.argmax(y_test_pred, axis=1)\n"
      ],
      "metadata": {
        "id": "PiTI4_Eb4Kzw",
        "colab": {
          "base_uri": "https://localhost:8080/"
        },
        "outputId": "d14bd6dd-637d-4869-f588-b2951f474a88"
      },
      "execution_count": null,
      "outputs": [
        {
          "output_type": "stream",
          "name": "stdout",
          "text": [
            "693/693 [==============================] - 12s 17ms/step - loss: 1.1436 - accuracy: 0.7207\n",
            "Test Loss: 1.143550992012024\n",
            "Test Accuracy: 0.7206552624702454\n",
            "693/693 [==============================] - 11s 16ms/step\n"
          ]
        }
      ]
    },
    {
      "cell_type": "code",
      "source": [
        "print(classification_report(y_test_encoded, y_test_pred_classes, target_names=label_encoder.classes_))\n"
      ],
      "metadata": {
        "id": "Jys33QbU4Kzx",
        "colab": {
          "base_uri": "https://localhost:8080/"
        },
        "outputId": "f2a63144-1d97-4e56-9d87-ba87d9e06495"
      },
      "execution_count": null,
      "outputs": [
        {
          "output_type": "stream",
          "name": "stdout",
          "text": [
            "              precision    recall  f1-score   support\n",
            "\n",
            "          EG       0.87      0.74      0.80      8592\n",
            "          LB       0.73      0.79      0.76      4198\n",
            "          LY       0.74      0.69      0.71      5507\n",
            "          MA       0.51      0.71      0.59      1746\n",
            "          SD       0.47      0.60      0.52      2116\n",
            "\n",
            "    accuracy                           0.72     22159\n",
            "   macro avg       0.66      0.71      0.68     22159\n",
            "weighted avg       0.74      0.72      0.73     22159\n",
            "\n"
          ]
        }
      ]
    },
    {
      "cell_type": "code",
      "source": [],
      "metadata": {
        "id": "yfQhliHB4KJc"
      },
      "execution_count": null,
      "outputs": []
    },
    {
      "cell_type": "code",
      "source": [
        "lstm_bi.save('LSTM_arabic_dialect_model.h5')"
      ],
      "metadata": {
        "id": "cxLFiHdJpreH"
      },
      "execution_count": null,
      "outputs": []
    },
    {
      "cell_type": "markdown",
      "source": [
        "**<p align = 'center'> Thank You 😃**"
      ],
      "metadata": {
        "id": "w1lt98W55GDT"
      }
    }
  ]
}