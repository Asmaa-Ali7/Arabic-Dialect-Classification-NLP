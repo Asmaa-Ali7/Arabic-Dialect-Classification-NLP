{
  "nbformat": 4,
  "nbformat_minor": 0,
  "metadata": {
    "colab": {
      "provenance": []
    },
    "kernelspec": {
      "name": "python3",
      "display_name": "Python 3"
    },
    "language_info": {
      "name": "python"
    }
  },
  "cells": [
    {
      "cell_type": "markdown",
      "source": [
        "**<p align = 'center'>   😃  Use ML & DL Models On cleaned DataSet**"
      ],
      "metadata": {
        "id": "Mk0MvqNpEw-Z"
      }
    },
    {
      "cell_type": "markdown",
      "source": [
        "# **Objective**:\n",
        "\n",
        "- Use TF-IDF with different feature limits to compare performance.\n",
        "- Train and evaluate a Logistic Regression model & Complement Naive Bayes.\n",
        "- Train and evaluate sequence models (GRU and LSTM) to handle long-term dependencies in text.\n",
        "- Handle class imbalance using class weights.\n",
        "- Save the trained models for future deployment."
      ],
      "metadata": {
        "id": "9UmFgdm4Gwch"
      }
    },
    {
      "cell_type": "markdown",
      "source": [
        "##Import Necessary Libraries"
      ],
      "metadata": {
        "id": "YZVom_CR8uqc"
      }
    },
    {
      "cell_type": "code",
      "source": [
        "pip install livelossplot"
      ],
      "metadata": {
        "id": "jLs1IOcPpvFC",
        "colab": {
          "base_uri": "https://localhost:8080/"
        },
        "outputId": "cb089296-dc48-4dd3-a12c-f6c817ddf9ae",
        "collapsed": true
      },
      "execution_count": 1,
      "outputs": [
        {
          "output_type": "stream",
          "name": "stdout",
          "text": [
            "Collecting livelossplot\n",
            "  Downloading livelossplot-0.5.5-py3-none-any.whl (22 kB)\n",
            "Requirement already satisfied: matplotlib in /usr/local/lib/python3.10/dist-packages (from livelossplot) (3.7.1)\n",
            "Requirement already satisfied: bokeh in /usr/local/lib/python3.10/dist-packages (from livelossplot) (3.3.4)\n",
            "Requirement already satisfied: Jinja2>=2.9 in /usr/local/lib/python3.10/dist-packages (from bokeh->livelossplot) (3.1.4)\n",
            "Requirement already satisfied: contourpy>=1 in /usr/local/lib/python3.10/dist-packages (from bokeh->livelossplot) (1.2.1)\n",
            "Requirement already satisfied: numpy>=1.16 in /usr/local/lib/python3.10/dist-packages (from bokeh->livelossplot) (1.25.2)\n",
            "Requirement already satisfied: packaging>=16.8 in /usr/local/lib/python3.10/dist-packages (from bokeh->livelossplot) (24.0)\n",
            "Requirement already satisfied: pandas>=1.2 in /usr/local/lib/python3.10/dist-packages (from bokeh->livelossplot) (2.0.3)\n",
            "Requirement already satisfied: pillow>=7.1.0 in /usr/local/lib/python3.10/dist-packages (from bokeh->livelossplot) (9.4.0)\n",
            "Requirement already satisfied: PyYAML>=3.10 in /usr/local/lib/python3.10/dist-packages (from bokeh->livelossplot) (6.0.1)\n",
            "Requirement already satisfied: tornado>=5.1 in /usr/local/lib/python3.10/dist-packages (from bokeh->livelossplot) (6.3.3)\n",
            "Requirement already satisfied: xyzservices>=2021.09.1 in /usr/local/lib/python3.10/dist-packages (from bokeh->livelossplot) (2024.4.0)\n",
            "Requirement already satisfied: cycler>=0.10 in /usr/local/lib/python3.10/dist-packages (from matplotlib->livelossplot) (0.12.1)\n",
            "Requirement already satisfied: fonttools>=4.22.0 in /usr/local/lib/python3.10/dist-packages (from matplotlib->livelossplot) (4.51.0)\n",
            "Requirement already satisfied: kiwisolver>=1.0.1 in /usr/local/lib/python3.10/dist-packages (from matplotlib->livelossplot) (1.4.5)\n",
            "Requirement already satisfied: pyparsing>=2.3.1 in /usr/local/lib/python3.10/dist-packages (from matplotlib->livelossplot) (3.1.2)\n",
            "Requirement already satisfied: python-dateutil>=2.7 in /usr/local/lib/python3.10/dist-packages (from matplotlib->livelossplot) (2.8.2)\n",
            "Requirement already satisfied: MarkupSafe>=2.0 in /usr/local/lib/python3.10/dist-packages (from Jinja2>=2.9->bokeh->livelossplot) (2.1.5)\n",
            "Requirement already satisfied: pytz>=2020.1 in /usr/local/lib/python3.10/dist-packages (from pandas>=1.2->bokeh->livelossplot) (2023.4)\n",
            "Requirement already satisfied: tzdata>=2022.1 in /usr/local/lib/python3.10/dist-packages (from pandas>=1.2->bokeh->livelossplot) (2024.1)\n",
            "Requirement already satisfied: six>=1.5 in /usr/local/lib/python3.10/dist-packages (from python-dateutil>=2.7->matplotlib->livelossplot) (1.16.0)\n",
            "Installing collected packages: livelossplot\n",
            "Successfully installed livelossplot-0.5.5\n"
          ]
        }
      ]
    },
    {
      "cell_type": "code",
      "source": [
        "import pandas as pd\n",
        "import numpy as np\n",
        "\n",
        "from sklearn.model_selection import train_test_split\n",
        "from sklearn.preprocessing import LabelEncoder\n",
        "from sklearn.feature_extraction.text import TfidfVectorizer\n",
        "from sklearn.linear_model import LogisticRegression\n",
        "from sklearn.metrics import precision_score, accuracy_score, classification_report\n",
        "from sklearn.naive_bayes import ComplementNB\n",
        "from sklearn.pipeline import Pipeline\n",
        "import joblib"
      ],
      "metadata": {
        "id": "YgsxbhBI8uHd"
      },
      "execution_count": 48,
      "outputs": []
    },
    {
      "cell_type": "code",
      "source": [
        "import tensorflow as tf\n",
        "from keras.preprocessing.text import Tokenizer\n",
        "from keras.preprocessing.sequence import pad_sequences\n",
        "from keras.models import Sequential\n",
        "from keras.layers import Embedding, GRU, Dense\n",
        "from keras.callbacks import EarlyStopping\n",
        "from keras.utils import to_categorical\n",
        "from keras import Model, Input\n",
        "from keras.layers import LSTM, Embedding, Dense\n",
        "from keras.layers import TimeDistributed, SpatialDropout1D, Bidirectional\n",
        "from keras.callbacks import ModelCheckpoint, EarlyStopping\n",
        "from livelossplot.tf_keras import PlotLossesCallback"
      ],
      "metadata": {
        "id": "pXwjXg1LAwfb"
      },
      "execution_count": 3,
      "outputs": []
    },
    {
      "cell_type": "markdown",
      "source": [
        "##Load Data"
      ],
      "metadata": {
        "id": "oyTKEo4V8EX-"
      }
    },
    {
      "cell_type": "code",
      "source": [
        "from google.colab import drive\n",
        "drive.mount('/content/drive')"
      ],
      "metadata": {
        "colab": {
          "base_uri": "https://localhost:8080/"
        },
        "id": "TOFjRShEoLr5",
        "outputId": "f3ec2f2c-70b4-40b9-afab-6e51d643ea44",
        "collapsed": true
      },
      "execution_count": 4,
      "outputs": [
        {
          "output_type": "stream",
          "name": "stdout",
          "text": [
            "Mounted at /content/drive\n"
          ]
        }
      ]
    },
    {
      "cell_type": "code",
      "execution_count": 5,
      "metadata": {
        "id": "DGdDkAYV7_vZ"
      },
      "outputs": [],
      "source": [
        "df_cleaned = pd.read_csv('/content/drive/MyDrive/dialects_database_cleaned.csv')"
      ]
    },
    {
      "cell_type": "code",
      "source": [
        "pd.set_option('display.max_rows',500)\n",
        "pd.set_option('display.max_colwidth',500)"
      ],
      "metadata": {
        "id": "xZ1ld-CI_hBT"
      },
      "execution_count": 6,
      "outputs": []
    },
    {
      "cell_type": "code",
      "source": [
        "df_cleaned"
      ],
      "metadata": {
        "colab": {
          "base_uri": "https://localhost:8080/",
          "height": 423
        },
        "id": "8MbfEjC1_qGl",
        "outputId": "3d1b728c-c85e-4e74-9217-639e66d9d628",
        "collapsed": true
      },
      "execution_count": 10,
      "outputs": [
        {
          "output_type": "execute_result",
          "data": {
            "text/plain": [
              "                         id  \\\n",
              "0       1009754958479151232   \n",
              "1       1009794751548313600   \n",
              "2       1019989115490787200   \n",
              "3       1035479791758135168   \n",
              "4       1035481122921164800   \n",
              "...                     ...   \n",
              "147720   982775354405376000   \n",
              "147721   980728852224860160   \n",
              "147722   975502734668500992   \n",
              "147723   980207908641263616   \n",
              "147724   981080482380238848   \n",
              "\n",
              "                                                                                                                                                                            text  \\\n",
              "0                                                                                                                         قلل ادب نفق اخت او قرب عكس تقل علي نشط حقق رأة ردة فعل   \n",
              "1                                                                                                                                    ليب متقلبينبس نسب ليا انا ميليشياوي زمن وتة   \n",
              "2                                                                              انه شاب ليب لبن لحظ انه بنت يحس كأن عرف زمن تزج وحد نهن ومم ولاثلاثة قلب رومانسية عيط شيط هزب اند   \n",
              "3       ران عقل خلف اول انس يلي حاج اهل يخف نهم علش يكون حرم انس قلل ادب اصل شن ذنب يلي معندهش اب ام خوت خوت يعن يتم متستحقش تزج ثلث ليش بنت لزم ادر الف رجل متستحقش درل الف عبد   \n",
              "4                                                                                                                 شكل عقد علش رجل حبه ازج بنت يتم بنت معندهش خوت هدي عصب وفك ماع   \n",
              "...                                                                                                                                                                          ...   \n",
              "147720                                                                                          ناس دي نفخ قرب قدد درج كده بلد دي كيز ديل رحو افي حيه شرف بلد دي لان سبب فسد صئب   \n",
              "147721                                                                                                                                     انت عيش وين بره سود شنو ماشايف حصل دا   \n",
              "147722                                                                                                                                            مااحرم يسي حرف لعب رضو درد فخر   \n",
              "147723                                                                                                               يخي ديل خلو شيط بلس شي روحو وين ربن ونح يكز يعف ايم عدد خلص   \n",
              "147724                                                                                                                                                       نبي فيك صدم يخي عوز   \n",
              "\n",
              "       dialect  \n",
              "0           LY  \n",
              "1           LY  \n",
              "2           LY  \n",
              "3           LY  \n",
              "4           LY  \n",
              "...        ...  \n",
              "147720      SD  \n",
              "147721      SD  \n",
              "147722      SD  \n",
              "147723      SD  \n",
              "147724      SD  \n",
              "\n",
              "[147725 rows x 3 columns]"
            ],
            "text/html": [
              "\n",
              "  <div id=\"df-8be4b249-9569-4aee-a520-3cd24d3d358c\" class=\"colab-df-container\">\n",
              "    <div>\n",
              "<style scoped>\n",
              "    .dataframe tbody tr th:only-of-type {\n",
              "        vertical-align: middle;\n",
              "    }\n",
              "\n",
              "    .dataframe tbody tr th {\n",
              "        vertical-align: top;\n",
              "    }\n",
              "\n",
              "    .dataframe thead th {\n",
              "        text-align: right;\n",
              "    }\n",
              "</style>\n",
              "<table border=\"1\" class=\"dataframe\">\n",
              "  <thead>\n",
              "    <tr style=\"text-align: right;\">\n",
              "      <th></th>\n",
              "      <th>id</th>\n",
              "      <th>text</th>\n",
              "      <th>dialect</th>\n",
              "    </tr>\n",
              "  </thead>\n",
              "  <tbody>\n",
              "    <tr>\n",
              "      <th>0</th>\n",
              "      <td>1009754958479151232</td>\n",
              "      <td>قلل ادب نفق اخت او قرب عكس تقل علي نشط حقق رأة ردة فعل</td>\n",
              "      <td>LY</td>\n",
              "    </tr>\n",
              "    <tr>\n",
              "      <th>1</th>\n",
              "      <td>1009794751548313600</td>\n",
              "      <td>ليب متقلبينبس نسب ليا انا ميليشياوي زمن وتة</td>\n",
              "      <td>LY</td>\n",
              "    </tr>\n",
              "    <tr>\n",
              "      <th>2</th>\n",
              "      <td>1019989115490787200</td>\n",
              "      <td>انه شاب ليب لبن لحظ انه بنت يحس كأن عرف زمن تزج وحد نهن ومم ولاثلاثة قلب رومانسية عيط شيط هزب اند</td>\n",
              "      <td>LY</td>\n",
              "    </tr>\n",
              "    <tr>\n",
              "      <th>3</th>\n",
              "      <td>1035479791758135168</td>\n",
              "      <td>ران عقل خلف اول انس يلي حاج اهل يخف نهم علش يكون حرم انس قلل ادب اصل شن ذنب يلي معندهش اب ام خوت خوت يعن يتم متستحقش تزج ثلث ليش بنت لزم ادر الف رجل متستحقش درل الف عبد</td>\n",
              "      <td>LY</td>\n",
              "    </tr>\n",
              "    <tr>\n",
              "      <th>4</th>\n",
              "      <td>1035481122921164800</td>\n",
              "      <td>شكل عقد علش رجل حبه ازج بنت يتم بنت معندهش خوت هدي عصب وفك ماع</td>\n",
              "      <td>LY</td>\n",
              "    </tr>\n",
              "    <tr>\n",
              "      <th>...</th>\n",
              "      <td>...</td>\n",
              "      <td>...</td>\n",
              "      <td>...</td>\n",
              "    </tr>\n",
              "    <tr>\n",
              "      <th>147720</th>\n",
              "      <td>982775354405376000</td>\n",
              "      <td>ناس دي نفخ قرب قدد درج كده بلد دي كيز ديل رحو افي حيه شرف بلد دي لان سبب فسد صئب</td>\n",
              "      <td>SD</td>\n",
              "    </tr>\n",
              "    <tr>\n",
              "      <th>147721</th>\n",
              "      <td>980728852224860160</td>\n",
              "      <td>انت عيش وين بره سود شنو ماشايف حصل دا</td>\n",
              "      <td>SD</td>\n",
              "    </tr>\n",
              "    <tr>\n",
              "      <th>147722</th>\n",
              "      <td>975502734668500992</td>\n",
              "      <td>مااحرم يسي حرف لعب رضو درد فخر</td>\n",
              "      <td>SD</td>\n",
              "    </tr>\n",
              "    <tr>\n",
              "      <th>147723</th>\n",
              "      <td>980207908641263616</td>\n",
              "      <td>يخي ديل خلو شيط بلس شي روحو وين ربن ونح يكز يعف ايم عدد خلص</td>\n",
              "      <td>SD</td>\n",
              "    </tr>\n",
              "    <tr>\n",
              "      <th>147724</th>\n",
              "      <td>981080482380238848</td>\n",
              "      <td>نبي فيك صدم يخي عوز</td>\n",
              "      <td>SD</td>\n",
              "    </tr>\n",
              "  </tbody>\n",
              "</table>\n",
              "<p>147725 rows × 3 columns</p>\n",
              "</div>\n",
              "    <div class=\"colab-df-buttons\">\n",
              "\n",
              "  <div class=\"colab-df-container\">\n",
              "    <button class=\"colab-df-convert\" onclick=\"convertToInteractive('df-8be4b249-9569-4aee-a520-3cd24d3d358c')\"\n",
              "            title=\"Convert this dataframe to an interactive table.\"\n",
              "            style=\"display:none;\">\n",
              "\n",
              "  <svg xmlns=\"http://www.w3.org/2000/svg\" height=\"24px\" viewBox=\"0 -960 960 960\">\n",
              "    <path d=\"M120-120v-720h720v720H120Zm60-500h600v-160H180v160Zm220 220h160v-160H400v160Zm0 220h160v-160H400v160ZM180-400h160v-160H180v160Zm440 0h160v-160H620v160ZM180-180h160v-160H180v160Zm440 0h160v-160H620v160Z\"/>\n",
              "  </svg>\n",
              "    </button>\n",
              "\n",
              "  <style>\n",
              "    .colab-df-container {\n",
              "      display:flex;\n",
              "      gap: 12px;\n",
              "    }\n",
              "\n",
              "    .colab-df-convert {\n",
              "      background-color: #E8F0FE;\n",
              "      border: none;\n",
              "      border-radius: 50%;\n",
              "      cursor: pointer;\n",
              "      display: none;\n",
              "      fill: #1967D2;\n",
              "      height: 32px;\n",
              "      padding: 0 0 0 0;\n",
              "      width: 32px;\n",
              "    }\n",
              "\n",
              "    .colab-df-convert:hover {\n",
              "      background-color: #E2EBFA;\n",
              "      box-shadow: 0px 1px 2px rgba(60, 64, 67, 0.3), 0px 1px 3px 1px rgba(60, 64, 67, 0.15);\n",
              "      fill: #174EA6;\n",
              "    }\n",
              "\n",
              "    .colab-df-buttons div {\n",
              "      margin-bottom: 4px;\n",
              "    }\n",
              "\n",
              "    [theme=dark] .colab-df-convert {\n",
              "      background-color: #3B4455;\n",
              "      fill: #D2E3FC;\n",
              "    }\n",
              "\n",
              "    [theme=dark] .colab-df-convert:hover {\n",
              "      background-color: #434B5C;\n",
              "      box-shadow: 0px 1px 3px 1px rgba(0, 0, 0, 0.15);\n",
              "      filter: drop-shadow(0px 1px 2px rgba(0, 0, 0, 0.3));\n",
              "      fill: #FFFFFF;\n",
              "    }\n",
              "  </style>\n",
              "\n",
              "    <script>\n",
              "      const buttonEl =\n",
              "        document.querySelector('#df-8be4b249-9569-4aee-a520-3cd24d3d358c button.colab-df-convert');\n",
              "      buttonEl.style.display =\n",
              "        google.colab.kernel.accessAllowed ? 'block' : 'none';\n",
              "\n",
              "      async function convertToInteractive(key) {\n",
              "        const element = document.querySelector('#df-8be4b249-9569-4aee-a520-3cd24d3d358c');\n",
              "        const dataTable =\n",
              "          await google.colab.kernel.invokeFunction('convertToInteractive',\n",
              "                                                    [key], {});\n",
              "        if (!dataTable) return;\n",
              "\n",
              "        const docLinkHtml = 'Like what you see? Visit the ' +\n",
              "          '<a target=\"_blank\" href=https://colab.research.google.com/notebooks/data_table.ipynb>data table notebook</a>'\n",
              "          + ' to learn more about interactive tables.';\n",
              "        element.innerHTML = '';\n",
              "        dataTable['output_type'] = 'display_data';\n",
              "        await google.colab.output.renderOutput(dataTable, element);\n",
              "        const docLink = document.createElement('div');\n",
              "        docLink.innerHTML = docLinkHtml;\n",
              "        element.appendChild(docLink);\n",
              "      }\n",
              "    </script>\n",
              "  </div>\n",
              "\n",
              "\n",
              "<div id=\"df-18769bcc-a374-4bed-bcdd-8f29087767d1\">\n",
              "  <button class=\"colab-df-quickchart\" onclick=\"quickchart('df-18769bcc-a374-4bed-bcdd-8f29087767d1')\"\n",
              "            title=\"Suggest charts\"\n",
              "            style=\"display:none;\">\n",
              "\n",
              "<svg xmlns=\"http://www.w3.org/2000/svg\" height=\"24px\"viewBox=\"0 0 24 24\"\n",
              "     width=\"24px\">\n",
              "    <g>\n",
              "        <path d=\"M19 3H5c-1.1 0-2 .9-2 2v14c0 1.1.9 2 2 2h14c1.1 0 2-.9 2-2V5c0-1.1-.9-2-2-2zM9 17H7v-7h2v7zm4 0h-2V7h2v10zm4 0h-2v-4h2v4z\"/>\n",
              "    </g>\n",
              "</svg>\n",
              "  </button>\n",
              "\n",
              "<style>\n",
              "  .colab-df-quickchart {\n",
              "      --bg-color: #E8F0FE;\n",
              "      --fill-color: #1967D2;\n",
              "      --hover-bg-color: #E2EBFA;\n",
              "      --hover-fill-color: #174EA6;\n",
              "      --disabled-fill-color: #AAA;\n",
              "      --disabled-bg-color: #DDD;\n",
              "  }\n",
              "\n",
              "  [theme=dark] .colab-df-quickchart {\n",
              "      --bg-color: #3B4455;\n",
              "      --fill-color: #D2E3FC;\n",
              "      --hover-bg-color: #434B5C;\n",
              "      --hover-fill-color: #FFFFFF;\n",
              "      --disabled-bg-color: #3B4455;\n",
              "      --disabled-fill-color: #666;\n",
              "  }\n",
              "\n",
              "  .colab-df-quickchart {\n",
              "    background-color: var(--bg-color);\n",
              "    border: none;\n",
              "    border-radius: 50%;\n",
              "    cursor: pointer;\n",
              "    display: none;\n",
              "    fill: var(--fill-color);\n",
              "    height: 32px;\n",
              "    padding: 0;\n",
              "    width: 32px;\n",
              "  }\n",
              "\n",
              "  .colab-df-quickchart:hover {\n",
              "    background-color: var(--hover-bg-color);\n",
              "    box-shadow: 0 1px 2px rgba(60, 64, 67, 0.3), 0 1px 3px 1px rgba(60, 64, 67, 0.15);\n",
              "    fill: var(--button-hover-fill-color);\n",
              "  }\n",
              "\n",
              "  .colab-df-quickchart-complete:disabled,\n",
              "  .colab-df-quickchart-complete:disabled:hover {\n",
              "    background-color: var(--disabled-bg-color);\n",
              "    fill: var(--disabled-fill-color);\n",
              "    box-shadow: none;\n",
              "  }\n",
              "\n",
              "  .colab-df-spinner {\n",
              "    border: 2px solid var(--fill-color);\n",
              "    border-color: transparent;\n",
              "    border-bottom-color: var(--fill-color);\n",
              "    animation:\n",
              "      spin 1s steps(1) infinite;\n",
              "  }\n",
              "\n",
              "  @keyframes spin {\n",
              "    0% {\n",
              "      border-color: transparent;\n",
              "      border-bottom-color: var(--fill-color);\n",
              "      border-left-color: var(--fill-color);\n",
              "    }\n",
              "    20% {\n",
              "      border-color: transparent;\n",
              "      border-left-color: var(--fill-color);\n",
              "      border-top-color: var(--fill-color);\n",
              "    }\n",
              "    30% {\n",
              "      border-color: transparent;\n",
              "      border-left-color: var(--fill-color);\n",
              "      border-top-color: var(--fill-color);\n",
              "      border-right-color: var(--fill-color);\n",
              "    }\n",
              "    40% {\n",
              "      border-color: transparent;\n",
              "      border-right-color: var(--fill-color);\n",
              "      border-top-color: var(--fill-color);\n",
              "    }\n",
              "    60% {\n",
              "      border-color: transparent;\n",
              "      border-right-color: var(--fill-color);\n",
              "    }\n",
              "    80% {\n",
              "      border-color: transparent;\n",
              "      border-right-color: var(--fill-color);\n",
              "      border-bottom-color: var(--fill-color);\n",
              "    }\n",
              "    90% {\n",
              "      border-color: transparent;\n",
              "      border-bottom-color: var(--fill-color);\n",
              "    }\n",
              "  }\n",
              "</style>\n",
              "\n",
              "  <script>\n",
              "    async function quickchart(key) {\n",
              "      const quickchartButtonEl =\n",
              "        document.querySelector('#' + key + ' button');\n",
              "      quickchartButtonEl.disabled = true;  // To prevent multiple clicks.\n",
              "      quickchartButtonEl.classList.add('colab-df-spinner');\n",
              "      try {\n",
              "        const charts = await google.colab.kernel.invokeFunction(\n",
              "            'suggestCharts', [key], {});\n",
              "      } catch (error) {\n",
              "        console.error('Error during call to suggestCharts:', error);\n",
              "      }\n",
              "      quickchartButtonEl.classList.remove('colab-df-spinner');\n",
              "      quickchartButtonEl.classList.add('colab-df-quickchart-complete');\n",
              "    }\n",
              "    (() => {\n",
              "      let quickchartButtonEl =\n",
              "        document.querySelector('#df-18769bcc-a374-4bed-bcdd-8f29087767d1 button');\n",
              "      quickchartButtonEl.style.display =\n",
              "        google.colab.kernel.accessAllowed ? 'block' : 'none';\n",
              "    })();\n",
              "  </script>\n",
              "</div>\n",
              "\n",
              "  <div id=\"id_ae6bf5dd-954f-44ea-a10f-e1cf47f9d545\">\n",
              "    <style>\n",
              "      .colab-df-generate {\n",
              "        background-color: #E8F0FE;\n",
              "        border: none;\n",
              "        border-radius: 50%;\n",
              "        cursor: pointer;\n",
              "        display: none;\n",
              "        fill: #1967D2;\n",
              "        height: 32px;\n",
              "        padding: 0 0 0 0;\n",
              "        width: 32px;\n",
              "      }\n",
              "\n",
              "      .colab-df-generate:hover {\n",
              "        background-color: #E2EBFA;\n",
              "        box-shadow: 0px 1px 2px rgba(60, 64, 67, 0.3), 0px 1px 3px 1px rgba(60, 64, 67, 0.15);\n",
              "        fill: #174EA6;\n",
              "      }\n",
              "\n",
              "      [theme=dark] .colab-df-generate {\n",
              "        background-color: #3B4455;\n",
              "        fill: #D2E3FC;\n",
              "      }\n",
              "\n",
              "      [theme=dark] .colab-df-generate:hover {\n",
              "        background-color: #434B5C;\n",
              "        box-shadow: 0px 1px 3px 1px rgba(0, 0, 0, 0.15);\n",
              "        filter: drop-shadow(0px 1px 2px rgba(0, 0, 0, 0.3));\n",
              "        fill: #FFFFFF;\n",
              "      }\n",
              "    </style>\n",
              "    <button class=\"colab-df-generate\" onclick=\"generateWithVariable('df_cleaned')\"\n",
              "            title=\"Generate code using this dataframe.\"\n",
              "            style=\"display:none;\">\n",
              "\n",
              "  <svg xmlns=\"http://www.w3.org/2000/svg\" height=\"24px\"viewBox=\"0 0 24 24\"\n",
              "       width=\"24px\">\n",
              "    <path d=\"M7,19H8.4L18.45,9,17,7.55,7,17.6ZM5,21V16.75L18.45,3.32a2,2,0,0,1,2.83,0l1.4,1.43a1.91,1.91,0,0,1,.58,1.4,1.91,1.91,0,0,1-.58,1.4L9.25,21ZM18.45,9,17,7.55Zm-12,3A5.31,5.31,0,0,0,4.9,8.1,5.31,5.31,0,0,0,1,6.5,5.31,5.31,0,0,0,4.9,4.9,5.31,5.31,0,0,0,6.5,1,5.31,5.31,0,0,0,8.1,4.9,5.31,5.31,0,0,0,12,6.5,5.46,5.46,0,0,0,6.5,12Z\"/>\n",
              "  </svg>\n",
              "    </button>\n",
              "    <script>\n",
              "      (() => {\n",
              "      const buttonEl =\n",
              "        document.querySelector('#id_ae6bf5dd-954f-44ea-a10f-e1cf47f9d545 button.colab-df-generate');\n",
              "      buttonEl.style.display =\n",
              "        google.colab.kernel.accessAllowed ? 'block' : 'none';\n",
              "\n",
              "      buttonEl.onclick = () => {\n",
              "        google.colab.notebook.generateWithVariable('df_cleaned');\n",
              "      }\n",
              "      })();\n",
              "    </script>\n",
              "  </div>\n",
              "\n",
              "    </div>\n",
              "  </div>\n"
            ],
            "application/vnd.google.colaboratory.intrinsic+json": {
              "type": "dataframe",
              "variable_name": "df_cleaned"
            }
          },
          "metadata": {},
          "execution_count": 10
        }
      ]
    },
    {
      "cell_type": "code",
      "source": [
        "df_cleaned.isnull().sum()"
      ],
      "metadata": {
        "colab": {
          "base_uri": "https://localhost:8080/"
        },
        "id": "BZMzftrnS5Ui",
        "outputId": "4d5aad1c-78c4-4056-cea7-411efea85eb6"
      },
      "execution_count": 8,
      "outputs": [
        {
          "output_type": "execute_result",
          "data": {
            "text/plain": [
              "id           0\n",
              "text       304\n",
              "dialect      0\n",
              "dtype: int64"
            ]
          },
          "metadata": {},
          "execution_count": 8
        }
      ]
    },
    {
      "cell_type": "code",
      "source": [
        "# Remove rows with null values in the 'text' column\n",
        "df_cleaned = df_cleaned.dropna(subset=['text'])\n",
        "\n",
        "# Verify that the null values are removed\n",
        "print(df_cleaned.isnull().sum())"
      ],
      "metadata": {
        "colab": {
          "base_uri": "https://localhost:8080/"
        },
        "id": "JAJFeLIRTAN6",
        "outputId": "b75aa77c-da4e-43c0-cc43-e356826119fe"
      },
      "execution_count": 11,
      "outputs": [
        {
          "output_type": "stream",
          "name": "stdout",
          "text": [
            "id         0\n",
            "text       0\n",
            "dialect    0\n",
            "dtype: int64\n"
          ]
        }
      ]
    },
    {
      "cell_type": "markdown",
      "source": [
        "##Data Splitting"
      ],
      "metadata": {
        "id": "fqxK8OI3AE7X"
      }
    },
    {
      "cell_type": "code",
      "source": [
        "x=df_cleaned.drop(['id','dialect'], axis=1)\n",
        "y=df_cleaned['dialect']"
      ],
      "metadata": {
        "id": "qxdC_-5u__cs"
      },
      "execution_count": 12,
      "outputs": []
    },
    {
      "cell_type": "code",
      "source": [
        "print(\"shape of x :\",x.shape)\n",
        "print(\"shape of y  :\" ,y.shape)"
      ],
      "metadata": {
        "colab": {
          "base_uri": "https://localhost:8080/"
        },
        "id": "CbjN-LPuAX9v",
        "outputId": "320af71e-e52a-4877-e97c-44157d0365d8"
      },
      "execution_count": 13,
      "outputs": [
        {
          "output_type": "stream",
          "name": "stdout",
          "text": [
            "shape of x : (147421, 1)\n",
            "shape of y  : (147421,)\n"
          ]
        }
      ]
    },
    {
      "cell_type": "code",
      "source": [
        "x_train ,x_test ,y_train , y_test = train_test_split(x,y,test_size=0.15, random_state=24, shuffle=True,stratify=y)"
      ],
      "metadata": {
        "id": "KqICROZAAcgI"
      },
      "execution_count": 14,
      "outputs": []
    },
    {
      "cell_type": "code",
      "source": [
        "x_train, x_val , y_train, y_val = train_test_split(x_train, y_train, test_size=0.10, random_state=42,stratify=y_train)"
      ],
      "metadata": {
        "id": "i3gZGP_UA9Cu"
      },
      "execution_count": 15,
      "outputs": []
    },
    {
      "cell_type": "code",
      "source": [
        "x_train.isnull().sum()"
      ],
      "metadata": {
        "colab": {
          "base_uri": "https://localhost:8080/"
        },
        "id": "c8XK788pjbiz",
        "outputId": "39a746c7-1dfe-4595-fbd7-2300bfd03c0c"
      },
      "execution_count": 16,
      "outputs": [
        {
          "output_type": "execute_result",
          "data": {
            "text/plain": [
              "text    0\n",
              "dtype: int64"
            ]
          },
          "metadata": {},
          "execution_count": 16
        }
      ]
    },
    {
      "cell_type": "markdown",
      "source": [
        "# Tokenizer and Model"
      ],
      "metadata": {
        "id": "DahFfk5gpv6u"
      }
    },
    {
      "cell_type": "markdown",
      "source": [
        "## ML Models"
      ],
      "metadata": {
        "id": "QSqLBreQxyHB"
      }
    },
    {
      "cell_type": "code",
      "source": [
        "# Use a Set to Store Unique Words\n",
        "unique_words = set()\n",
        "\n",
        "for text in x_train['text']:\n",
        "    words = text.split()  # Tokenize\n",
        "    unique_words.update(words)\n",
        "\n",
        "# Number of Unique Words\n",
        "num_unique_words = len(unique_words)\n",
        "print(f'Number of unique words: {num_unique_words}')"
      ],
      "metadata": {
        "colab": {
          "base_uri": "https://localhost:8080/"
        },
        "id": "1fCHEjaqpvd_",
        "outputId": "0c74773f-3e82-4b99-a445-0510146593db"
      },
      "execution_count": 17,
      "outputs": [
        {
          "output_type": "stream",
          "name": "stdout",
          "text": [
            "Number of unique words: 60104\n"
          ]
        }
      ]
    },
    {
      "cell_type": "markdown",
      "source": [
        "**Term Frequency-Inverse Document Frequency (TF-IDF):**\n",
        "-  TF-IDF assigns weights to terms based on their frequency in individual documents and their inverse frequency across all documents. This technique helps capture the importance of terms in distinguishing between documents."
      ],
      "metadata": {
        "id": "LD2scPpi-nvb"
      }
    },
    {
      "cell_type": "code",
      "source": [
        "# TF-IDF Vectorization\n",
        "vectorizer = TfidfVectorizer(max_features=5000)\n",
        "x_train_tfidf = vectorizer.fit_transform(x_train['text'])\n",
        "x_val_tfidf = vectorizer.transform(x_val['text'])\n",
        "x_test_tfidf = vectorizer.transform(x_test['text'])"
      ],
      "metadata": {
        "id": "HOOMTmiu8jIa"
      },
      "execution_count": 18,
      "outputs": []
    },
    {
      "cell_type": "code",
      "source": [
        "# Initialize LabelEncoder\n",
        "label_encoder = LabelEncoder()\n",
        "y_train_encoded = label_encoder.fit_transform(y_train)\n",
        "y_val_encoded = label_encoder.transform(y_val)\n",
        "y_test_encoded = label_encoder.transform(y_test)"
      ],
      "metadata": {
        "id": "f004DMvQ8oh9"
      },
      "execution_count": 19,
      "outputs": []
    },
    {
      "cell_type": "code",
      "source": [
        "# Train a Logistic Regression model\n",
        "model = LogisticRegression(max_iter=1000, random_state=42)\n",
        "model.fit(x_train_tfidf, y_train_encoded)"
      ],
      "metadata": {
        "colab": {
          "base_uri": "https://localhost:8080/",
          "height": 74
        },
        "id": "hXmnQqMZ8q6p",
        "outputId": "7ca11a23-1284-4dfa-eb4e-75f1a03f160b"
      },
      "execution_count": 20,
      "outputs": [
        {
          "output_type": "execute_result",
          "data": {
            "text/plain": [
              "LogisticRegression(max_iter=1000, random_state=42)"
            ],
            "text/html": [
              "<style>#sk-container-id-1 {color: black;background-color: white;}#sk-container-id-1 pre{padding: 0;}#sk-container-id-1 div.sk-toggleable {background-color: white;}#sk-container-id-1 label.sk-toggleable__label {cursor: pointer;display: block;width: 100%;margin-bottom: 0;padding: 0.3em;box-sizing: border-box;text-align: center;}#sk-container-id-1 label.sk-toggleable__label-arrow:before {content: \"▸\";float: left;margin-right: 0.25em;color: #696969;}#sk-container-id-1 label.sk-toggleable__label-arrow:hover:before {color: black;}#sk-container-id-1 div.sk-estimator:hover label.sk-toggleable__label-arrow:before {color: black;}#sk-container-id-1 div.sk-toggleable__content {max-height: 0;max-width: 0;overflow: hidden;text-align: left;background-color: #f0f8ff;}#sk-container-id-1 div.sk-toggleable__content pre {margin: 0.2em;color: black;border-radius: 0.25em;background-color: #f0f8ff;}#sk-container-id-1 input.sk-toggleable__control:checked~div.sk-toggleable__content {max-height: 200px;max-width: 100%;overflow: auto;}#sk-container-id-1 input.sk-toggleable__control:checked~label.sk-toggleable__label-arrow:before {content: \"▾\";}#sk-container-id-1 div.sk-estimator input.sk-toggleable__control:checked~label.sk-toggleable__label {background-color: #d4ebff;}#sk-container-id-1 div.sk-label input.sk-toggleable__control:checked~label.sk-toggleable__label {background-color: #d4ebff;}#sk-container-id-1 input.sk-hidden--visually {border: 0;clip: rect(1px 1px 1px 1px);clip: rect(1px, 1px, 1px, 1px);height: 1px;margin: -1px;overflow: hidden;padding: 0;position: absolute;width: 1px;}#sk-container-id-1 div.sk-estimator {font-family: monospace;background-color: #f0f8ff;border: 1px dotted black;border-radius: 0.25em;box-sizing: border-box;margin-bottom: 0.5em;}#sk-container-id-1 div.sk-estimator:hover {background-color: #d4ebff;}#sk-container-id-1 div.sk-parallel-item::after {content: \"\";width: 100%;border-bottom: 1px solid gray;flex-grow: 1;}#sk-container-id-1 div.sk-label:hover label.sk-toggleable__label {background-color: #d4ebff;}#sk-container-id-1 div.sk-serial::before {content: \"\";position: absolute;border-left: 1px solid gray;box-sizing: border-box;top: 0;bottom: 0;left: 50%;z-index: 0;}#sk-container-id-1 div.sk-serial {display: flex;flex-direction: column;align-items: center;background-color: white;padding-right: 0.2em;padding-left: 0.2em;position: relative;}#sk-container-id-1 div.sk-item {position: relative;z-index: 1;}#sk-container-id-1 div.sk-parallel {display: flex;align-items: stretch;justify-content: center;background-color: white;position: relative;}#sk-container-id-1 div.sk-item::before, #sk-container-id-1 div.sk-parallel-item::before {content: \"\";position: absolute;border-left: 1px solid gray;box-sizing: border-box;top: 0;bottom: 0;left: 50%;z-index: -1;}#sk-container-id-1 div.sk-parallel-item {display: flex;flex-direction: column;z-index: 1;position: relative;background-color: white;}#sk-container-id-1 div.sk-parallel-item:first-child::after {align-self: flex-end;width: 50%;}#sk-container-id-1 div.sk-parallel-item:last-child::after {align-self: flex-start;width: 50%;}#sk-container-id-1 div.sk-parallel-item:only-child::after {width: 0;}#sk-container-id-1 div.sk-dashed-wrapped {border: 1px dashed gray;margin: 0 0.4em 0.5em 0.4em;box-sizing: border-box;padding-bottom: 0.4em;background-color: white;}#sk-container-id-1 div.sk-label label {font-family: monospace;font-weight: bold;display: inline-block;line-height: 1.2em;}#sk-container-id-1 div.sk-label-container {text-align: center;}#sk-container-id-1 div.sk-container {/* jupyter's `normalize.less` sets `[hidden] { display: none; }` but bootstrap.min.css set `[hidden] { display: none !important; }` so we also need the `!important` here to be able to override the default hidden behavior on the sphinx rendered scikit-learn.org. See: https://github.com/scikit-learn/scikit-learn/issues/21755 */display: inline-block !important;position: relative;}#sk-container-id-1 div.sk-text-repr-fallback {display: none;}</style><div id=\"sk-container-id-1\" class=\"sk-top-container\"><div class=\"sk-text-repr-fallback\"><pre>LogisticRegression(max_iter=1000, random_state=42)</pre><b>In a Jupyter environment, please rerun this cell to show the HTML representation or trust the notebook. <br />On GitHub, the HTML representation is unable to render, please try loading this page with nbviewer.org.</b></div><div class=\"sk-container\" hidden><div class=\"sk-item\"><div class=\"sk-estimator sk-toggleable\"><input class=\"sk-toggleable__control sk-hidden--visually\" id=\"sk-estimator-id-1\" type=\"checkbox\" checked><label for=\"sk-estimator-id-1\" class=\"sk-toggleable__label sk-toggleable__label-arrow\">LogisticRegression</label><div class=\"sk-toggleable__content\"><pre>LogisticRegression(max_iter=1000, random_state=42)</pre></div></div></div></div></div>"
            ]
          },
          "metadata": {},
          "execution_count": 20
        }
      ]
    },
    {
      "cell_type": "code",
      "source": [
        "# Evaluate on validation set\n",
        "y_val_pred = model.predict(x_val_tfidf)\n",
        "val_accuracy = accuracy_score(y_val_encoded, y_val_pred)\n",
        "print(f'Validation Accuracy: {val_accuracy:.4f}')"
      ],
      "metadata": {
        "colab": {
          "base_uri": "https://localhost:8080/"
        },
        "id": "fH_mrfN98sS3",
        "outputId": "7028f5be-c393-4fee-fa5d-13e8d1faf44d"
      },
      "execution_count": 21,
      "outputs": [
        {
          "output_type": "stream",
          "name": "stdout",
          "text": [
            "Validation Accuracy: 0.7695\n"
          ]
        }
      ]
    },
    {
      "cell_type": "code",
      "source": [
        "# Evaluate on test set\n",
        "y_test_pred = model.predict(x_test_tfidf)\n",
        "test_accuracy = accuracy_score(y_test_encoded, y_test_pred)\n",
        "print(f'Test Accuracy: {test_accuracy:.4f}')"
      ],
      "metadata": {
        "colab": {
          "base_uri": "https://localhost:8080/"
        },
        "id": "gvpFcCYI83mO",
        "outputId": "4b451ec6-5de2-432a-bf1b-3e1d6c07a349"
      },
      "execution_count": 22,
      "outputs": [
        {
          "output_type": "stream",
          "name": "stdout",
          "text": [
            "Test Accuracy: 0.7678\n"
          ]
        }
      ]
    },
    {
      "cell_type": "code",
      "source": [
        "precision = precision_score(y_test_encoded, y_test_pred, average='macro')\n",
        "print(f'Precision: {precision:.4f}')"
      ],
      "metadata": {
        "colab": {
          "base_uri": "https://localhost:8080/"
        },
        "id": "flrjv-IX87uj",
        "outputId": "cfbbb2b1-0243-4f1b-bec8-07968a03269c"
      },
      "execution_count": 23,
      "outputs": [
        {
          "output_type": "stream",
          "name": "stdout",
          "text": [
            "Precision: 0.7735\n"
          ]
        }
      ]
    },
    {
      "cell_type": "code",
      "source": [
        "print(classification_report(y_test_encoded, y_test_pred, target_names=label_encoder.classes_))"
      ],
      "metadata": {
        "colab": {
          "base_uri": "https://localhost:8080/"
        },
        "id": "37U5QlhvpvYX",
        "outputId": "3e2cfb4e-9db2-477f-d233-26f9b16b59a5"
      },
      "execution_count": 24,
      "outputs": [
        {
          "output_type": "stream",
          "name": "stdout",
          "text": [
            "              precision    recall  f1-score   support\n",
            "\n",
            "          EG       0.78      0.88      0.83      8628\n",
            "          LB       0.80      0.76      0.78      4137\n",
            "          LY       0.71      0.77      0.74      5466\n",
            "          MA       0.81      0.57      0.67      1727\n",
            "          SD       0.76      0.48      0.59      2156\n",
            "\n",
            "    accuracy                           0.77     22114\n",
            "   macro avg       0.77      0.69      0.72     22114\n",
            "weighted avg       0.77      0.77      0.76     22114\n",
            "\n"
          ]
        }
      ]
    },
    {
      "cell_type": "markdown",
      "source": [
        "### use 10000  Unique Words\n"
      ],
      "metadata": {
        "id": "fawtZjbRAXD9"
      }
    },
    {
      "cell_type": "code",
      "source": [
        "# TF-IDF Vectorization\n",
        "vectorizer_ = TfidfVectorizer(max_features=10000)\n",
        "x_train_tfidf = vectorizer_.fit_transform(x_train['text'])\n",
        "x_val_tfidf = vectorizer_.transform(x_val['text'])\n",
        "x_test_tfidf = vectorizer_.transform(x_test['text'])"
      ],
      "metadata": {
        "id": "nXvDbYeXAcBe"
      },
      "execution_count": 25,
      "outputs": []
    },
    {
      "cell_type": "code",
      "source": [
        "# Train a Logistic Regression model\n",
        "model = LogisticRegression(max_iter=1000, random_state=42)\n",
        "model.fit(x_train_tfidf, y_train_encoded)\n"
      ],
      "metadata": {
        "colab": {
          "base_uri": "https://localhost:8080/",
          "height": 74
        },
        "outputId": "ce6d8317-bdfa-40f6-ec0b-1788089d73ca",
        "id": "03kWTHPQAcBn"
      },
      "execution_count": 26,
      "outputs": [
        {
          "output_type": "execute_result",
          "data": {
            "text/plain": [
              "LogisticRegression(max_iter=1000, random_state=42)"
            ],
            "text/html": [
              "<style>#sk-container-id-2 {color: black;background-color: white;}#sk-container-id-2 pre{padding: 0;}#sk-container-id-2 div.sk-toggleable {background-color: white;}#sk-container-id-2 label.sk-toggleable__label {cursor: pointer;display: block;width: 100%;margin-bottom: 0;padding: 0.3em;box-sizing: border-box;text-align: center;}#sk-container-id-2 label.sk-toggleable__label-arrow:before {content: \"▸\";float: left;margin-right: 0.25em;color: #696969;}#sk-container-id-2 label.sk-toggleable__label-arrow:hover:before {color: black;}#sk-container-id-2 div.sk-estimator:hover label.sk-toggleable__label-arrow:before {color: black;}#sk-container-id-2 div.sk-toggleable__content {max-height: 0;max-width: 0;overflow: hidden;text-align: left;background-color: #f0f8ff;}#sk-container-id-2 div.sk-toggleable__content pre {margin: 0.2em;color: black;border-radius: 0.25em;background-color: #f0f8ff;}#sk-container-id-2 input.sk-toggleable__control:checked~div.sk-toggleable__content {max-height: 200px;max-width: 100%;overflow: auto;}#sk-container-id-2 input.sk-toggleable__control:checked~label.sk-toggleable__label-arrow:before {content: \"▾\";}#sk-container-id-2 div.sk-estimator input.sk-toggleable__control:checked~label.sk-toggleable__label {background-color: #d4ebff;}#sk-container-id-2 div.sk-label input.sk-toggleable__control:checked~label.sk-toggleable__label {background-color: #d4ebff;}#sk-container-id-2 input.sk-hidden--visually {border: 0;clip: rect(1px 1px 1px 1px);clip: rect(1px, 1px, 1px, 1px);height: 1px;margin: -1px;overflow: hidden;padding: 0;position: absolute;width: 1px;}#sk-container-id-2 div.sk-estimator {font-family: monospace;background-color: #f0f8ff;border: 1px dotted black;border-radius: 0.25em;box-sizing: border-box;margin-bottom: 0.5em;}#sk-container-id-2 div.sk-estimator:hover {background-color: #d4ebff;}#sk-container-id-2 div.sk-parallel-item::after {content: \"\";width: 100%;border-bottom: 1px solid gray;flex-grow: 1;}#sk-container-id-2 div.sk-label:hover label.sk-toggleable__label {background-color: #d4ebff;}#sk-container-id-2 div.sk-serial::before {content: \"\";position: absolute;border-left: 1px solid gray;box-sizing: border-box;top: 0;bottom: 0;left: 50%;z-index: 0;}#sk-container-id-2 div.sk-serial {display: flex;flex-direction: column;align-items: center;background-color: white;padding-right: 0.2em;padding-left: 0.2em;position: relative;}#sk-container-id-2 div.sk-item {position: relative;z-index: 1;}#sk-container-id-2 div.sk-parallel {display: flex;align-items: stretch;justify-content: center;background-color: white;position: relative;}#sk-container-id-2 div.sk-item::before, #sk-container-id-2 div.sk-parallel-item::before {content: \"\";position: absolute;border-left: 1px solid gray;box-sizing: border-box;top: 0;bottom: 0;left: 50%;z-index: -1;}#sk-container-id-2 div.sk-parallel-item {display: flex;flex-direction: column;z-index: 1;position: relative;background-color: white;}#sk-container-id-2 div.sk-parallel-item:first-child::after {align-self: flex-end;width: 50%;}#sk-container-id-2 div.sk-parallel-item:last-child::after {align-self: flex-start;width: 50%;}#sk-container-id-2 div.sk-parallel-item:only-child::after {width: 0;}#sk-container-id-2 div.sk-dashed-wrapped {border: 1px dashed gray;margin: 0 0.4em 0.5em 0.4em;box-sizing: border-box;padding-bottom: 0.4em;background-color: white;}#sk-container-id-2 div.sk-label label {font-family: monospace;font-weight: bold;display: inline-block;line-height: 1.2em;}#sk-container-id-2 div.sk-label-container {text-align: center;}#sk-container-id-2 div.sk-container {/* jupyter's `normalize.less` sets `[hidden] { display: none; }` but bootstrap.min.css set `[hidden] { display: none !important; }` so we also need the `!important` here to be able to override the default hidden behavior on the sphinx rendered scikit-learn.org. See: https://github.com/scikit-learn/scikit-learn/issues/21755 */display: inline-block !important;position: relative;}#sk-container-id-2 div.sk-text-repr-fallback {display: none;}</style><div id=\"sk-container-id-2\" class=\"sk-top-container\"><div class=\"sk-text-repr-fallback\"><pre>LogisticRegression(max_iter=1000, random_state=42)</pre><b>In a Jupyter environment, please rerun this cell to show the HTML representation or trust the notebook. <br />On GitHub, the HTML representation is unable to render, please try loading this page with nbviewer.org.</b></div><div class=\"sk-container\" hidden><div class=\"sk-item\"><div class=\"sk-estimator sk-toggleable\"><input class=\"sk-toggleable__control sk-hidden--visually\" id=\"sk-estimator-id-2\" type=\"checkbox\" checked><label for=\"sk-estimator-id-2\" class=\"sk-toggleable__label sk-toggleable__label-arrow\">LogisticRegression</label><div class=\"sk-toggleable__content\"><pre>LogisticRegression(max_iter=1000, random_state=42)</pre></div></div></div></div></div>"
            ]
          },
          "metadata": {},
          "execution_count": 26
        }
      ]
    },
    {
      "cell_type": "code",
      "source": [
        "# Evaluate on validation set\n",
        "y_val_pred = model.predict(x_val_tfidf)\n",
        "val_accuracy = accuracy_score(y_val_encoded, y_val_pred)\n",
        "val_Precision = precision_score(y_val_encoded, y_val_pred, average='macro')\n",
        "print(f'Validation Accuracy: {val_accuracy:.4f}')\n",
        "print(f'Precision: {val_Precision:.4f}')"
      ],
      "metadata": {
        "colab": {
          "base_uri": "https://localhost:8080/"
        },
        "outputId": "3660380b-6923-49e3-93ab-0ac11fcd0d19",
        "id": "nZPO8Mp7AcBn"
      },
      "execution_count": 27,
      "outputs": [
        {
          "output_type": "stream",
          "name": "stdout",
          "text": [
            "Validation Accuracy: 0.7774\n",
            "Precision: 0.7890\n"
          ]
        }
      ]
    },
    {
      "cell_type": "code",
      "source": [
        "# Evaluate on test set\n",
        "y_test_pred = model.predict(x_test_tfidf)\n",
        "test_accuracy = accuracy_score(y_test_encoded, y_test_pred)\n",
        "print(f'Test Accuracy: {test_accuracy:.4f}')"
      ],
      "metadata": {
        "colab": {
          "base_uri": "https://localhost:8080/"
        },
        "outputId": "449ce4dc-7f9d-4ae3-c1a0-b3353c8f4155",
        "id": "QUhQmZGeAcBn"
      },
      "execution_count": 28,
      "outputs": [
        {
          "output_type": "stream",
          "name": "stdout",
          "text": [
            "Test Accuracy: 0.7761\n"
          ]
        }
      ]
    },
    {
      "cell_type": "code",
      "source": [
        "precision = precision_score(y_test_encoded, y_test_pred, average='macro')\n",
        "print(f'Precision: {precision:.4f}')"
      ],
      "metadata": {
        "colab": {
          "base_uri": "https://localhost:8080/"
        },
        "outputId": "9e4857c1-4179-4f94-90bd-5fdf2106bcc4",
        "id": "uxx1tfYAAcBn"
      },
      "execution_count": 29,
      "outputs": [
        {
          "output_type": "stream",
          "name": "stdout",
          "text": [
            "Precision: 0.7835\n"
          ]
        }
      ]
    },
    {
      "cell_type": "code",
      "source": [
        "print(classification_report(y_test_encoded, y_test_pred, target_names=label_encoder.classes_))"
      ],
      "metadata": {
        "colab": {
          "base_uri": "https://localhost:8080/"
        },
        "outputId": "538704e2-5c0b-413d-98a0-172e4f064a7a",
        "id": "k7xaScwGAcBn"
      },
      "execution_count": 30,
      "outputs": [
        {
          "output_type": "stream",
          "name": "stdout",
          "text": [
            "              precision    recall  f1-score   support\n",
            "\n",
            "          EG       0.79      0.89      0.84      8628\n",
            "          LB       0.81      0.77      0.79      4137\n",
            "          LY       0.72      0.78      0.75      5466\n",
            "          MA       0.83      0.58      0.68      1727\n",
            "          SD       0.77      0.49      0.60      2156\n",
            "\n",
            "    accuracy                           0.78     22114\n",
            "   macro avg       0.78      0.70      0.73     22114\n",
            "weighted avg       0.78      0.78      0.77     22114\n",
            "\n"
          ]
        }
      ]
    },
    {
      "cell_type": "markdown",
      "source": [
        "Use All Unique Words"
      ],
      "metadata": {
        "id": "PgM0p6bY0O10"
      }
    },
    {
      "cell_type": "code",
      "source": [
        "# TF-IDF Vectorization\n",
        "vectorizer_ = TfidfVectorizer(max_features=num_unique_words)\n",
        "x_train_tfidf = vectorizer_.fit_transform(x_train['text'])\n",
        "x_val_tfidf = vectorizer_.transform(x_val['text'])\n",
        "x_test_tfidf = vectorizer_.transform(x_test['text'])"
      ],
      "metadata": {
        "id": "xIqxC6Uj2cQH"
      },
      "execution_count": 31,
      "outputs": []
    },
    {
      "cell_type": "code",
      "source": [
        "# Train a Logistic Regression model\n",
        "model = LogisticRegression(max_iter=1000, random_state=42)\n",
        "model.fit(x_train_tfidf, y_train_encoded)"
      ],
      "metadata": {
        "id": "3ygOyGHW2cQP",
        "outputId": "eb1113cf-9d44-4121-fb9e-634ecbe57481",
        "colab": {
          "base_uri": "https://localhost:8080/",
          "height": 74
        }
      },
      "execution_count": 32,
      "outputs": [
        {
          "output_type": "execute_result",
          "data": {
            "text/plain": [
              "LogisticRegression(max_iter=1000, random_state=42)"
            ],
            "text/html": [
              "<style>#sk-container-id-3 {color: black;background-color: white;}#sk-container-id-3 pre{padding: 0;}#sk-container-id-3 div.sk-toggleable {background-color: white;}#sk-container-id-3 label.sk-toggleable__label {cursor: pointer;display: block;width: 100%;margin-bottom: 0;padding: 0.3em;box-sizing: border-box;text-align: center;}#sk-container-id-3 label.sk-toggleable__label-arrow:before {content: \"▸\";float: left;margin-right: 0.25em;color: #696969;}#sk-container-id-3 label.sk-toggleable__label-arrow:hover:before {color: black;}#sk-container-id-3 div.sk-estimator:hover label.sk-toggleable__label-arrow:before {color: black;}#sk-container-id-3 div.sk-toggleable__content {max-height: 0;max-width: 0;overflow: hidden;text-align: left;background-color: #f0f8ff;}#sk-container-id-3 div.sk-toggleable__content pre {margin: 0.2em;color: black;border-radius: 0.25em;background-color: #f0f8ff;}#sk-container-id-3 input.sk-toggleable__control:checked~div.sk-toggleable__content {max-height: 200px;max-width: 100%;overflow: auto;}#sk-container-id-3 input.sk-toggleable__control:checked~label.sk-toggleable__label-arrow:before {content: \"▾\";}#sk-container-id-3 div.sk-estimator input.sk-toggleable__control:checked~label.sk-toggleable__label {background-color: #d4ebff;}#sk-container-id-3 div.sk-label input.sk-toggleable__control:checked~label.sk-toggleable__label {background-color: #d4ebff;}#sk-container-id-3 input.sk-hidden--visually {border: 0;clip: rect(1px 1px 1px 1px);clip: rect(1px, 1px, 1px, 1px);height: 1px;margin: -1px;overflow: hidden;padding: 0;position: absolute;width: 1px;}#sk-container-id-3 div.sk-estimator {font-family: monospace;background-color: #f0f8ff;border: 1px dotted black;border-radius: 0.25em;box-sizing: border-box;margin-bottom: 0.5em;}#sk-container-id-3 div.sk-estimator:hover {background-color: #d4ebff;}#sk-container-id-3 div.sk-parallel-item::after {content: \"\";width: 100%;border-bottom: 1px solid gray;flex-grow: 1;}#sk-container-id-3 div.sk-label:hover label.sk-toggleable__label {background-color: #d4ebff;}#sk-container-id-3 div.sk-serial::before {content: \"\";position: absolute;border-left: 1px solid gray;box-sizing: border-box;top: 0;bottom: 0;left: 50%;z-index: 0;}#sk-container-id-3 div.sk-serial {display: flex;flex-direction: column;align-items: center;background-color: white;padding-right: 0.2em;padding-left: 0.2em;position: relative;}#sk-container-id-3 div.sk-item {position: relative;z-index: 1;}#sk-container-id-3 div.sk-parallel {display: flex;align-items: stretch;justify-content: center;background-color: white;position: relative;}#sk-container-id-3 div.sk-item::before, #sk-container-id-3 div.sk-parallel-item::before {content: \"\";position: absolute;border-left: 1px solid gray;box-sizing: border-box;top: 0;bottom: 0;left: 50%;z-index: -1;}#sk-container-id-3 div.sk-parallel-item {display: flex;flex-direction: column;z-index: 1;position: relative;background-color: white;}#sk-container-id-3 div.sk-parallel-item:first-child::after {align-self: flex-end;width: 50%;}#sk-container-id-3 div.sk-parallel-item:last-child::after {align-self: flex-start;width: 50%;}#sk-container-id-3 div.sk-parallel-item:only-child::after {width: 0;}#sk-container-id-3 div.sk-dashed-wrapped {border: 1px dashed gray;margin: 0 0.4em 0.5em 0.4em;box-sizing: border-box;padding-bottom: 0.4em;background-color: white;}#sk-container-id-3 div.sk-label label {font-family: monospace;font-weight: bold;display: inline-block;line-height: 1.2em;}#sk-container-id-3 div.sk-label-container {text-align: center;}#sk-container-id-3 div.sk-container {/* jupyter's `normalize.less` sets `[hidden] { display: none; }` but bootstrap.min.css set `[hidden] { display: none !important; }` so we also need the `!important` here to be able to override the default hidden behavior on the sphinx rendered scikit-learn.org. See: https://github.com/scikit-learn/scikit-learn/issues/21755 */display: inline-block !important;position: relative;}#sk-container-id-3 div.sk-text-repr-fallback {display: none;}</style><div id=\"sk-container-id-3\" class=\"sk-top-container\"><div class=\"sk-text-repr-fallback\"><pre>LogisticRegression(max_iter=1000, random_state=42)</pre><b>In a Jupyter environment, please rerun this cell to show the HTML representation or trust the notebook. <br />On GitHub, the HTML representation is unable to render, please try loading this page with nbviewer.org.</b></div><div class=\"sk-container\" hidden><div class=\"sk-item\"><div class=\"sk-estimator sk-toggleable\"><input class=\"sk-toggleable__control sk-hidden--visually\" id=\"sk-estimator-id-3\" type=\"checkbox\" checked><label for=\"sk-estimator-id-3\" class=\"sk-toggleable__label sk-toggleable__label-arrow\">LogisticRegression</label><div class=\"sk-toggleable__content\"><pre>LogisticRegression(max_iter=1000, random_state=42)</pre></div></div></div></div></div>"
            ]
          },
          "metadata": {},
          "execution_count": 32
        }
      ]
    },
    {
      "cell_type": "code",
      "source": [
        "# Evaluate on validation set\n",
        "y_val_pred = model.predict(x_val_tfidf)\n",
        "val_accuracy = accuracy_score(y_val_encoded, y_val_pred)\n",
        "val_Precision = precision_score(y_val_encoded, y_val_pred, average='macro')\n",
        "print(f'Validation Accuracy: {val_accuracy:.4f}')\n",
        "print(f'Precision: {val_Precision:.4f}')"
      ],
      "metadata": {
        "id": "Gwl9cgC32cQP",
        "outputId": "a4ceacf7-e810-444b-cc46-06066e9c279b",
        "colab": {
          "base_uri": "https://localhost:8080/"
        }
      },
      "execution_count": 33,
      "outputs": [
        {
          "output_type": "stream",
          "name": "stdout",
          "text": [
            "Validation Accuracy: 0.7782\n",
            "Precision: 0.7897\n"
          ]
        }
      ]
    },
    {
      "cell_type": "code",
      "source": [
        "# Evaluate on test set\n",
        "y_test_pred = model.predict(x_test_tfidf)\n",
        "test_accuracy = accuracy_score(y_test_encoded, y_test_pred)\n",
        "print(f'Test Accuracy: {test_accuracy:.4f}')"
      ],
      "metadata": {
        "id": "2KeQmEcq2cQQ",
        "outputId": "cced5bd8-a912-43a0-8ac7-bc754f424e88",
        "colab": {
          "base_uri": "https://localhost:8080/"
        }
      },
      "execution_count": 34,
      "outputs": [
        {
          "output_type": "stream",
          "name": "stdout",
          "text": [
            "Test Accuracy: 0.7767\n"
          ]
        }
      ]
    },
    {
      "cell_type": "code",
      "source": [
        "precision = precision_score(y_test_encoded, y_test_pred, average='macro')\n",
        "print(f'Precision: {precision:.4f}')"
      ],
      "metadata": {
        "id": "w6MVjZD92cQQ",
        "outputId": "3944140e-d281-49d0-995a-8c7987dfe84d",
        "colab": {
          "base_uri": "https://localhost:8080/"
        }
      },
      "execution_count": 35,
      "outputs": [
        {
          "output_type": "stream",
          "name": "stdout",
          "text": [
            "Precision: 0.7861\n"
          ]
        }
      ]
    },
    {
      "cell_type": "code",
      "source": [
        "print(\"classification_report using LogisticRegression : \")\n",
        "print(classification_report(y_test_encoded, y_test_pred, target_names=label_encoder.classes_))"
      ],
      "metadata": {
        "id": "S-k3QSeg2cQQ",
        "outputId": "5f43a7a5-dcbc-4cdd-b1f5-7ac8ba5d9b16",
        "colab": {
          "base_uri": "https://localhost:8080/"
        }
      },
      "execution_count": 37,
      "outputs": [
        {
          "output_type": "stream",
          "name": "stdout",
          "text": [
            "classification_report using LogisticRegression : \n",
            "              precision    recall  f1-score   support\n",
            "\n",
            "          EG       0.79      0.89      0.84      8628\n",
            "          LB       0.81      0.77      0.79      4137\n",
            "          LY       0.72      0.78      0.75      5466\n",
            "          MA       0.83      0.58      0.68      1727\n",
            "          SD       0.78      0.49      0.60      2156\n",
            "\n",
            "    accuracy                           0.78     22114\n",
            "   macro avg       0.79      0.70      0.73     22114\n",
            "weighted avg       0.78      0.78      0.77     22114\n",
            "\n"
          ]
        }
      ]
    },
    {
      "cell_type": "markdown",
      "source": [
        "### **Complement Naive Bayes**"
      ],
      "metadata": {
        "id": "WupucCX7t_ZE"
      }
    },
    {
      "cell_type": "markdown",
      "source": [
        "The Complement Naive Bayes (CNB) classifier addresses imbalanced datasets by adjusting the computation of class probabilities during training. It was specifically designed to work well on imbalanced text classification tasks, where one class may dominate the others in terms of frequency."
      ],
      "metadata": {
        "id": "fKv20Rxzt88t"
      }
    },
    {
      "cell_type": "code",
      "source": [
        "clf = ComplementNB()\n",
        "clf.fit(x_train_tfidf, y_train_encoded)"
      ],
      "metadata": {
        "colab": {
          "base_uri": "https://localhost:8080/",
          "height": 74
        },
        "id": "ibMRIDkjqnFy",
        "outputId": "75a722df-a9b7-4374-a5ee-f84d383e19f3"
      },
      "execution_count": 40,
      "outputs": [
        {
          "output_type": "execute_result",
          "data": {
            "text/plain": [
              "ComplementNB()"
            ],
            "text/html": [
              "<style>#sk-container-id-4 {color: black;background-color: white;}#sk-container-id-4 pre{padding: 0;}#sk-container-id-4 div.sk-toggleable {background-color: white;}#sk-container-id-4 label.sk-toggleable__label {cursor: pointer;display: block;width: 100%;margin-bottom: 0;padding: 0.3em;box-sizing: border-box;text-align: center;}#sk-container-id-4 label.sk-toggleable__label-arrow:before {content: \"▸\";float: left;margin-right: 0.25em;color: #696969;}#sk-container-id-4 label.sk-toggleable__label-arrow:hover:before {color: black;}#sk-container-id-4 div.sk-estimator:hover label.sk-toggleable__label-arrow:before {color: black;}#sk-container-id-4 div.sk-toggleable__content {max-height: 0;max-width: 0;overflow: hidden;text-align: left;background-color: #f0f8ff;}#sk-container-id-4 div.sk-toggleable__content pre {margin: 0.2em;color: black;border-radius: 0.25em;background-color: #f0f8ff;}#sk-container-id-4 input.sk-toggleable__control:checked~div.sk-toggleable__content {max-height: 200px;max-width: 100%;overflow: auto;}#sk-container-id-4 input.sk-toggleable__control:checked~label.sk-toggleable__label-arrow:before {content: \"▾\";}#sk-container-id-4 div.sk-estimator input.sk-toggleable__control:checked~label.sk-toggleable__label {background-color: #d4ebff;}#sk-container-id-4 div.sk-label input.sk-toggleable__control:checked~label.sk-toggleable__label {background-color: #d4ebff;}#sk-container-id-4 input.sk-hidden--visually {border: 0;clip: rect(1px 1px 1px 1px);clip: rect(1px, 1px, 1px, 1px);height: 1px;margin: -1px;overflow: hidden;padding: 0;position: absolute;width: 1px;}#sk-container-id-4 div.sk-estimator {font-family: monospace;background-color: #f0f8ff;border: 1px dotted black;border-radius: 0.25em;box-sizing: border-box;margin-bottom: 0.5em;}#sk-container-id-4 div.sk-estimator:hover {background-color: #d4ebff;}#sk-container-id-4 div.sk-parallel-item::after {content: \"\";width: 100%;border-bottom: 1px solid gray;flex-grow: 1;}#sk-container-id-4 div.sk-label:hover label.sk-toggleable__label {background-color: #d4ebff;}#sk-container-id-4 div.sk-serial::before {content: \"\";position: absolute;border-left: 1px solid gray;box-sizing: border-box;top: 0;bottom: 0;left: 50%;z-index: 0;}#sk-container-id-4 div.sk-serial {display: flex;flex-direction: column;align-items: center;background-color: white;padding-right: 0.2em;padding-left: 0.2em;position: relative;}#sk-container-id-4 div.sk-item {position: relative;z-index: 1;}#sk-container-id-4 div.sk-parallel {display: flex;align-items: stretch;justify-content: center;background-color: white;position: relative;}#sk-container-id-4 div.sk-item::before, #sk-container-id-4 div.sk-parallel-item::before {content: \"\";position: absolute;border-left: 1px solid gray;box-sizing: border-box;top: 0;bottom: 0;left: 50%;z-index: -1;}#sk-container-id-4 div.sk-parallel-item {display: flex;flex-direction: column;z-index: 1;position: relative;background-color: white;}#sk-container-id-4 div.sk-parallel-item:first-child::after {align-self: flex-end;width: 50%;}#sk-container-id-4 div.sk-parallel-item:last-child::after {align-self: flex-start;width: 50%;}#sk-container-id-4 div.sk-parallel-item:only-child::after {width: 0;}#sk-container-id-4 div.sk-dashed-wrapped {border: 1px dashed gray;margin: 0 0.4em 0.5em 0.4em;box-sizing: border-box;padding-bottom: 0.4em;background-color: white;}#sk-container-id-4 div.sk-label label {font-family: monospace;font-weight: bold;display: inline-block;line-height: 1.2em;}#sk-container-id-4 div.sk-label-container {text-align: center;}#sk-container-id-4 div.sk-container {/* jupyter's `normalize.less` sets `[hidden] { display: none; }` but bootstrap.min.css set `[hidden] { display: none !important; }` so we also need the `!important` here to be able to override the default hidden behavior on the sphinx rendered scikit-learn.org. See: https://github.com/scikit-learn/scikit-learn/issues/21755 */display: inline-block !important;position: relative;}#sk-container-id-4 div.sk-text-repr-fallback {display: none;}</style><div id=\"sk-container-id-4\" class=\"sk-top-container\"><div class=\"sk-text-repr-fallback\"><pre>ComplementNB()</pre><b>In a Jupyter environment, please rerun this cell to show the HTML representation or trust the notebook. <br />On GitHub, the HTML representation is unable to render, please try loading this page with nbviewer.org.</b></div><div class=\"sk-container\" hidden><div class=\"sk-item\"><div class=\"sk-estimator sk-toggleable\"><input class=\"sk-toggleable__control sk-hidden--visually\" id=\"sk-estimator-id-4\" type=\"checkbox\" checked><label for=\"sk-estimator-id-4\" class=\"sk-toggleable__label sk-toggleable__label-arrow\">ComplementNB</label><div class=\"sk-toggleable__content\"><pre>ComplementNB()</pre></div></div></div></div></div>"
            ]
          },
          "metadata": {},
          "execution_count": 40
        }
      ]
    },
    {
      "cell_type": "code",
      "source": [
        "# Evaluate on validation set\n",
        "y_val_pred = clf.predict(x_val_tfidf)\n",
        "val_accuracy = accuracy_score(y_val_encoded, y_val_pred)\n",
        "val_Precision = precision_score(y_val_encoded, y_val_pred, average='macro')\n",
        "print(f'Validation Accuracy: {val_accuracy:.4f}')\n",
        "print(f'Precision: {val_Precision:.4f}')"
      ],
      "metadata": {
        "colab": {
          "base_uri": "https://localhost:8080/"
        },
        "id": "kwo5ByPCqnCS",
        "outputId": "f9affe31-bfc9-4ec5-820c-c7d0ef44cdbe"
      },
      "execution_count": 43,
      "outputs": [
        {
          "output_type": "stream",
          "name": "stdout",
          "text": [
            "Validation Accuracy: 0.7639\n",
            "Precision: 0.7690\n"
          ]
        }
      ]
    },
    {
      "cell_type": "code",
      "source": [
        "# Evaluate on test set\n",
        "y_test_pred = clf.predict(x_test_tfidf)\n",
        "test_accuracy = accuracy_score(y_test_encoded, y_test_pred)\n",
        "print(f'Test Accuracy: {test_accuracy:.4f}')"
      ],
      "metadata": {
        "colab": {
          "base_uri": "https://localhost:8080/"
        },
        "outputId": "4e7fe74b-0985-4e3c-9d91-5a8ae4575853",
        "id": "SoBT2b8jwnGQ"
      },
      "execution_count": 44,
      "outputs": [
        {
          "output_type": "stream",
          "name": "stdout",
          "text": [
            "Test Accuracy: 0.7646\n"
          ]
        }
      ]
    },
    {
      "cell_type": "code",
      "source": [
        "precision = precision_score(y_test_encoded, y_test_pred, average='macro')\n",
        "print(f'Test Precision: {precision:.4f}')"
      ],
      "metadata": {
        "colab": {
          "base_uri": "https://localhost:8080/"
        },
        "outputId": "5414c052-876c-4077-db11-ad441f9dc346",
        "id": "2pEzbmlTwnGa"
      },
      "execution_count": 45,
      "outputs": [
        {
          "output_type": "stream",
          "name": "stdout",
          "text": [
            "Test Precision: 0.7643\n"
          ]
        }
      ]
    },
    {
      "cell_type": "code",
      "source": [
        "print(\"classification_report using ComplementNB : \")\n",
        "print(classification_report(y_test_encoded, y_test_pred, target_names=label_encoder.classes_))"
      ],
      "metadata": {
        "colab": {
          "base_uri": "https://localhost:8080/"
        },
        "id": "jCDOBB5Cqm_i",
        "outputId": "e8b1d119-d5d4-418d-e3ef-d262a21ca89a"
      },
      "execution_count": 46,
      "outputs": [
        {
          "output_type": "stream",
          "name": "stdout",
          "text": [
            "classification_report using ComplementNB : \n",
            "              precision    recall  f1-score   support\n",
            "\n",
            "          EG       0.77      0.90      0.83      8628\n",
            "          LB       0.77      0.79      0.78      4137\n",
            "          LY       0.76      0.72      0.74      5466\n",
            "          MA       0.79      0.61      0.69      1727\n",
            "          SD       0.74      0.39      0.51      2156\n",
            "\n",
            "    accuracy                           0.76     22114\n",
            "   macro avg       0.76      0.68      0.71     22114\n",
            "weighted avg       0.76      0.76      0.76     22114\n",
            "\n"
          ]
        }
      ]
    },
    {
      "cell_type": "markdown",
      "source": [
        "## **DeepLearning**"
      ],
      "metadata": {
        "id": "Iuv-GMFGpdoS"
      }
    },
    {
      "cell_type": "markdown",
      "metadata": {
        "id": "Gbm_Uiyxws4G"
      },
      "source": [
        "\n",
        "## Gated Recurrent Unit (GRU)\n",
        "\n",
        "The GRU cell replaces the Simple rnn cell, and adds a **gate** to the network, this gates allows the network to choose what to keep from the previous state, and thus can keep track of some memories, and also solves the vanishing gradient problem.\n",
        "\n",
        "The gates allows to forget certain points of the hidden states.\n",
        "\n",
        "The simplified version of the equations are as follows\n",
        "\n",
        "<center><img src='images/gru.png'></center>\n",
        "\n",
        "Here we say that $C^t = a^t = h^t$ meaning that that output state/hidden state are the same\n",
        "\n",
        "The parameter $\\tilde{C}$ is the candidate to replace vector, which will include the candidate hidden state\n",
        "\n",
        "$$\\tilde{C} = tanh(W_c [C^{t-1}, X^t] + b_c)$$\n",
        "\n",
        "The gate $\\Gamma_u$ is the gate that will tell which to forget of the last state and which to remember.\n",
        "\n",
        "$$\\Gamma_u = \\sigma(W_u [C^{t-1}, X^t] + b_u)$$\n",
        "\n",
        "The parameter $C^t$ includes the final output of the cell\n",
        "\n",
        "$$C^t = \\Gamma_u*\\tilde{C} + (1-\\Gamma_u)* C^{t-1}$$\n",
        "\n",
        "So:\n",
        "\n",
        "- if $\\Gamma_u=0$ then $C^t = C^{t-1}$\n",
        "- if $\\Gamma_u=1$ then $C^t = \\tilde{C}$"
      ]
    },
    {
      "cell_type": "markdown",
      "source": [
        "## ♻ Text Vectorization\n",
        "  * **Token Indexing**: Convert tokens to numerical indices.\n",
        "  * **Padding**: Ensure all sequences have the same length by padding shorter sequences."
      ],
      "metadata": {
        "id": "a_oAlaVV_teV"
      }
    },
    {
      "cell_type": "code",
      "source": [
        "# Parameters\n",
        "max_seq_length = 100\n",
        "embedding_dim = 100"
      ],
      "metadata": {
        "id": "vaHKLesu_6tN"
      },
      "execution_count": null,
      "outputs": []
    },
    {
      "cell_type": "code",
      "source": [
        "# Tokenization and Padding\n",
        "# Tokenizer to convert text to sequences\n",
        "tokenizer = Tokenizer()\n",
        "tokenizer.fit_on_texts(x_train[\"text\"])\n",
        "\n",
        "#  word index\n",
        "word_index = tokenizer.word_index\n",
        "total_words = len(word_index) + 1\n",
        "print(f\"Total words in the dataset: {total_words}\")\n",
        "\n"
      ],
      "metadata": {
        "id": "YpCkbCcoG4ME",
        "colab": {
          "base_uri": "https://localhost:8080/"
        },
        "outputId": "46808abb-d0bb-45c4-d9a1-238d66d6454a"
      },
      "execution_count": null,
      "outputs": [
        {
          "output_type": "stream",
          "name": "stdout",
          "text": [
            "Total words in the dataset: 63118\n"
          ]
        }
      ]
    },
    {
      "cell_type": "code",
      "source": [
        "# Get word frequencies\n",
        "word_counts = tokenizer.word_counts\n",
        "sorted_word_counts = sorted(word_counts.items(), key=lambda x: x[1], reverse=True)\n",
        "\n",
        "# Determine a suitable max_vocab_size based on a desired percentile or cutoff\n",
        "cutoff_percentile = 95  # Keep top 95% of the words\n",
        "cutoff_index = int(total_words * (cutoff_percentile / 100))\n",
        "max_vocab_size = len([word for word, count in sorted_word_counts[:cutoff_index]])\n",
        "\n",
        "# Refit tokenizer with limited vocab size\n",
        "tokenizer = Tokenizer(num_words=max_vocab_size)\n",
        "tokenizer.fit_on_texts(x_train[\"text\"])\n"
      ],
      "metadata": {
        "id": "GGjhpzfjIDJZ"
      },
      "execution_count": null,
      "outputs": []
    },
    {
      "cell_type": "code",
      "source": [
        "# Convert texts to sequences\n",
        "X_train_seq = tokenizer.texts_to_sequences(x_train['text'])\n",
        "X_val_seq = tokenizer.texts_to_sequences(x_val['text'])\n",
        "X_test_seq = tokenizer.texts_to_sequences(x_test['text'])"
      ],
      "metadata": {
        "id": "BvV-4bPV_6mZ"
      },
      "execution_count": null,
      "outputs": []
    },
    {
      "cell_type": "code",
      "source": [
        "# Pad sequences\n",
        "X_train_pad = pad_sequences(X_train_seq, maxlen=max_seq_length, padding='post')\n",
        "X_val_pad = pad_sequences(X_val_seq, maxlen=max_seq_length, padding='post')\n",
        "X_test_pad = pad_sequences(X_test_seq, maxlen=max_seq_length, padding='post')"
      ],
      "metadata": {
        "id": "5w0IjV8O_6jj"
      },
      "execution_count": null,
      "outputs": []
    },
    {
      "cell_type": "code",
      "source": [
        " #Check the shape of the padded sequences to confirm they match with the labels\n",
        "print(f\"X_train_pad shape: {X_train_pad.shape}\")\n",
        "print(f\"X_val_pad shape: {X_val_pad.shape}\")\n",
        "print(f\"X_test_pad shape: {X_test_pad.shape}\")"
      ],
      "metadata": {
        "colab": {
          "base_uri": "https://localhost:8080/"
        },
        "id": "QCNx8UCwc0Bg",
        "outputId": "39f1f67c-4e1f-4b4d-c754-245346f7f73f"
      },
      "execution_count": null,
      "outputs": [
        {
          "output_type": "stream",
          "name": "stdout",
          "text": [
            "X_train_pad shape: (113009, 100)\n",
            "X_val_pad shape: (12557, 100)\n",
            "X_test_pad shape: (22159, 100)\n"
          ]
        }
      ]
    },
    {
      "cell_type": "code",
      "source": [
        "np.unique (y_train)"
      ],
      "metadata": {
        "colab": {
          "base_uri": "https://localhost:8080/"
        },
        "id": "m1dXwTNbXUjh",
        "outputId": "1bdbbe33-0d3f-461d-9d1b-a8b7ef60ab27"
      },
      "execution_count": null,
      "outputs": [
        {
          "output_type": "execute_result",
          "data": {
            "text/plain": [
              "array(['EG', 'LB', 'LY', 'MA', 'SD'], dtype=object)"
            ]
          },
          "metadata": {},
          "execution_count": 39
        }
      ]
    },
    {
      "cell_type": "code",
      "source": [
        "\n",
        "# Get the number of unique classes\n",
        "num_classes = len(np.unique(y_train))\n",
        "\n",
        "# Convert labels to categorical one-hot encoding\n",
        "y_train_cat = to_categorical (y_train_encoded, num_classes)\n",
        "y_val_cat = to_categorical(y_val_encoded, num_classes)\n",
        "y_test_cat = to_categorical(y_test_encoded, num_classes)"
      ],
      "metadata": {
        "id": "Ubhq6v4DSzQb"
      },
      "execution_count": null,
      "outputs": []
    },
    {
      "cell_type": "code",
      "source": [
        "print (y_train_cat.shape)"
      ],
      "metadata": {
        "colab": {
          "base_uri": "https://localhost:8080/"
        },
        "id": "6p6HesASdGHB",
        "outputId": "70fbd019-6287-42d3-b187-605a97aa7479"
      },
      "execution_count": null,
      "outputs": [
        {
          "output_type": "stream",
          "name": "stdout",
          "text": [
            "(113009, 5)\n"
          ]
        }
      ]
    },
    {
      "cell_type": "markdown",
      "metadata": {
        "id": "EgumQXpZws4H"
      },
      "source": [
        "### Implementing GRU in Tensorflow"
      ]
    },
    {
      "cell_type": "code",
      "execution_count": null,
      "metadata": {
        "ExecuteTime": {
          "end_time": "2021-11-10T23:13:48.911899Z",
          "start_time": "2021-11-10T23:13:48.157263Z"
        },
        "id": "q014ENjzws4H"
      },
      "outputs": [],
      "source": [
        "gru_bi = tf.keras.models.Sequential([\n",
        "    tf.keras.layers.Embedding(input_dim= max_vocab_size, output_dim=embedding_dim ,input_length=max_seq_length),\n",
        "    tf.keras.layers.Bidirectional(tf.keras.layers.GRU(128, return_sequences=True)),\n",
        "    tf.keras.layers. Dropout(0.3),\n",
        "    tf.keras.layers.Bidirectional(tf.keras.layers.GRU(64, return_sequences=True)),\n",
        "    tf.keras.layers. Dropout(0.3),\n",
        "    tf.keras.layers.Bidirectional(tf.keras.layers.GRU(64)),\n",
        "    tf.keras.layers.Dense(64, activation='relu'),\n",
        "    tf.keras.layers.Dense(num_classes, activation='softmax')\n",
        "])"
      ]
    },
    {
      "cell_type": "code",
      "source": [
        "gru_bi.summary()"
      ],
      "metadata": {
        "id": "FYcY-ulzYonq",
        "colab": {
          "base_uri": "https://localhost:8080/"
        },
        "outputId": "6ee7829e-87c1-40a6-bf49-5b7e4a300204"
      },
      "execution_count": null,
      "outputs": [
        {
          "output_type": "stream",
          "name": "stdout",
          "text": [
            "Model: \"sequential_1\"\n",
            "_________________________________________________________________\n",
            " Layer (type)                Output Shape              Param #   \n",
            "=================================================================\n",
            " embedding_1 (Embedding)     (None, 100, 100)          5996200   \n",
            "                                                                 \n",
            " bidirectional_3 (Bidirecti  (None, 100, 256)          176640    \n",
            " onal)                                                           \n",
            "                                                                 \n",
            " dropout_2 (Dropout)         (None, 100, 256)          0         \n",
            "                                                                 \n",
            " bidirectional_4 (Bidirecti  (None, 100, 128)          123648    \n",
            " onal)                                                           \n",
            "                                                                 \n",
            " dropout_3 (Dropout)         (None, 100, 128)          0         \n",
            "                                                                 \n",
            " bidirectional_5 (Bidirecti  (None, 128)               74496     \n",
            " onal)                                                           \n",
            "                                                                 \n",
            " dense_2 (Dense)             (None, 64)                8256      \n",
            "                                                                 \n",
            " dense_3 (Dense)             (None, 5)                 325       \n",
            "                                                                 \n",
            "=================================================================\n",
            "Total params: 6379565 (24.34 MB)\n",
            "Trainable params: 6379565 (24.34 MB)\n",
            "Non-trainable params: 0 (0.00 Byte)\n",
            "_________________________________________________________________\n"
          ]
        }
      ]
    },
    {
      "cell_type": "code",
      "execution_count": null,
      "metadata": {
        "ExecuteTime": {
          "end_time": "2021-11-10T23:13:48.920442Z",
          "start_time": "2021-11-10T23:13:48.913216Z"
        },
        "id": "95XEvG_Qws4H"
      },
      "outputs": [],
      "source": [
        "gru_bi.compile(optimizer='adam', loss='categorical_crossentropy', metrics=['accuracy'])\n"
      ]
    },
    {
      "cell_type": "markdown",
      "source": [
        "Handling Imbalnced Classes"
      ],
      "metadata": {
        "id": "hXsLxImtZcc4"
      }
    },
    {
      "cell_type": "code",
      "source": [
        "from sklearn.utils import class_weight\n",
        "\n",
        "# Compute class weights\n",
        "class_weights = class_weight.compute_class_weight(\n",
        "    class_weight='balanced',\n",
        "    classes=np.unique(y_train_encoded),\n",
        "    y= y_train_encoded\n",
        ")\n",
        "\n",
        "# Convert the class weights to a dictionary format required by Keras\n",
        "class_weights = {i: weight for i, weight in enumerate(class_weights)}\n",
        "class_weights"
      ],
      "metadata": {
        "colab": {
          "base_uri": "https://localhost:8080/"
        },
        "id": "8VexFKfIZFH7",
        "outputId": "ac15fd20-52e7-429a-ddb5-add54cb581e8"
      },
      "execution_count": null,
      "outputs": [
        {
          "output_type": "execute_result",
          "data": {
            "text/plain": [
              "{0: 0.5126054613081739,\n",
              " 1: 1.0698064088606996,\n",
              " 2: 0.8094910640736364,\n",
              " 3: 2.5605301914580263,\n",
              " 4: 2.0468936786813985}"
            ]
          },
          "metadata": {},
          "execution_count": 51
        }
      ]
    },
    {
      "cell_type": "markdown",
      "source": [
        "**Model Training 🏃**"
      ],
      "metadata": {
        "id": "0SAVZqprIufV"
      }
    },
    {
      "cell_type": "code",
      "execution_count": null,
      "metadata": {
        "ExecuteTime": {
          "end_time": "2021-11-10T23:14:35.024289Z",
          "start_time": "2021-11-10T23:13:48.921801Z"
        },
        "id": "buRmgs7Aws4H",
        "collapsed": true,
        "colab": {
          "base_uri": "https://localhost:8080/",
          "height": 1000
        },
        "outputId": "bbbf91fd-570b-4dfc-c042-76a52ec81e06"
      },
      "outputs": [
        {
          "output_type": "display_data",
          "data": {
            "text/plain": [
              "<Figure size 1200x800 with 2 Axes>"
            ],
            "image/png": "[encoded data removed]"
          },
          "metadata": {}
        },
        {
          "output_type": "stream",
          "name": "stdout",
          "text": [
            "accuracy\n",
            "\ttraining         \t (min:    0.925, max:    0.958, cur:    0.958)\n",
            "\tvalidation       \t (min:    0.711, max:    0.733, cur:    0.733)\n",
            "Loss\n",
            "\ttraining         \t (min:    0.094, max:    0.174, cur:    0.094)\n",
            "\tvalidation       \t (min:    1.211, max:    1.646, cur:    1.582)\n",
            "\n",
            "Epoch 10: val_loss did not improve from 1.21115\n",
            "1766/1766 [==============================] - 53s 30ms/step - loss: 0.0939 - accuracy: 0.9580 - val_loss: 1.5824 - val_accuracy: 0.7328\n",
            "CPU times: user 9min 37s, sys: 26.6 s, total: 10min 3s\n",
            "Wall time: 10min 22s\n"
          ]
        }
      ],
      "source": [
        "%%time\n",
        "chkpt = ModelCheckpoint(\"model_weights.h5\", monitor='val_loss',verbose=1, save_best_only=True, save_weights_only=True, mode='min')\n",
        "\n",
        "early_stopping = EarlyStopping(monitor='val_accuracy', min_delta=0, patience=10, verbose=0, mode='max', baseline=None, restore_best_weights=False)\n",
        "\n",
        "callbacks = [PlotLossesCallback(), chkpt, early_stopping]\n",
        "\n",
        "history_GRU = gru_bi.fit(X_train_pad, y_train_cat, epochs= 10, batch_size= 64,\n",
        "                    validation_data=(X_val_pad, y_val_cat),\n",
        "                    validation_steps=10,\n",
        "                    class_weight=class_weights,\n",
        "                    callbacks=callbacks)"
      ]
    },
    {
      "cell_type": "markdown",
      "source": [
        "🔭 **Model Evaluation**"
      ],
      "metadata": {
        "id": "cVdIxpJWwsHs"
      }
    },
    {
      "cell_type": "code",
      "source": [
        "test_loss, test_acc = gru_bi.evaluate(X_test_pad, y_test_cat)\n",
        "\n",
        "print('Test Loss: {}'.format(test_loss))\n",
        "print('Test Accuracy: {}'.format(test_acc))"
      ],
      "metadata": {
        "id": "8_0IlLf53pHA",
        "colab": {
          "base_uri": "https://localhost:8080/"
        },
        "outputId": "7fbc7df3-8bc4-4de3-c226-d05b07897b0d"
      },
      "execution_count": null,
      "outputs": [
        {
          "output_type": "stream",
          "name": "stdout",
          "text": [
            "693/693 [==============================] - 8s 11ms/step - loss: 1.4914 - accuracy: 0.7221\n",
            "Test Loss: 1.4913619756698608\n",
            "Test Accuracy: 0.7220993638038635\n"
          ]
        }
      ]
    },
    {
      "cell_type": "code",
      "source": [
        "y_test_pred_gru_bi = gru_bi.predict(X_test_pad)"
      ],
      "metadata": {
        "outputId": "d41ae20c-9ef5-4f0c-e687-4264f8e522bc",
        "colab": {
          "base_uri": "https://localhost:8080/"
        },
        "id": "KSNG1SRaQPhm"
      },
      "execution_count": null,
      "outputs": [
        {
          "output_type": "stream",
          "name": "stdout",
          "text": [
            "693/693 [==============================] - 8s 10ms/step\n"
          ]
        }
      ]
    },
    {
      "cell_type": "code",
      "source": [
        "precision = precision_score(y_test_encoded, np.argmax(y_test_pred_gru_bi ,axis=1) , average='macro')\n",
        "print(f'Precision: {precision:.4f}')"
      ],
      "metadata": {
        "colab": {
          "base_uri": "https://localhost:8080/"
        },
        "outputId": "584c95c4-7bca-477f-e51a-5bfd8818eca7",
        "id": "1EwA9O9JQPhw"
      },
      "execution_count": null,
      "outputs": [
        {
          "output_type": "stream",
          "name": "stdout",
          "text": [
            "Precision: 0.6660\n"
          ]
        }
      ]
    },
    {
      "cell_type": "code",
      "source": [
        "print(classification_report(y_test_encoded,  np.argmax(y_test_pred_gru_bi ,axis=1) , target_names=label_encoder.classes_))"
      ],
      "metadata": {
        "colab": {
          "base_uri": "https://localhost:8080/"
        },
        "outputId": "908a33f5-6b8e-4ea5-c149-46118697ea7c",
        "id": "28HzCTCZQPhw"
      },
      "execution_count": null,
      "outputs": [
        {
          "output_type": "stream",
          "name": "stdout",
          "text": [
            "              precision    recall  f1-score   support\n",
            "\n",
            "          EG       0.84      0.76      0.80      8645\n",
            "          LB       0.71      0.78      0.74      4143\n",
            "          LY       0.73      0.70      0.71      5475\n",
            "          MA       0.56      0.64      0.60      1731\n",
            "          SD       0.49      0.57      0.53      2165\n",
            "\n",
            "    accuracy                           0.72     22159\n",
            "   macro avg       0.67      0.69      0.68     22159\n",
            "weighted avg       0.73      0.72      0.73     22159\n",
            "\n"
          ]
        }
      ]
    },
    {
      "cell_type": "code",
      "source": [
        "gru_bi.save('gru_arabic_dialect_model.h5')"
      ],
      "metadata": {
        "id": "Wm3Bmnpgpu-w",
        "colab": {
          "base_uri": "https://localhost:8080/"
        },
        "outputId": "950a2999-7a85-4a29-88e6-ba2e23cc5a52"
      },
      "execution_count": null,
      "outputs": [
        {
          "output_type": "stream",
          "name": "stderr",
          "text": [
            "/usr/local/lib/python3.10/dist-packages/keras/src/engine/training.py:3103: UserWarning: You are saving your model as an HDF5 file via `model.save()`. This file format is considered legacy. We recommend using instead the native Keras format, e.g. `model.save('my_model.keras')`.\n",
            "  saving_api.save_model(\n"
          ]
        }
      ]
    },
    {
      "cell_type": "markdown",
      "source": [
        "\n",
        "## Long Short Term Memory (LSTM)\n",
        "\n",
        "The lstm offers a long term memory component beside the short term one, and thus enables your model to remember things that he have seen way far in the past, let's go through the idea of the LSTM.\n",
        "\n",
        "\n",
        "First the candidate new memory is calculated via the following equation\n",
        "\n",
        "$$\\tilde{C} = tanh(W_c [a^{t-1}, x^t] + b_c) $$\n",
        "\n",
        "Here we simply take the last activation output (or the short term memory) and calculate what is the candidate of it to be remembered.\n",
        "\n",
        "Then we have three gates here, update, forget and output, let's examine their equations.\n",
        "\n",
        "> update gate\n",
        "$$ \\Gamma_u = \\sigma(W_u [a^{t-1}, x^t] + b_u)$$\n",
        "\n",
        "---\n",
        "\n",
        "> forget gate\n",
        "$$\\Gamma_f = \\sigma(W_f [a^{t-1}, x^t] + b_f)$$\n",
        "\n",
        "---\n",
        "\n",
        "> output gate\n",
        "$$\\Gamma_o = \\sigma(W_o [a^{t-1}, x^t] + b_o)$$\n",
        "\n",
        "---\n",
        "\n",
        "So the three gates learn to remember, forget and update which parts of the hidden state, thus enable our model to work with relatively long sequences.\n",
        "\n",
        "Now to the outputs of our cell\n",
        "\n",
        "> the long term memory\n",
        "$$C^t = \\Gamma_u*\\tilde{C} + \\Gamma_f*C^{t-1}$$\n",
        "\n",
        "So basically update these new values that i have just learned $\\Gamma_u*\\tilde{C}$ ,and keep from the last memory what the forget gate tells you $\\Gamma_f*C^{t-1}$\n",
        "\n",
        "> the short term memory\n",
        "$$a^t = \\Gamma_o*tanh(C^t)$$\n",
        "\n",
        "just an activation function applied to the short memory learned in this step, and of course based only on the output of the $\\Gamma_o$ gate.\n",
        "\n",
        "> the output for this cell (aka prediction)\n",
        "$$y^t = softmax(w_y.a^t + b_y)$$\n",
        "\n",
        "And these together allows the LSTM to work with the large sequences without forgetting what was in the very first of the sentence, thus it can work with long sequences."
      ],
      "metadata": {
        "id": "OM2ZPh1TraDJ"
      }
    },
    {
      "cell_type": "markdown",
      "source": [
        "### Implementing LSTM in Tensorflow"
      ],
      "metadata": {
        "id": "wDjNt2tdwZBW"
      }
    },
    {
      "cell_type": "code",
      "source": [
        "lstm_bi = tf.keras.models.Sequential([\n",
        "    tf.keras.layers.Embedding(input_dim= max_vocab_size, output_dim=embedding_dim ,input_length=max_seq_length),\n",
        "    tf.keras.layers.Bidirectional(tf.keras.layers.LSTM (128, return_sequences=True)),\n",
        "    tf.keras.layers. Dropout(0.3),\n",
        "    tf.keras.layers.Bidirectional(tf.keras.layers.LSTM (64, return_sequences=True)),\n",
        "    tf.keras.layers. Dropout(0.3),\n",
        "    tf.keras.layers.Bidirectional(tf.keras.layers.LSTM (64)),\n",
        "    tf.keras.layers.Dense(64, activation='relu'),\n",
        "    tf.keras.layers.Dense(num_classes, activation='softmax')\n",
        "])"
      ],
      "metadata": {
        "id": "HZHjerLkrY2l"
      },
      "execution_count": null,
      "outputs": []
    },
    {
      "cell_type": "code",
      "source": [
        "lstm_bi.compile(optimizer='adam', loss='categorical_crossentropy', metrics=['accuracy'])"
      ],
      "metadata": {
        "id": "4tW36Ufopu8G"
      },
      "execution_count": null,
      "outputs": []
    },
    {
      "cell_type": "markdown",
      "source": [
        "**Model Training 🏃**"
      ],
      "metadata": {
        "id": "i1LdeJLiwDTx"
      }
    },
    {
      "cell_type": "code",
      "execution_count": null,
      "metadata": {
        "ExecuteTime": {
          "end_time": "2021-11-10T23:14:35.024289Z",
          "start_time": "2021-11-10T23:13:48.921801Z"
        },
        "collapsed": true,
        "id": "Xh4v6X8wwDTz",
        "colab": {
          "base_uri": "https://localhost:8080/",
          "height": 1000
        },
        "outputId": "db628a7f-06fa-4532-ba2f-f1b4262ce103"
      },
      "outputs": [
        {
          "output_type": "display_data",
          "data": {
            "text/plain": [
              "<Figure size 1200x800 with 2 Axes>"
            ],
            "image/png": "[encoded data removed]"
          },
          "metadata": {}
        },
        {
          "output_type": "stream",
          "name": "stdout",
          "text": [
            "accuracy\n",
            "\ttraining         \t (min:    0.965, max:    0.980, cur:    0.980)\n",
            "\tvalidation       \t (min:    0.706, max:    0.736, cur:    0.723)\n",
            "Loss\n",
            "\ttraining         \t (min:    0.045, max:    0.077, cur:    0.045)\n",
            "\tvalidation       \t (min:    1.737, max:    2.036, cur:    2.012)\n",
            "\n",
            "Epoch 10: val_loss did not improve from 1.73663\n",
            "1766/1766 [==============================] - 55s 31ms/step - loss: 0.0451 - accuracy: 0.9800 - val_loss: 2.0118 - val_accuracy: 0.7234\n",
            "CPU times: user 9min 53s, sys: 31.4 s, total: 10min 25s\n",
            "Wall time: 9min 22s\n"
          ]
        }
      ],
      "source": [
        "%%time\n",
        "chkpt = ModelCheckpoint(\"model_weights.h5\", monitor='val_loss',verbose=1, save_best_only=True, save_weights_only=True, mode='min')\n",
        "\n",
        "early_stopping = EarlyStopping(monitor='val_accuracy', min_delta=0, patience=10, verbose=0, mode='max', baseline=None, restore_best_weights=False)\n",
        "\n",
        "callbacks = [PlotLossesCallback(), chkpt, early_stopping]\n",
        "\n",
        "history_lstm = lstm_bi.fit(X_train_pad, y_train_cat, epochs= 10, batch_size= 64,\n",
        "                    validation_data=(X_val_pad, y_val_cat),\n",
        "                    validation_steps=10,\n",
        "                    class_weight=class_weights,\n",
        "                    callbacks=callbacks)"
      ]
    },
    {
      "cell_type": "markdown",
      "source": [
        "🔭 **Model Evaluation**"
      ],
      "metadata": {
        "id": "JTxyNMdExqGg"
      }
    },
    {
      "cell_type": "code",
      "source": [
        "test_loss_lstm, test_acc_lstm = lstm_bi.evaluate(X_test_pad, y_test_cat)\n",
        "\n",
        "print('Test Loss: {}'.format(test_loss_lstm))\n",
        "print('Test Accuracy: {}'.format(test_acc_lstm))"
      ],
      "metadata": {
        "colab": {
          "base_uri": "https://localhost:8080/"
        },
        "outputId": "95b1871b-00bb-4780-f5bd-fc183553673a",
        "id": "ShD-1EG2KuKQ"
      },
      "execution_count": null,
      "outputs": [
        {
          "output_type": "stream",
          "name": "stdout",
          "text": [
            "693/693 [==============================] - 8s 11ms/step - loss: 1.9125 - accuracy: 0.7162\n",
            "Test Loss: 1.9124971628189087\n",
            "Test Accuracy: 0.7161875367164612\n"
          ]
        }
      ]
    },
    {
      "cell_type": "code",
      "source": [
        "y_test_pred_lstm = lstm_bi.predict(X_test_pad)"
      ],
      "metadata": {
        "colab": {
          "base_uri": "https://localhost:8080/"
        },
        "id": "UzFDF4EAPynW",
        "outputId": "9c356e89-ff54-4acd-9dd6-a46dd0af25a3"
      },
      "execution_count": null,
      "outputs": [
        {
          "output_type": "stream",
          "name": "stdout",
          "text": [
            "693/693 [==============================] - 7s 10ms/step\n"
          ]
        }
      ]
    },
    {
      "cell_type": "code",
      "source": [
        "precision = precision_score(y_test_encoded, np.argmax(y_test_pred_lstm ,axis=1) , average='macro')\n",
        "print(f'Precision: {precision:.4f}')"
      ],
      "metadata": {
        "id": "jCtxNwtV4Kzx",
        "colab": {
          "base_uri": "https://localhost:8080/"
        },
        "outputId": "5439a870-cbd3-4dc5-eb79-7a43bdf0a4c5"
      },
      "execution_count": null,
      "outputs": [
        {
          "output_type": "stream",
          "name": "stdout",
          "text": [
            "Precision: 0.6617\n"
          ]
        }
      ]
    },
    {
      "cell_type": "code",
      "source": [
        "print(classification_report(y_test_encoded,  np.argmax(y_test_pred_lstm ,axis=1) , target_names=label_encoder.classes_))"
      ],
      "metadata": {
        "id": "Jys33QbU4Kzx",
        "colab": {
          "base_uri": "https://localhost:8080/"
        },
        "outputId": "c5008991-b58b-4e8b-8756-e125a6dcb4dd"
      },
      "execution_count": null,
      "outputs": [
        {
          "output_type": "stream",
          "name": "stdout",
          "text": [
            "              precision    recall  f1-score   support\n",
            "\n",
            "          EG       0.83      0.76      0.79      8645\n",
            "          LB       0.72      0.76      0.74      4143\n",
            "          LY       0.71      0.71      0.71      5475\n",
            "          MA       0.57      0.64      0.60      1731\n",
            "          SD       0.48      0.56      0.52      2165\n",
            "\n",
            "    accuracy                           0.72     22159\n",
            "   macro avg       0.66      0.68      0.67     22159\n",
            "weighted avg       0.73      0.72      0.72     22159\n",
            "\n"
          ]
        }
      ]
    },
    {
      "cell_type": "code",
      "source": [
        "lstm_bi.save('LSTM_arabic_dialect_model.h5')"
      ],
      "metadata": {
        "id": "cxLFiHdJpreH",
        "colab": {
          "base_uri": "https://localhost:8080/"
        },
        "outputId": "11a26260-9932-4a5b-c922-9df1f20dc5a7"
      },
      "execution_count": null,
      "outputs": [
        {
          "output_type": "stream",
          "name": "stderr",
          "text": [
            "/usr/local/lib/python3.10/dist-packages/keras/src/engine/training.py:3103: UserWarning: You are saving your model as an HDF5 file via `model.save()`. This file format is considered legacy. We recommend using instead the native Keras format, e.g. `model.save('my_model.keras')`.\n",
            "  saving_api.save_model(\n"
          ]
        }
      ]
    },
    {
      "cell_type": "markdown",
      "source": [
        "## The Best model is LogisticRegression  with F1_Score : 0.73 %  so i will use it in deployment"
      ],
      "metadata": {
        "id": "zSWGw2iLQpWm"
      }
    },
    {
      "cell_type": "markdown",
      "source": [
        "## Make pipeline on LogisticRegression  and save it"
      ],
      "metadata": {
        "id": "aalLEIGm3Uox"
      }
    },
    {
      "cell_type": "code",
      "source": [
        "# Create a pipeline\n",
        "pipeline = Pipeline([\n",
        "    ('tfidf', TfidfVectorizer()),\n",
        "    ('logreg', LogisticRegression(max_iter=1000, random_state=42))\n",
        "])"
      ],
      "metadata": {
        "id": "UbJYwSz73tIH"
      },
      "execution_count": 49,
      "outputs": []
    },
    {
      "cell_type": "code",
      "source": [
        "pipeline.fit(x_train['text'], y_train_encoded)"
      ],
      "metadata": {
        "id": "dIpAZJpd4URJ",
        "outputId": "8c3b413a-e80d-4fc1-ef65-2b2b76d4e2a6",
        "colab": {
          "base_uri": "https://localhost:8080/",
          "height": 126
        }
      },
      "execution_count": 50,
      "outputs": [
        {
          "output_type": "execute_result",
          "data": {
            "text/plain": [
              "Pipeline(steps=[('tfidf', TfidfVectorizer()),\n",
              "                ('logreg', LogisticRegression(max_iter=1000, random_state=42))])"
            ],
            "text/html": [
              "<style>#sk-container-id-5 {color: black;background-color: white;}#sk-container-id-5 pre{padding: 0;}#sk-container-id-5 div.sk-toggleable {background-color: white;}#sk-container-id-5 label.sk-toggleable__label {cursor: pointer;display: block;width: 100%;margin-bottom: 0;padding: 0.3em;box-sizing: border-box;text-align: center;}#sk-container-id-5 label.sk-toggleable__label-arrow:before {content: \"▸\";float: left;margin-right: 0.25em;color: #696969;}#sk-container-id-5 label.sk-toggleable__label-arrow:hover:before {color: black;}#sk-container-id-5 div.sk-estimator:hover label.sk-toggleable__label-arrow:before {color: black;}#sk-container-id-5 div.sk-toggleable__content {max-height: 0;max-width: 0;overflow: hidden;text-align: left;background-color: #f0f8ff;}#sk-container-id-5 div.sk-toggleable__content pre {margin: 0.2em;color: black;border-radius: 0.25em;background-color: #f0f8ff;}#sk-container-id-5 input.sk-toggleable__control:checked~div.sk-toggleable__content {max-height: 200px;max-width: 100%;overflow: auto;}#sk-container-id-5 input.sk-toggleable__control:checked~label.sk-toggleable__label-arrow:before {content: \"▾\";}#sk-container-id-5 div.sk-estimator input.sk-toggleable__control:checked~label.sk-toggleable__label {background-color: #d4ebff;}#sk-container-id-5 div.sk-label input.sk-toggleable__control:checked~label.sk-toggleable__label {background-color: #d4ebff;}#sk-container-id-5 input.sk-hidden--visually {border: 0;clip: rect(1px 1px 1px 1px);clip: rect(1px, 1px, 1px, 1px);height: 1px;margin: -1px;overflow: hidden;padding: 0;position: absolute;width: 1px;}#sk-container-id-5 div.sk-estimator {font-family: monospace;background-color: #f0f8ff;border: 1px dotted black;border-radius: 0.25em;box-sizing: border-box;margin-bottom: 0.5em;}#sk-container-id-5 div.sk-estimator:hover {background-color: #d4ebff;}#sk-container-id-5 div.sk-parallel-item::after {content: \"\";width: 100%;border-bottom: 1px solid gray;flex-grow: 1;}#sk-container-id-5 div.sk-label:hover label.sk-toggleable__label {background-color: #d4ebff;}#sk-container-id-5 div.sk-serial::before {content: \"\";position: absolute;border-left: 1px solid gray;box-sizing: border-box;top: 0;bottom: 0;left: 50%;z-index: 0;}#sk-container-id-5 div.sk-serial {display: flex;flex-direction: column;align-items: center;background-color: white;padding-right: 0.2em;padding-left: 0.2em;position: relative;}#sk-container-id-5 div.sk-item {position: relative;z-index: 1;}#sk-container-id-5 div.sk-parallel {display: flex;align-items: stretch;justify-content: center;background-color: white;position: relative;}#sk-container-id-5 div.sk-item::before, #sk-container-id-5 div.sk-parallel-item::before {content: \"\";position: absolute;border-left: 1px solid gray;box-sizing: border-box;top: 0;bottom: 0;left: 50%;z-index: -1;}#sk-container-id-5 div.sk-parallel-item {display: flex;flex-direction: column;z-index: 1;position: relative;background-color: white;}#sk-container-id-5 div.sk-parallel-item:first-child::after {align-self: flex-end;width: 50%;}#sk-container-id-5 div.sk-parallel-item:last-child::after {align-self: flex-start;width: 50%;}#sk-container-id-5 div.sk-parallel-item:only-child::after {width: 0;}#sk-container-id-5 div.sk-dashed-wrapped {border: 1px dashed gray;margin: 0 0.4em 0.5em 0.4em;box-sizing: border-box;padding-bottom: 0.4em;background-color: white;}#sk-container-id-5 div.sk-label label {font-family: monospace;font-weight: bold;display: inline-block;line-height: 1.2em;}#sk-container-id-5 div.sk-label-container {text-align: center;}#sk-container-id-5 div.sk-container {/* jupyter's `normalize.less` sets `[hidden] { display: none; }` but bootstrap.min.css set `[hidden] { display: none !important; }` so we also need the `!important` here to be able to override the default hidden behavior on the sphinx rendered scikit-learn.org. See: https://github.com/scikit-learn/scikit-learn/issues/21755 */display: inline-block !important;position: relative;}#sk-container-id-5 div.sk-text-repr-fallback {display: none;}</style><div id=\"sk-container-id-5\" class=\"sk-top-container\"><div class=\"sk-text-repr-fallback\"><pre>Pipeline(steps=[(&#x27;tfidf&#x27;, TfidfVectorizer()),\n",
              "                (&#x27;logreg&#x27;, LogisticRegression(max_iter=1000, random_state=42))])</pre><b>In a Jupyter environment, please rerun this cell to show the HTML representation or trust the notebook. <br />On GitHub, the HTML representation is unable to render, please try loading this page with nbviewer.org.</b></div><div class=\"sk-container\" hidden><div class=\"sk-item sk-dashed-wrapped\"><div class=\"sk-label-container\"><div class=\"sk-label sk-toggleable\"><input class=\"sk-toggleable__control sk-hidden--visually\" id=\"sk-estimator-id-5\" type=\"checkbox\" ><label for=\"sk-estimator-id-5\" class=\"sk-toggleable__label sk-toggleable__label-arrow\">Pipeline</label><div class=\"sk-toggleable__content\"><pre>Pipeline(steps=[(&#x27;tfidf&#x27;, TfidfVectorizer()),\n",
              "                (&#x27;logreg&#x27;, LogisticRegression(max_iter=1000, random_state=42))])</pre></div></div></div><div class=\"sk-serial\"><div class=\"sk-item\"><div class=\"sk-estimator sk-toggleable\"><input class=\"sk-toggleable__control sk-hidden--visually\" id=\"sk-estimator-id-6\" type=\"checkbox\" ><label for=\"sk-estimator-id-6\" class=\"sk-toggleable__label sk-toggleable__label-arrow\">TfidfVectorizer</label><div class=\"sk-toggleable__content\"><pre>TfidfVectorizer()</pre></div></div></div><div class=\"sk-item\"><div class=\"sk-estimator sk-toggleable\"><input class=\"sk-toggleable__control sk-hidden--visually\" id=\"sk-estimator-id-7\" type=\"checkbox\" ><label for=\"sk-estimator-id-7\" class=\"sk-toggleable__label sk-toggleable__label-arrow\">LogisticRegression</label><div class=\"sk-toggleable__content\"><pre>LogisticRegression(max_iter=1000, random_state=42)</pre></div></div></div></div></div></div></div>"
            ]
          },
          "metadata": {},
          "execution_count": 50
        }
      ]
    },
    {
      "cell_type": "code",
      "source": [
        "# Evaluate on test set\n",
        "y_test_pred = pipeline.predict(x_test['text'])\n",
        "test_accuracy = accuracy_score(y_test_encoded, y_test_pred)\n",
        "print(f'Test Accuracy: {test_accuracy:.4f}')"
      ],
      "metadata": {
        "id": "rMvgor_C3tEt",
        "outputId": "d7f08167-73de-4ceb-8463-eeee3b19e542",
        "colab": {
          "base_uri": "https://localhost:8080/"
        }
      },
      "execution_count": 51,
      "outputs": [
        {
          "output_type": "stream",
          "name": "stdout",
          "text": [
            "Test Accuracy: 0.7767\n"
          ]
        }
      ]
    },
    {
      "cell_type": "code",
      "source": [
        "precision = precision_score(y_test_encoded, y_test_pred, average='macro')\n",
        "print(f'Precision: {precision:.4f}')"
      ],
      "metadata": {
        "id": "jdmh2sPA7v09",
        "outputId": "c4ca0855-6204-44d2-bc3d-47fd36f708a9",
        "colab": {
          "base_uri": "https://localhost:8080/"
        }
      },
      "execution_count": 52,
      "outputs": [
        {
          "output_type": "stream",
          "name": "stdout",
          "text": [
            "Precision: 0.7861\n"
          ]
        }
      ]
    },
    {
      "cell_type": "code",
      "source": [
        "print(\"classification_report using LogisticRegression : \")\n",
        "print(classification_report(y_test_encoded, y_test_pred, target_names=label_encoder.classes_))"
      ],
      "metadata": {
        "colab": {
          "base_uri": "https://localhost:8080/"
        },
        "id": "fT3qT1ZVYfye",
        "outputId": "add2aacb-46aa-4e36-f317-98ca0f8b53ef"
      },
      "execution_count": 53,
      "outputs": [
        {
          "output_type": "stream",
          "name": "stdout",
          "text": [
            "classification_report using LogisticRegression : \n",
            "              precision    recall  f1-score   support\n",
            "\n",
            "          EG       0.79      0.89      0.84      8628\n",
            "          LB       0.81      0.77      0.79      4137\n",
            "          LY       0.72      0.78      0.75      5466\n",
            "          MA       0.83      0.58      0.68      1727\n",
            "          SD       0.78      0.49      0.60      2156\n",
            "\n",
            "    accuracy                           0.78     22114\n",
            "   macro avg       0.79      0.70      0.73     22114\n",
            "weighted avg       0.78      0.78      0.77     22114\n",
            "\n"
          ]
        }
      ]
    },
    {
      "cell_type": "code",
      "source": [
        "# Save the pipeline\n",
        "joblib.dump(pipeline, 'text_classification_pipeline.pkl')\n",
        "joblib.dump(label_encoder, 'label_encoder.pkl')"
      ],
      "metadata": {
        "id": "s23dgRqG3tCS",
        "outputId": "47f61d7f-44be-4a5b-b076-187b4bdcb1b6",
        "colab": {
          "base_uri": "https://localhost:8080/"
        }
      },
      "execution_count": 54,
      "outputs": [
        {
          "output_type": "execute_result",
          "data": {
            "text/plain": [
              "['label_encoder.pkl']"
            ]
          },
          "metadata": {},
          "execution_count": 54
        }
      ]
    },
    {
      "cell_type": "markdown",
      "source": [
        "**<p align = 'center'> Thank You 😃**"
      ],
      "metadata": {
        "id": "w1lt98W55GDT"
      }
    }
  ]
}